{
 "cells": [
  {
   "cell_type": "markdown",
   "metadata": {},
   "source": [
    "**Welcome**\n",
    "\n",
    "Escribir una función a la que se le pase una cadena del nombre de una ciudad <ciudad> y muestre por pantalla el saludo ¡hola bienvenidx a <nombre>!.\n"
   ]
  },
  {
   "cell_type": "code",
   "execution_count": 2,
   "metadata": {},
   "outputs": [
    {
     "name": "stdout",
     "output_type": "stream",
     "text": [
      "Bienvenido a Madrid\n"
     ]
    }
   ],
   "source": [
    "\n",
    "def bienvenidx(ciudad):\n",
    "    print('¡Hola bienvenidx a ' + ciudad +'!')\n",
    "    return\n",
    "\n",
    "bienvenidx('Ciudad de Mexico')\n"
   ]
  },
  {
   "cell_type": "markdown",
   "metadata": {},
   "source": [
    "**Media**\n",
    "\n",
    "Escribir una función que reciba una muestra de números en una lista y devuelva su media.\n"
   ]
  },
  {
   "cell_type": "code",
   "execution_count": 1,
   "metadata": {},
   "outputs": [
    {
     "name": "stdout",
     "output_type": "stream",
     "text": [
      "3.0\n",
      "9.866666666666667\n"
     ]
    }
   ],
   "source": [
    "def promedio(muestra):\n",
    "    return sum(muestra)/len(muestra)\n",
    "\n",
    "print(promedio([1, 2, 3, 4, 5]))\n",
    "print(promedio([2.3, 3.7, 7.8, 9.7, 15.1, 20.6]))\n"
   ]
  },
  {
   "cell_type": "markdown",
   "metadata": {},
   "source": [
    "**es_multiplo**\n",
    "\n",
    "Crea un programa que le pida dos números enteros al usuario y diga por consola, si alguno de ellos es múltiplo del otro. La función debe llamarse es_multiplo().\n"
   ]
  },
  {
   "cell_type": "code",
   "execution_count": null,
   "metadata": {},
   "outputs": [],
   "source": [
    "\n",
    "def es_multiplo(num1,num2):\n",
    "    if num1 % num2 == 0:\n",
    "        return True\n",
    "    else:\n",
    "        return False\n",
    "\n",
    "numero1 = int(input(\"Número 1:\"))\n",
    "numero2 = int(input(\"Número 2:\"))\n",
    "if es_multiplo(numero1,numero2):\n",
    "    print(numero1,\"es múltiplo de\",numero2)\n",
    "else:\n",
    "    print(numero1,\"no es múltiplo de\",numero2)\n"
   ]
  },
  {
   "cell_type": "markdown",
   "metadata": {},
   "source": [
    "**Función año bisiesto**\n",
    "\n",
    "\n",
    "*Consigna*\n",
    "\n",
    "Realizar una función llamada año_bisiesto:\n",
    "\n",
    "Recibirá un año por parámetro\n",
    "Imprimirá “El año año es bisiesto” si el año es bisiesto\n",
    "Imprimirá “El año año no es bisiesto” si el año no es bisiesto\n",
    "Si se ingresa algo que no sea número, debe indicar que se ingrese un número.\n",
    "\n",
    "*Información a tener en cuenta:*\n",
    "\n",
    "Se recuerda que los años bisiestos son múltiplos de 4, pero los múltiplos de 100 no lo son, aunque los múltiplos de 400 sí. Estos son algunos ejemplos de posibles respuestas: 2012 es bisiesto, 2010 no es bisiesto, 2000 es bisiesto, 1900 no es bisiesto.\n",
    "\n",
    "*Formato*\n",
    "\n",
    "El documento debe realizarse en Google Docs o mejor aún en Colabs.\n",
    "\n",
    "*Sugerencias*\n",
    "\n",
    "En el formulario debe estar el print de pantalla de la consola con el ejercicio resuelto, como así también el código tipeado.\n"
   ]
  },
  {
   "cell_type": "code",
   "execution_count": null,
   "metadata": {},
   "outputs": [],
   "source": []
  }
 ],
 "metadata": {
  "kernelspec": {
   "display_name": "Python 3",
   "language": "python",
   "name": "python3"
  },
  "language_info": {
   "codemirror_mode": {
    "name": "ipython",
    "version": 3
   },
   "file_extension": ".py",
   "mimetype": "text/x-python",
   "name": "python",
   "nbconvert_exporter": "python",
   "pygments_lexer": "ipython3",
   "version": "3.11.4"
  }
 },
 "nbformat": 4,
 "nbformat_minor": 2
}
