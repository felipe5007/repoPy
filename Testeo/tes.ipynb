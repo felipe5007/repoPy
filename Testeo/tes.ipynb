{
 "cells": [
  {
   "cell_type": "code",
   "execution_count": 1,
   "metadata": {},
   "outputs": [
    {
     "ename": "SyntaxError",
     "evalue": "invalid syntax. Perhaps you forgot a comma? (3476070062.py, line 1)",
     "output_type": "error",
     "traceback": [
      "\u001b[1;36m  Cell \u001b[1;32mIn[1], line 1\u001b[1;36m\u001b[0m\n\u001b[1;33m    copa: {1990:\"Alemania\" 1994:\"Brasiñ\" 1998:\"Francia\" 2002:\"Brasil\" 2006:\"Italia\"}\u001b[0m\n\u001b[1;37m                ^\u001b[0m\n\u001b[1;31mSyntaxError\u001b[0m\u001b[1;31m:\u001b[0m invalid syntax. Perhaps you forgot a comma?\n"
     ]
    }
   ],
   "source": [
    "copa: {1990:\"Alemania\" 1994:\"Brasiñ\" 1998:\"Francia\" 2002:\"Brasil\" 2006:\"Italia\"}"
   ]
  },
  {
   "cell_type": "code",
   "execution_count": 3,
   "metadata": {},
   "outputs": [],
   "source": [
    "def add(x, y):\n",
    "    return x + y"
   ]
  },
  {
   "cell_type": "code",
   "execution_count": null,
   "metadata": {},
   "outputs": [],
   "source": [
    "nombres = [\"Francisco\", \"Alejandro\", \"Ana\"]\n",
    "apellidos = [\"Perez\", \"Garcia\", \"Diaz\"]\n",
    "\n",
    "Name_Las"
   ]
  },
  {
   "cell_type": "code",
   "execution_count": 1,
   "metadata": {},
   "outputs": [
    {
     "name": "stdout",
     "output_type": "stream",
     "text": [
      "n vale 1\n",
      "n vale 2\n",
      "n vale 3\n",
      "n vale 4\n",
      "n vale 5\n",
      "n vale 6\n",
      "n vale 7\n",
      "n vale 8\n",
      "n vale 9\n",
      "n vale 10\n"
     ]
    }
   ],
   "source": [
    "n = 0\n",
    "while n < 10:\n",
    "    n += 1\n",
    "    if n == 2:\n",
    "        pass\n",
    "    print('n vale' , n)"
   ]
  },
  {
   "cell_type": "code",
   "execution_count": 4,
   "metadata": {},
   "outputs": [
    {
     "name": "stdout",
     "output_type": "stream",
     "text": [
      "n vale 1\n",
      "n vale 2\n",
      "n vale 3\n",
      "n vale 4\n",
      "n vale 5\n",
      "n vale 6\n",
      "n vale 7\n",
      "n vale 8\n",
      "n vale 9\n",
      "n vale 10\n"
     ]
    }
   ],
   "source": [
    "n = 0\n",
    "while n < 10:\n",
    "    n += 1\n",
    "    if n == 2:\n",
    "        pass\n",
    "        print('n vale' , n)"
   ]
  },
  {
   "cell_type": "code",
   "execution_count": 8,
   "metadata": {},
   "outputs": [
    {
     "name": "stdout",
     "output_type": "stream",
     "text": [
      "c vale -2\n",
      "c vale -1\n",
      "c vale 0\n",
      "c vale 1\n",
      "c vale 2\n",
      "c vale 3\n",
      "c vale 4\n",
      "c vale 5\n",
      "c vale 6\n",
      "c vale 7\n",
      "c vale 8\n",
      "c vale 9\n",
      "c vale 10\n"
     ]
    }
   ],
   "source": [
    "c = -3\n",
    "while c < 10:\n",
    "    c += 1\n",
    "    if c == 2:\n",
    "        pass\n",
    "    print('c vale', c)"
   ]
  },
  {
   "cell_type": "code",
   "execution_count": null,
   "metadata": {},
   "outputs": [],
   "source": []
  }
 ],
 "metadata": {
  "kernelspec": {
   "display_name": "Python 3",
   "language": "python",
   "name": "python3"
  },
  "language_info": {
   "codemirror_mode": {
    "name": "ipython",
    "version": 3
   },
   "file_extension": ".py",
   "mimetype": "text/x-python",
   "name": "python",
   "nbconvert_exporter": "python",
   "pygments_lexer": "ipython3",
   "version": "3.11.4"
  }
 },
 "nbformat": 4,
 "nbformat_minor": 2
}
