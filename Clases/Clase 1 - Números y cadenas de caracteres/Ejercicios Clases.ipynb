{
  "cells": [
    {
      "cell_type": "markdown",
      "metadata": {
        "id": "0I7N0oflc5Qx"
      },
      "source": [
        "## Desafío Números (10 min)\n",
        "Descripción de la actividad.\n",
        "\n",
        "En nuestro trabajo, nos solicitan desarrollar un programa que permita calcular el promedio final de los equipos de futbol en un torneo.\n",
        "Para ello, debemos considerar tres aspectos:\n",
        "\n",
        "jugaron 20 partidos durante el torneo,\n",
        "los partidos poseen diferente puntaje según el resultado, los partidos ganados 3 puntos, partido empatado 1 punto, partido perdido 0 puntos,\n",
        "el promedio final resulta de la cantidad de puntos totales divididos la cantidad de partidos\n",
        "\n",
        "La cantidad de partidos que debemos considerar a un equipo para el ejemplo se detallan a continuación:\n",
        "\n",
        "partidos_ganados 8\n",
        "partido_empatados 7\n",
        "partido_perdidos 5\n",
        "\n",
        "Importante: Cada una de las cantidades de partidos ganados, empatados o perdidos debe solicitarse al usuario utilizando la función input().\n"
      ]
    },
    {
      "cell_type": "code",
      "execution_count": 9,
      "metadata": {
        "id": "2delsCsSNT0z"
      },
      "outputs": [
        {
          "name": "stdout",
          "output_type": "stream",
          "text": [
            "11\n",
            "5\n",
            "0\n",
            "1.65\n"
          ]
        }
      ],
      "source": [
        "cantidad_partidos = 20\n",
        "total_partidos = 20\n",
        "partidos_ganados = int(input(\"Ingresa la cantidad de partidos ganados\"))\n",
        "total_partidos = total_partidos - partidos_ganados\n",
        "print(total_partidos)\n",
        "\n",
        "partidos_empatados = int(input(\"ingresa la cantidad de partidos empatados\"))\n",
        "total_partidos = total_partidos - partidos_empatados\n",
        "print(total_partidos)\n",
        "\n",
        "partidos_perdidos = int(input(\"ingresa la cantidad de partidos perdidos\"))\n",
        "total_partidos = total_partidos - partidos_perdidos\n",
        "print(total_partidos)\n",
        "\n",
        "partidos_ganados = partidos_ganados * 3 \n",
        "partidos_empatados = partidos_empatados * 1\n",
        "partidos_perdidos = partidos_perdidos * 0\n",
        "\n",
        "promedio = (partidos_ganados + partidos_empatados + partidos_perdidos) / cantidad_partidos\n",
        "print (promedio)"
      ]
    },
    {
      "cell_type": "markdown",
      "metadata": {
        "id": "cxz15r_mhcoL"
      },
      "source": [
        "# Desafío String (10 min)\n",
        "\n",
        "Dadas cuatro variables con diferentes textos (de forma individual), genera una nueva variable con el siguiente contenido:\n",
        "\n",
        "Objetivo: “Python es un lenguaje de programación versátil”\n",
        "\n",
        "Partiendo de:\n",
        "\n",
        "cadena_1  = “versátil”\n",
        "\n",
        "cadena_2  = “Python”\n",
        "\n",
        "cadena_3  = “es un lenguaje”\n",
        "\n",
        "cadena_4  = “de programación”\n"
      ]
    },
    {
      "cell_type": "code",
      "execution_count": 8,
      "metadata": {
        "id": "_3JWLUN3PrYv"
      },
      "outputs": [
        {
          "name": "stdout",
          "output_type": "stream",
          "text": [
            "Python es un lenguaje de programación versátil\n"
          ]
        }
      ],
      "source": [
        "cadena_1  = \"versátil\"\n",
        "cadena_2  = \"Python\"\n",
        "cadena_3  = \"es un lenguaje\"\n",
        "cadena_4  = \"de programación\"\n",
        "\n",
        "cadena_unida = f'{cadena_2} {cadena_3} {cadena_4} {cadena_1}'\n",
        "print(cadena_unida)"
      ]
    },
    {
      "cell_type": "markdown",
      "metadata": {},
      "source": []
    },
    {
      "cell_type": "code",
      "execution_count": null,
      "metadata": {},
      "outputs": [],
      "source": []
    },
    {
      "cell_type": "markdown",
      "metadata": {
        "id": "JK2JK581hdbH"
      },
      "source": [
        "\n",
        "# Desafío Slicing (10 min)\n",
        "Se tiene una cadena de texto, pero al revés. Al parecer contiene el nombre de un alumno, la nota de un exámen y la materia.\n",
        "De forma individual, realiza lo siguiente:\n",
        "1. Dar vuelta la cadena y asignarla a una variable llamada cadena_volteada. Para devolver una cadena dada vuelta se usa el tercer índice negativo con slicing: cadena[::-1].\n",
        "2. Extraer nombre y apellido, almacenarlo en una variable llamada nombre_alumno\n",
        "3. Extraer la nota y almacenarla en una variable llamada nota.\n",
        "4. Extraer la materia y almacenarla en una variable llamada materia.\n",
        "5. Mostrar por pantalla la siguiente estructura:\n",
        "😎NOMBRE APELLIDO ha sacado un NOTA en MATERIA. Esto ultimo hacerlo, formateando las anteriores variables en una variable llamada cadena_formateada\n",
        "\n",
        "cadena = “acitametaM ,5.8 ,otipeP ordeP”"
      ]
    },
    {
      "cell_type": "code",
      "execution_count": 10,
      "metadata": {
        "id": "sYcglkiqQ_RN"
      },
      "outputs": [
        {
          "name": "stdout",
          "output_type": "stream",
          "text": [
            "Pedro Pepito, 8.5, Matematica\n"
          ]
        }
      ],
      "source": [
        "cadena = \"acitametaM ,5.8 ,otipeP ordeP\"\n",
        "cadena_volteada = cadena[::-1]\n",
        "\n",
        "print(cadena_volteada)\n",
        "nombre_alumno = cadena_volteada\n",
        "nota = \"\"\n",
        "materia = \"\"\n"
      ]
    },
    {
      "cell_type": "code",
      "execution_count": null,
      "metadata": {},
      "outputs": [],
      "source": []
    },
    {
      "cell_type": "markdown",
      "metadata": {
        "id": "DtfrqAAph0Ky"
      },
      "source": [
        "---\n",
        "---\n",
        "# Extra\n",
        "---\n",
        "---"
      ]
    },
    {
      "cell_type": "markdown",
      "metadata": {
        "id": "ZZjmhZgm2mUM"
      },
      "source": [
        "## Mi primer programa en Python\n",
        "\n",
        "Consigna\n",
        "\n",
        "Trabajas en Coderhouse y te piden crear un programa que calcule la nota final de estudiantes del curso de Python. La nota final se calcula basándonos en tres notas previas de las cuales, cada una corresponde un porcentaje distinto de la nota final. Los porcentajes se detallan a continuación:\n",
        "- nota_1  cuenta como el 20% de la nota final\n",
        "- nota_2 cuenta como el 30% de la nota final\n",
        "- nota_3 cuenta como el 50% de la nota final\n"
      ]
    },
    {
      "cell_type": "code",
      "execution_count": null,
      "metadata": {},
      "outputs": [],
      "source": []
    }
  ],
  "metadata": {
    "colab": {
      "provenance": []
    },
    "kernelspec": {
      "display_name": "Python 3",
      "name": "python3"
    },
    "language_info": {
      "codemirror_mode": {
        "name": "ipython",
        "version": 3
      },
      "file_extension": ".py",
      "mimetype": "text/x-python",
      "name": "python",
      "nbconvert_exporter": "python",
      "pygments_lexer": "ipython3",
      "version": "3.11.4"
    }
  },
  "nbformat": 4,
  "nbformat_minor": 0
}
