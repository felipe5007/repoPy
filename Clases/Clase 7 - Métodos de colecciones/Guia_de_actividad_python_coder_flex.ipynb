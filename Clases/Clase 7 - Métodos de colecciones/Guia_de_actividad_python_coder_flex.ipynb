{
  "nbformat": 4,
  "nbformat_minor": 0,
  "metadata": {
    "colab": {
      "provenance": [],
      "toc_visible": true
    },
    "kernelspec": {
      "name": "python3",
      "display_name": "Python 3"
    },
    "language_info": {
      "name": "python"
    }
  },
  "cells": [
    {
      "cell_type": "markdown",
      "source": [
        "# Semana 1"
      ],
      "metadata": {
        "id": "VQK73r6_cbBu"
      }
    },
    {
      "cell_type": "markdown",
      "source": [
        "### Calculadora base\n",
        "Escribe un programa que solicite al usuario dos números enteros. Luego, muestra por pantalla la suma, resta, multiplicación y división de esos dos números."
      ],
      "metadata": {
        "id": "iE6RybmbmZoq"
      }
    },
    {
      "cell_type": "code",
      "source": [
        "# Solicitar al usuario dos números enteros\n",
        "num1 = int(input(\"Ingresa el primer número: \"))\n",
        "num2 = int(input(\"Ingresa el segundo número: \"))\n",
        "\n",
        "# Realizar operaciones y mostrar resultados\n",
        "suma = num1 + num2\n",
        "resta = num1 - num2\n",
        "multiplicacion = num1 * num2\n",
        "division = num1 / num2\n",
        "\n",
        "print(\"Suma:\", suma)\n",
        "print(\"Resta:\", resta)\n",
        "print(\"Multiplicación:\", multiplicacion)\n",
        "print(\"División:\", division)"
      ],
      "metadata": {
        "id": "Oi6v_To3mcDW"
      },
      "execution_count": null,
      "outputs": []
    },
    {
      "cell_type": "markdown",
      "source": [
        "### Los caracteres ultimos rien mejor\n",
        "Crea un programa que tome una cadena de texto como entrada del usuario. Luego, muestra por pantalla los primeros tres caracteres de la cadena, seguidos por los tres últimos caracteres. Además, concatena ambos subconjuntos y muestra el resultado."
      ],
      "metadata": {
        "id": "IDK5c6aPmD1q"
      }
    },
    {
      "cell_type": "code",
      "source": [
        "# Solicitar al usuario una cadena de texto\n",
        "cadena = input(\"Ingresa una cadena de texto: \")\n",
        "\n",
        "# Obtener los primeros tres caracteres\n",
        "primeros_tres = cadena[:3]\n",
        "\n",
        "# Obtener los tres últimos caracteres\n",
        "ultimos_tres = cadena[-3:]\n",
        "\n",
        "# Concatenar los subconjuntos y mostrar el resultado\n",
        "concatenados = primeros_tres + ultimos_tres\n",
        "print(\"Primeros tres caracteres:\", primeros_tres)\n",
        "print(\"Últimos tres caracteres:\", ultimos_tres)\n",
        "print(\"Concatenados:\", concatenados)"
      ],
      "metadata": {
        "id": "EniaB8lDf81p"
      },
      "execution_count": null,
      "outputs": []
    },
    {
      "cell_type": "markdown",
      "source": [
        "### Cambio manual\n",
        "Crea un programa que inicie con una lista de números enteros. Luego, solicita al usuario un número entero y un indice (que no exceda los indices que maneja la lista de numeros enteros) para reemplazar un elemento en la lista por el nuevo número ingresado en el indice ingresado. Imprime la lista resultante."
      ],
      "metadata": {
        "id": "ypIzQQOzms4B"
      }
    },
    {
      "cell_type": "code",
      "source": [
        "# Iniciar una lista de números enteros\n",
        "numeros = [10, 20, 30, 40, 50]\n",
        "\n",
        "# Solicitar al usuario un número y un índice\n",
        "numero_nuevo = int(input(\"Ingresa un número nuevo: \"))\n",
        "indice = int(input(\"Ingresa un índice (0 al 4): \"))\n",
        "\n",
        "# Reemplazar el número en el índice dado\n",
        "numeros[indice] = numero_nuevo\n",
        "\n",
        "# Mostrar la lista resultante\n",
        "print(\"Lista resultante:\", numeros)"
      ],
      "metadata": {
        "id": "1V25YADPf9DS"
      },
      "execution_count": null,
      "outputs": []
    },
    {
      "cell_type": "markdown",
      "source": [
        "### Cuanto y donde?\n",
        "Crea un programa que teniendo en cuenta la siguiente tupla, muestre el valor del segundo elemento de la misma. Ademas, debe mostrar cuantas veces se repite este valor y mostrar cual es el indice del valor repetido.\n",
        "\n",
        "palabras_tupla = (\"manzana\", \"pera\", \"uva\", \"naranja\", \"sandía\", \"manzana\", \"plátano\", \"kiwi\", \"pera\", \"fresa\", \"mango\", \"uva\", \"cereza\", \"manzana\", \"durazno\")\n"
      ],
      "metadata": {
        "id": "815LZhfjoqk8"
      }
    },
    {
      "cell_type": "code",
      "source": [
        "# Definir la tupla de palabras\n",
        "palabras_tupla = (\"manzana\", \"pera\", \"uva\", \"naranja\", \"sandía\", \"manzana\", \"plátano\",\n",
        "                  \"kiwi\", \"pera\", \"fresa\", \"mango\", \"uva\", \"cereza\", \"manzana\", \"durazno\")\n",
        "\n",
        "# Obtener el valor del segundo elemento de la tupla\n",
        "segundo_elemento = palabras_tupla[1]\n",
        "\n",
        "# Contar las repeticiones del segundo elemento\n",
        "repeticiones = palabras_tupla.count(segundo_elemento)\n",
        "\n",
        "# Encontrar los índices del segundo elemento\n",
        "indice = palabras_tupla.index(segundo_elemento, 2)\n",
        "\n",
        "# Mostrar resultados\n",
        "print(\"El valor del segundo elemento es:\", segundo_elemento)\n",
        "print(\"El valor se repite\", repeticiones, \"veces.\")\n",
        "print(\"El índice de la segunda aparicion del valor es:\", indice)"
      ],
      "metadata": {
        "id": "P7Ggz-qvp-d3"
      },
      "execution_count": null,
      "outputs": []
    },
    {
      "cell_type": "markdown",
      "source": [
        "# Semana 2"
      ],
      "metadata": {
        "id": "-nHDq5CRcbWp"
      }
    },
    {
      "cell_type": "markdown",
      "source": [
        "### Nombres unicos\n",
        "Crea un programa que solicite al usuario ingresar nombres separados por comas. Luego, crea un conjunto con los nombres ingresados y muestra por pantalla la cantidad de nombres únicos en el conjunto."
      ],
      "metadata": {
        "id": "gPRxOSBKrecZ"
      }
    },
    {
      "cell_type": "code",
      "source": [
        "# Solicitar al usuario ingresar nombres separados por comas\n",
        "nombres_ingresados = input(\"Ingresa nombres separados por comas: \")\n",
        "\n",
        "# Crear un conjunto a partir de los nombres\n",
        "conjunto_nombres = set(nombres_ingresados.split(\",\"))\n",
        "\n",
        "# Mostrar la cantidad de nombres únicos en el conjunto\n",
        "cantidad_nombres_unicos = len(conjunto_nombres)\n",
        "print(\"Cantidad de nombres únicos:\", cantidad_nombres_unicos)"
      ],
      "metadata": {
        "id": "wDedXjqBe0Hs"
      },
      "execution_count": null,
      "outputs": []
    },
    {
      "cell_type": "markdown",
      "source": [
        "### Actualizando la tienda\n",
        "Crea un programa que simule un inventario de productos en una tienda. Inicia con un diccionario que contenga algunos productos y sus cantidades. Luego, permite al usuario agregar un nuevo producto con su cantidad y actualizar la cantidad de un producto existente. Muestra el inventario actualizado.\n",
        "\n",
        "Productos y cantidades\n",
        "\n",
        "Manzanas => 50\n",
        "\n",
        "Bananas => 30\n",
        "\n",
        "Peras => 40"
      ],
      "metadata": {
        "id": "ynt-RhzsrqCW"
      }
    },
    {
      "cell_type": "code",
      "source": [
        "# Inicializar el diccionario de inventario de productos\n",
        "inventario = {\n",
        "    \"Manzanas\": 50,\n",
        "    \"Bananas\": 30,\n",
        "    \"Peras\": 40\n",
        "}\n",
        "\n",
        "# Agregar un nuevo producto al inventario\n",
        "nuevo_producto = input(\"Ingresa el nombre de un nuevo producto: \")\n",
        "cantidad_nuevo_producto = int(input(f\"Ingresa la cantidad de {nuevo_producto}: \"))\n",
        "inventario[nuevo_producto] = cantidad_nuevo_producto\n",
        "\n",
        "# Actualizar la cantidad de un producto existente\n",
        "producto_existente = input(\"Ingresa el nombre de un producto existente: \")\n",
        "nueva_cantidad_existente = int(input(f\"Ingresa la nueva cantidad de {producto_existente}: \"))\n",
        "inventario[producto_existente] = nueva_cantidad_existente\n",
        "\n",
        "# Mostrar el inventario actualizado\n",
        "print(\"Inventario actualizado:\", inventario)"
      ],
      "metadata": {
        "id": "FteY00-Kf9eX"
      },
      "execution_count": null,
      "outputs": []
    },
    {
      "cell_type": "markdown",
      "source": [
        "### Python uno, Python dos, Python 3...\n",
        "Crea un programa que tome una oración ingresada por el usuario y realice las siguientes operaciones: convierte la oración a mayúsculas, cuenta cuántas veces aparece la palabra \"python\", y muestra la oración sin espacios en blanco al inicio y al final."
      ],
      "metadata": {
        "id": "Auzieo_ArqTX"
      }
    },
    {
      "cell_type": "code",
      "source": [
        "# Solicitar al usuario una oración\n",
        "oracion = input(\"Ingresa una oración: \")\n",
        "\n",
        "# Convertir la oración a mayúsculas\n",
        "oracion_mayusculas = oracion.upper()\n",
        "\n",
        "# Contar cuántas veces aparece \"python\" en la oración\n",
        "contador_python = oracion.count(\"python\")\n",
        "\n",
        "# Mostrar la oración sin espacios en blanco al inicio y al final\n",
        "oracion_sin_espacios = oracion.strip()\n",
        "\n",
        "print(\"Oración en mayúsculas:\", oracion_mayusculas)\n",
        "print(\"Cantidad de veces 'python' aparece:\", contador_python)\n",
        "print(\"Oración sin espacios en blanco:\", oracion_sin_espacios)"
      ],
      "metadata": {
        "id": "kKTokMTqf9om"
      },
      "execution_count": null,
      "outputs": []
    },
    {
      "cell_type": "markdown",
      "source": [
        "### Intersectando y uniendo\n",
        "Crea dos conjuntos con números ingresados por el usuario separados por coma. Luego, muestra cuales elementos tienen en común los conjuntos y crea un nuevo conjunto que contenga la unión de ambos conjuntos."
      ],
      "metadata": {
        "id": "TNzTLLY4rqr5"
      }
    },
    {
      "cell_type": "code",
      "source": [
        "# Solicitar al usuario ingresar números separados por comas para cada conjunto\n",
        "numeros1 = set(input(\"Ingresa números para el primer conjunto: \").split(\",\"))\n",
        "numeros2 = set(input(\"Ingresa números para el segundo conjunto: \").split(\",\"))\n",
        "\n",
        "# Verificar si los conjuntos tienen elementos en común\n",
        "tienen_elementos_comunes = numeros1.isdisjoint(numeros2)\n",
        "\n",
        "# Crear un conjunto con la unión de ambos conjuntos\n",
        "union_conjuntos = numeros1.union(numeros2)\n",
        "\n",
        "print(\"¿Que elementos tienen en común?\", tienen_elementos_comunes)\n",
        "print(\"Unión de conjuntos:\", union_conjuntos)"
      ],
      "metadata": {
        "id": "eN_IiH_RrrM3"
      },
      "execution_count": null,
      "outputs": []
    },
    {
      "cell_type": "markdown",
      "source": [
        "# Semana 3\n"
      ],
      "metadata": {
        "id": "NI0dOfUJcbnk"
      }
    },
    {
      "cell_type": "markdown",
      "source": [
        "### Paresitos\n",
        "Crea un programa que solicite dos números enteros al usuario y determine si ambos son números pares."
      ],
      "metadata": {
        "id": "mWMlCKsBy6Je"
      }
    },
    {
      "cell_type": "code",
      "source": [
        "numero1 = int(input(\"Ingresa el primer número: \"))\n",
        "numero2 = int(input(\"Ingresa el segundo número: \"))\n",
        "\n",
        "if numero1 % 2 == 0 and numero2 % 2 == 0:\n",
        "    print(\"Ambos números son pares.\")\n",
        "else:\n",
        "    print(\"Al menos uno de los números no es par.\")"
      ],
      "metadata": {
        "id": "-MK3bGVhe0cc"
      },
      "execution_count": null,
      "outputs": []
    },
    {
      "cell_type": "markdown",
      "source": [
        "### x 3, x 5\n",
        "Escribe un programa que tome un número entero ingresado por el usuario y determine si es un número par, divisible por 3 y 5 al mismo tiempo, o ninguno de los anteriores."
      ],
      "metadata": {
        "id": "ML6wVMAtzU2k"
      }
    },
    {
      "cell_type": "code",
      "source": [
        "numero = int(input(\"Ingresa un número: \"))\n",
        "\n",
        "if numero % 2 == 0:\n",
        "    if numero % 3 == 0 and numero % 5 == 0:\n",
        "        print(\"El número es par y divisible por 3 y 5.\")\n",
        "    else:\n",
        "        print(\"El número es par pero no es divisible por 3 y 5.\")\n",
        "else:\n",
        "    print(\"El número no es par.\")"
      ],
      "metadata": {
        "id": "BYoJzDKNf-BL"
      },
      "execution_count": null,
      "outputs": []
    },
    {
      "cell_type": "markdown",
      "source": [
        "### Positivo! Par si o Par no?\n",
        "Crea un programa que solicite un número entero al usuario y determine si es un número negativo, positivo o igual a cero. En caso de ser positivo, verifica si es par o impar."
      ],
      "metadata": {
        "id": "fZzQ4eRWzuxk"
      }
    },
    {
      "cell_type": "code",
      "source": [
        "numero = int(input(\"Ingresa un número: \"))\n",
        "\n",
        "if numero > 0:\n",
        "    if numero % 2 == 0:\n",
        "        print(\"El número es positivo y par.\")\n",
        "    else:\n",
        "        print(\"El número es positivo e impar.\")\n",
        "elif numero < 0:\n",
        "    print(\"El número es negativo.\")\n",
        "else:\n",
        "    print(\"El número es igual a cero.\")"
      ],
      "metadata": {
        "id": "rSScp4_Sf-Mr",
        "colab": {
          "base_uri": "https://localhost:8080/"
        },
        "outputId": "e6a843c6-c502-4726-d834-4443cd1d4d11"
      },
      "execution_count": null,
      "outputs": [
        {
          "output_type": "stream",
          "name": "stdout",
          "text": [
            "Ingresa un número: -1\n",
            "El número es negativo.\n"
          ]
        }
      ]
    },
    {
      "cell_type": "markdown",
      "source": [
        "### Alineando la condicional\n",
        "Escribe un programa que tome un número entero ingresado por el usuario y muestre \"Es positivo\" si el número es mayor que cero, de lo contrario, muestra \"No es positivo\"."
      ],
      "metadata": {
        "id": "YUlVFabCzxb5"
      }
    },
    {
      "cell_type": "code",
      "source": [
        "numero = int(input(\"Ingresa un número: \"))\n",
        "resultado = \"Es positivo\" if numero > 0 else \"No es positivo\"\n",
        "print(resultado)"
      ],
      "metadata": {
        "id": "e5Kd68pUz2Qk"
      },
      "execution_count": null,
      "outputs": []
    },
    {
      "cell_type": "markdown",
      "source": [
        "# Semana 4\n"
      ],
      "metadata": {
        "id": "ULZnsBLhcb7n"
      }
    },
    {
      "cell_type": "markdown",
      "source": [
        "### Hay Tabla\n",
        "Escribe un programa que tome un número entero positivo ingresado por el usuario y muestre la tabla de multiplicar de ese número. Repetir la solicitud al usuario de ingresar un nuevo número hasta que ingrese un cero."
      ],
      "metadata": {
        "id": "tAmgKfAJ0or_"
      }
    },
    {
      "cell_type": "code",
      "source": [
        "while True:\n",
        "    numero = int(input(\"Ingresa un número positivo (o un número negativo para salir): \"))\n",
        "    if numero == 0:\n",
        "        break\n",
        "    for i in range(1, 11):\n",
        "        resultado = numero * i\n",
        "        print(f\"{numero} x {i} = {resultado}\")"
      ],
      "metadata": {
        "id": "wapGPqs8f-27"
      },
      "execution_count": null,
      "outputs": []
    },
    {
      "cell_type": "markdown",
      "source": [
        "### Ubica la palabra\n",
        "Escribe un programa que tome una lista de nombres ingresados por el usuario separados por un espacio y los liste mostrando su ubicacion."
      ],
      "metadata": {
        "id": "j-PuYcMz0pjn"
      }
    },
    {
      "cell_type": "code",
      "source": [
        "nombres = input(\"Ingresa una lista de nombres separados por espacios: \").split()\n",
        "\n",
        "for indice, nombre in enumerate(nombres):\n",
        "    print(f\"Nombre {indice + 1}: {nombre}\")"
      ],
      "metadata": {
        "id": "XJzkh-4q0pMm"
      },
      "execution_count": null,
      "outputs": []
    },
    {
      "cell_type": "markdown",
      "source": [
        "### Vocales perdidas?\n",
        "Crea un programa que solicite al usuario ingresar una palabra. Luego, recorre la palabra y cuenta cuántas vocales contiene. Al final, si no se encontraron vocales, muestra un mensaje comunicando que la palabra ingresada contiene solo consonantes."
      ],
      "metadata": {
        "id": "EPhFw7rO0p8b"
      }
    },
    {
      "cell_type": "code",
      "source": [
        "palabra = input(\"Ingresa una palabra: \")\n",
        "vocales = \"aeiouAEIOU\"\n",
        "contador_vocales = 0\n",
        "\n",
        "for letra in palabra:\n",
        "    if letra in vocales:\n",
        "        contador_vocales += 1\n",
        "else:\n",
        "    if contador_vocales == 0:\n",
        "        print(\"La palabra no contiene vocales.\")\n",
        "    else:\n",
        "        print(f\"La palabra contiene {contador_vocales} vocales.\")"
      ],
      "metadata": {
        "id": "T0pOYcHh0qLt"
      },
      "execution_count": null,
      "outputs": []
    },
    {
      "cell_type": "markdown",
      "source": [
        "### Salteando palabras\n",
        "Escribe un programa que tome una lista de palabras ingresadas por el usuario. Luego, muestre cada palabra una por una. Si la palabra es \"salir\", finaliza el programa. Si la palabra es \"omitir\", se pasa a la siguiente iteración. Al final, si ninguna palabra fue \"salir\", muestra un mensaje avisando la situacion."
      ],
      "metadata": {
        "id": "bCgrlXne2XkR"
      }
    },
    {
      "cell_type": "code",
      "source": [
        "palabras = input(\n",
        "    \"Ingresa una lista de palabras separadas por espacios: \"\n",
        "  ).split()\n",
        "\n",
        "for palabra in palabras:\n",
        "    if palabra == \"salir\":\n",
        "        break\n",
        "    elif palabra == \"omitir\":\n",
        "        continue\n",
        "    else:\n",
        "        print(palabra)\n",
        "else:\n",
        "    print(\"No se encontró la palabra 'salir'.\")"
      ],
      "metadata": {
        "id": "pdCg6E0l2X3J"
      },
      "execution_count": null,
      "outputs": []
    },
    {
      "cell_type": "markdown",
      "source": [
        "### Inventario\n",
        "Imagina que estás administrando un pequeño almacén y deseas realizar un seguimiento de los productos en tu inventario. Escribe un programa que te permita ingresar el nombre y la cantidad de varios productos. Utiliza un bucle para recorrer los productos y mostrar su nombre y cantidad. Al final, muestra el total de productos en el inventario."
      ],
      "metadata": {
        "id": "NXrDzVql2YJe"
      }
    },
    {
      "cell_type": "code",
      "source": [
        "inventario = {}\n",
        "\n",
        "num_productos = int(input(\"Ingresa la cantidad de productos en el inventario a cargar: \"))\n",
        "\n",
        "# el _ se suele utilizar par adefinir variables que no se van a utilizar como\n",
        "# en este caso que no se utiliza su valor dentro del for\n",
        "for _ in range(num_productos):\n",
        "    nombre = input(\"Ingresa el nombre del producto: \")\n",
        "    cantidad = int(input(f\"Ingresa la cantidad de {nombre}: \"))\n",
        "    inventario[nombre] = cantidad\n",
        "\n",
        "print(\"\\nInventario:\")\n",
        "total_productos = 0\n",
        "\n",
        "for producto, cantidad in inventario.items():\n",
        "    print(f\"{producto}: {cantidad}\")\n",
        "    total_productos += cantidad\n",
        "\n",
        "print(\"\\nTotal de productos en el inventario:\", total_productos)"
      ],
      "metadata": {
        "id": "-Nyt1VY_2Ygp"
      },
      "execution_count": null,
      "outputs": []
    },
    {
      "cell_type": "markdown",
      "source": [
        "# Semana 5"
      ],
      "metadata": {
        "id": "bMN0GIKBesHw"
      }
    },
    {
      "cell_type": "markdown",
      "source": [
        "### Gestión de Tareas Pendientes\n",
        "Crea un programa que permita a un usuario llevar un registro de tareas pendientes. El programa debe permitir al usuario agregar tareas, marcar tareas como completadas (agregarle un tilde o algo que identifique que se completo al principio de la tarea) y listar las tareas pendientes. Utiliza una lista y funciones separadas para gestionar las tareas."
      ],
      "metadata": {
        "id": "gNsrEuKp1-Np"
      }
    },
    {
      "cell_type": "code",
      "source": [
        "def agregar_tarea(tareas, tarea):\n",
        "    # Agrega una nueva tarea a la lista \"tareas\".\n",
        "    tareas.append(tarea)\n",
        "\n",
        "def marcar_completada(tareas, indice):\n",
        "    # Marca una tarea como completada agregando \"✔\" al principio.\n",
        "    if 0 <= indice < len(tareas):\n",
        "        tareas[indice] = \"✔ \" + tareas[indice]\n",
        "\n",
        "def listar_tareas(tareas):\n",
        "    # Muestra las tareas pendientes numeradas.\n",
        "    for i, tarea in enumerate(tareas):\n",
        "        print(f\"{i + 1}. {tarea}\")\n",
        "\n",
        "tareas_pendientes = []  # Lista para almacenar tareas pendientes.\n",
        "\n",
        "while True:\n",
        "    print(\"\\n1. Agregar tarea\")\n",
        "    print(\"2. Marcar tarea como completada\")\n",
        "    print(\"3. Listar tareas pendientes\")\n",
        "    print(\"4. Salir\")\n",
        "    opcion = input(\"Selecciona una opción: \")\n",
        "\n",
        "    if opcion == '1':\n",
        "        tarea = input(\"Ingresa la tarea pendiente: \")\n",
        "        agregar_tarea(tareas_pendientes, tarea)\n",
        "        print(\"Tarea agregada.\")\n",
        "    elif opcion == '2':\n",
        "        listar_tareas(tareas_pendientes)\n",
        "        indice = int(input(\"Ingresa el número de la tarea completada: \")) - 1\n",
        "        marcar_completada(tareas_pendientes, indice)\n",
        "        print(\"Tarea marcada como completada.\")\n",
        "    elif opcion == '3':\n",
        "        listar_tareas(tareas_pendientes)\n",
        "    elif opcion == '4':\n",
        "        break\n"
      ],
      "metadata": {
        "id": "VzlTmttM2C9v"
      },
      "execution_count": null,
      "outputs": []
    },
    {
      "cell_type": "markdown",
      "source": [
        "### Contactame\n",
        "Desarrolla un programa que permita a un usuario registrar información de contactos (nombre, número de teléfono y correo electrónico). El programa debe almacenar estos contactos y permitir al usuario buscar contactos por nombre o número de teléfono. Utiliza un diccionario para gestionar los contactos y funciones separadas para realizar estas acciones."
      ],
      "metadata": {
        "id": "Wr7UiXUb2DMo"
      }
    },
    {
      "cell_type": "code",
      "source": [
        "def agregar_contacto(agenda, nombre, telefono, correo):\n",
        "    # Agrega un nuevo contacto al diccionario \"agenda\".\n",
        "    agenda[nombre] = {'Teléfono': telefono, 'Correo': correo}\n",
        "\n",
        "def buscar_contacto(agenda, criterio):\n",
        "    # Busca y muestra contactos por nombre o número de teléfono.\n",
        "    for nombre, info in agenda.items():\n",
        "        if criterio in nombre or criterio == info['Teléfono']:\n",
        "            print(f\"Nombre: {nombre}\")\n",
        "            print(f\"Teléfono: {info['Teléfono']}\")\n",
        "            print(f\"Correo: {info['Correo']}\")\n",
        "\n",
        "agenda = {}  # Diccionario para almacenar contactos.\n",
        "\n",
        "while True:\n",
        "    print(\"\\n1. Agregar contacto\")\n",
        "    print(\"2. Buscar contacto\")\n",
        "    print(\"3. Salir\")\n",
        "    opcion = input(\"Selecciona una opción: \")\n",
        "\n",
        "    if opcion == '1':\n",
        "        nombre = input(\"Ingresa el nombre del contacto: \")\n",
        "        telefono = input(\"Ingresa el número de teléfono: \")\n",
        "        correo = input(\"Ingresa el correo electrónico: \")\n",
        "        agregar_contacto(agenda, nombre, telefono, correo)\n",
        "        print(\"Contacto agregado.\")\n",
        "    elif opcion == '2':\n",
        "        criterio = input(\"Ingresa el nombre o número de teléfono a buscar: \")\n",
        "        buscar_contacto(agenda, criterio)\n",
        "    elif opcion == '3':\n",
        "        break\n"
      ],
      "metadata": {
        "id": "QWLlll-z2Dfd"
      },
      "execution_count": null,
      "outputs": []
    },
    {
      "cell_type": "markdown",
      "source": [
        "### Configuración de Red\n",
        "Crea un programa que permita a un usuario configurar la red de una computadora. El programa debe aceptar argumentos clave para configurar la dirección IP, la máscara de subred y la puerta de enlace. Luego, muestra la configuración de red completa."
      ],
      "metadata": {
        "id": "0bGCQBvM2D79"
      }
    },
    {
      "cell_type": "code",
      "source": [
        "def configurar_red(**kwargs):\n",
        "    print(\"\\nConfiguración de Red:\")\n",
        "    for clave, valor in kwargs.items():\n",
        "        print(f\"{clave}: {valor}\")\n",
        "\n",
        "while True:\n",
        "    print(\"\\n1. Configurar Red\")\n",
        "    print(\"2. Salir\")\n",
        "    opcion = input(\"Selecciona una opción: \")\n",
        "\n",
        "    if opcion == '1':\n",
        "        ip = input(\"Ingresa la dirección IP: \")\n",
        "        mascara = input(\"Ingresa la máscara de subred: \")\n",
        "        puerta_enlace = input(\"Ingresa la puerta de enlace: \")\n",
        "        configurar_red(IP=ip, Máscara=mascara, Puerta_enlace=puerta_enlace)\n",
        "    elif opcion == '2':\n",
        "        break"
      ],
      "metadata": {
        "id": "M7zWkoxh2ER1"
      },
      "execution_count": null,
      "outputs": []
    },
    {
      "cell_type": "markdown",
      "source": [
        "### Tu Promedio\n",
        "Crea un programa que permita calcular el promedio de un número variable de notas ingresadas por el usuario. La función calcular_promedio debe aceptar *args para recibir un número variable de notas. Luego, muestra el promedio de las notas ingresadas."
      ],
      "metadata": {
        "id": "birPax0K30PH"
      }
    },
    {
      "cell_type": "code",
      "source": [
        "def calcular_promedio(*notas):\n",
        "    total = sum(notas)\n",
        "    promedio = total / len(notas)\n",
        "    return promedio\n",
        "\n",
        "print(\"Calculadora de Promedio de Notas\")\n",
        "notas = []\n",
        "\n",
        "while True:\n",
        "    nota = float(input(\"Ingresa una nota (o 0 para calcular el promedio): \"))\n",
        "    if nota == 0:\n",
        "        break\n",
        "    notas.append(nota)\n",
        "\n",
        "if notas:\n",
        "    promedio = calcular_promedio(*notas)\n",
        "    print(f\"El promedio de las notas ingresadas es: {promedio:.2f}\")\n",
        "else:\n",
        "    print(\"No se ingresaron notas.\")\n"
      ],
      "metadata": {
        "id": "TW6q32LG30fN"
      },
      "execution_count": null,
      "outputs": []
    },
    {
      "cell_type": "markdown",
      "source": [
        "# Semana 6"
      ],
      "metadata": {
        "id": "IjlFgEm-etBt"
      }
    },
    {
      "cell_type": "markdown",
      "source": [
        "### Búsqueda del error\n",
        "Desarrolla un programa que permita al usuario buscar información sobre ciudades. Tendrás un diccionario llamado ciudades_info que contiene información sobre algunas ciudades, como su país, población y puntos de interés. El programa debe permitir al usuario ingresar el nombre de una ciudad y mostrar la información correspondiente. El programa debe poder manejar el caso en el que la ciudad no existe en el diccionario y mostrando un mensaje avisando del error."
      ],
      "metadata": {
        "id": "ntEhZidhAeMF"
      }
    },
    {
      "cell_type": "code",
      "source": [
        "ciudades_info = {\n",
        "    'Paris': {\n",
        "        'Pais': 'Francia',\n",
        "        'Poblacion': 2187526,\n",
        "        'Puntos_de_Interes': ['Torre Eiffel', 'Louvre', 'Catedral de Notre-Dame']\n",
        "    },\n",
        "    'Nueva York': {\n",
        "        'Pais': 'Estados Unidos',\n",
        "        'Poblacion': 8398748,\n",
        "        'Puntos_de_Interes': ['Estatua de la Libertad', 'Central Park', 'Times Square']\n",
        "    },\n",
        "    'Tokio': {\n",
        "        'Pais': 'Japón',\n",
        "        'Poblacion': 13929286,\n",
        "        'Puntos_de_Interes': ['Torre de Tokio', 'Templo Senso-ji', 'Palacio Imperial']\n",
        "    }\n",
        "}\n",
        "\n",
        "ciudad = input(\"Ingresa el nombre de una ciudad: \")\n",
        "\n",
        "try:\n",
        "    informacion = ciudades_info[ciudad]\n",
        "    print(f\"Información sobre {ciudad}:\")\n",
        "    print(f\"País: {informacion['Pais']}\")\n",
        "    print(f\"Población: {informacion['Poblacion']}\")\n",
        "    print(f\"Puntos de Interés: {', '.join(informacion['Puntos_de_Interes'])}\")\n",
        "except KeyError:\n",
        "    print(f\"Error: La ciudad '{ciudad}' no está en la base de datos.\")\n"
      ],
      "metadata": {
        "id": "VEflKWupAdhA"
      },
      "execution_count": null,
      "outputs": []
    },
    {
      "cell_type": "markdown",
      "source": [
        "### Edad correcta\n",
        "Escribe un programa que permita al usuario ingresar su edad. El programa debe validar si la edad ingresada está dentro del rango de 18 a 65 años, y mostrar un mensaje correspondiente. Utiliza un bloque try-except con múltiples bloques except para manejar posibles errores relacionados con la entrada del usuario, como una entrada no numérica o una edad fuera del rango válido (puedes usar la funcionalidad 'raise' para que se genere una excepcion ).\n",
        "\n",
        "**IMPORTANTE**: La función raise se utiliza para generar manualmente una excepción en Python. Puedes especificar el tipo de excepción que deseas generar y opcionalmente proporcionar un mensaje de error personalizado. Por ejemplo:\n",
        "```\n",
        "# Generar una excepción ValueError con un mensaje personalizado\n",
        "raise ValueError(\"Este es un mensaje de error personalizado.\")\n",
        "```\n",
        "En el ejemplo anterior, se genera una excepción ValueError con el mensaje \"Este es un mensaje de error personalizado.\" Esta funcionalidad puede ser útil cuando deseas controlar el flujo de tu programa y generar excepciones específicas en función de condiciones personalizadas."
      ],
      "metadata": {
        "id": "AfBIXe-XBPDp"
      }
    },
    {
      "cell_type": "code",
      "source": [
        "try:\n",
        "    numero = float(input(\"Ingresa un número positivo: \"))\n",
        "\n",
        "    if numero <= 0:\n",
        "        raise ValueError()\n",
        "    else:\n",
        "        print(f\"Has ingresado el número {numero}.\")\n",
        "\n",
        "except TypeError:\n",
        "    print(\"Error: La entrada no es un número.\")\n",
        "except ValueError:\n",
        "    print(\"Error: Ingresa un número válido.\")\n",
        "except:\n",
        "    print(\"Error desconocido.\")\n"
      ],
      "metadata": {
        "id": "JUE5DhnuBPY0"
      },
      "execution_count": null,
      "outputs": []
    },
    {
      "cell_type": "markdown",
      "source": [
        "### Estamos de oferta\n",
        "Escribe un programa que permita al usuario ingresar el precio de un producto y un código de descuento. El programa debe validar si el precio es un número positivo y si el código de descuento es válido. Los errores posibles incluyen entradas no numéricas, números negativos y códigos de descuento no válidos. Utiliza un bloque try-except con varios bloques except para manejar estos errores y mostrar mensajes de error específicos en cada caso.\n",
        "\n",
        "Los codigos de descuento son:\n",
        "descuentos_validos = [\"DESC10\", \"DESC20\", \"DESC30\"]"
      ],
      "metadata": {
        "id": "UaSmwWQ9D7xo"
      }
    },
    {
      "cell_type": "code",
      "source": [
        "try:\n",
        "    precio = float(input(\"Ingresa el precio del producto: \"))\n",
        "    codigo_descuento = input(\"Ingresa el código de descuento: \")\n",
        "\n",
        "    if precio <= 0:\n",
        "        raise ValueError(\"El precio debe ser un número positivo.\")\n",
        "\n",
        "    descuentos_validos = [\"DESC10\", \"DESC20\", \"DESC30\"]\n",
        "\n",
        "    if codigo_descuento not in descuentos_validos:\n",
        "        raise ValueError(\"Código de descuento no válido.\")\n",
        "\n",
        "    if codigo_descuento == \"DESC10\":\n",
        "        precio_descuento = precio * 0.9\n",
        "    elif codigo_descuento == \"DESC20\":\n",
        "        precio_descuento = precio * 0.8\n",
        "    else:\n",
        "        precio_descuento = precio * 0.7\n",
        "\n",
        "    print(f\"El precio con descuento es: {precio_descuento}\")\n",
        "\n",
        "except ValueError as ve:\n",
        "    print(f\"Error de Valor: {ve}\")\n",
        "except TypeError:\n",
        "    print(\"Error: La entrada no es válida.\")\n",
        "except Exception as e:\n",
        "    print(f\"Error desconocido: {e}\")"
      ],
      "metadata": {
        "id": "9BJKudAtD9ho"
      },
      "execution_count": null,
      "outputs": []
    },
    {
      "cell_type": "markdown",
      "source": [
        "# Semana 7"
      ],
      "metadata": {
        "id": "N9Mht-szet-a"
      }
    },
    {
      "cell_type": "markdown",
      "source": [
        "### Figuras\n",
        "\n",
        "Define una clase Figura con un método de instancia area que devuelve el área de la figura. Luego, crea clases hijas como Circulo y Rectangulo que hereden de Figura y proporcionen implementaciones diferentes del método area."
      ],
      "metadata": {
        "id": "owutQWiGE6Gj"
      }
    },
    {
      "cell_type": "code",
      "source": [
        "class Figura:\n",
        "    def area(self):\n",
        "        pass\n",
        "\n",
        "class Circulo(Figura):\n",
        "    def __init__(self, radio):\n",
        "        self.radio = radio\n",
        "\n",
        "    def area(self):\n",
        "        return 3.1416 * self.radio * self.radio\n",
        "\n",
        "class Rectangulo(Figura):\n",
        "    def __init__(self, base, altura):\n",
        "        self.base = base\n",
        "        self.altura = altura\n",
        "\n",
        "    def area(self):\n",
        "        return self.base * self.altura\n",
        "\n",
        "# Ejemplo de uso:\n",
        "circulo = Circulo(5)\n",
        "rectangulo = Rectangulo(4, 6)\n",
        "print(\"Área del círculo:\", circulo.area())\n",
        "print(\"Área del rectángulo:\", rectangulo.area())"
      ],
      "metadata": {
        "id": "y603C5V3E6ZH"
      },
      "execution_count": null,
      "outputs": []
    },
    {
      "cell_type": "markdown",
      "source": [
        "### Calculadora POO\n",
        "\n",
        "Crea una clase Calculadora con un método de clase llamado suma que acepte dos números como argumentos y devuelva la suma de ellos. Luego, utiliza este método para realizar algunas operaciones de suma."
      ],
      "metadata": {
        "id": "i82Tnk8gE8Qt"
      }
    },
    {
      "cell_type": "code",
      "source": [
        "class Calculadora:\n",
        "    @classmethod\n",
        "    def suma(cls, num1, num2):\n",
        "        return num1 + num2\n",
        "\n",
        "# Ejemplo de uso:\n",
        "resultado = Calculadora.suma(5, 3)\n",
        "print(\"Resultado de la suma:\", resultado)"
      ],
      "metadata": {
        "id": "WbX2Buc_FEyz"
      },
      "execution_count": null,
      "outputs": []
    },
    {
      "cell_type": "markdown",
      "source": [
        "###  Gestion de Empleados\n",
        "\n",
        "Crea una clase Empleado que tenga los siguientes atributos de instancia: nombre, apellido, edad, salario. Luego, crea una clase Gerente que herede de Empleado y tenga un atributo adicional departamento. Define métodos de instancia para ambas clases, como mostrar_informacion para mostrar los detalles de un empleado y aumentar_salario para aumentar el salario de un empleado en un porcentaje dado. Crea instancias de ambas clases y realiza algunas operaciones."
      ],
      "metadata": {
        "id": "l2YsJgMhFFIC"
      }
    },
    {
      "cell_type": "code",
      "source": [
        "class Empleado:\n",
        "    def __init__(self, nombre, apellido, edad, salario):\n",
        "        self.nombre = nombre\n",
        "        self.apellido = apellido\n",
        "        self.edad = edad\n",
        "        self.salario = salario\n",
        "\n",
        "    def mostrar_informacion(self):\n",
        "        return f\"Nombre: {self.nombre} {self.apellido}, Edad: {self.edad}, Salario: ${self.salario}\"\n",
        "\n",
        "    def aumentar_salario(self, porcentaje):\n",
        "        self.salario += self.salario * (porcentaje / 100)\n",
        "\n",
        "class Gerente(Empleado):\n",
        "    def __init__(self, nombre, apellido, edad, salario, departamento):\n",
        "        super().__init__(nombre, apellido, edad, salario)\n",
        "        self.departamento = departamento\n",
        "\n",
        "    def mostrar_informacion(self):\n",
        "        return super().mostrar_informacion() + f\", Departamento: {self.departamento}\"\n",
        "\n",
        "# Ejemplo de uso:\n",
        "empleado1 = Empleado(\"Juan\", \"Pérez\", 30, 40000)\n",
        "gerente1 = Gerente(\"Ana\", \"Gómez\", 35, 60000, \"Ventas\")\n",
        "\n",
        "print(empleado1.mostrar_informacion())\n",
        "print(gerente1.mostrar_informacion())\n",
        "\n",
        "empleado1.aumentar_salario(10)\n",
        "print(f\"Nuevo salario de {empleado1.nombre}: ${empleado1.salario}\")"
      ],
      "metadata": {
        "id": "UbBoMqrMFFZu"
      },
      "execution_count": null,
      "outputs": []
    },
    {
      "cell_type": "markdown",
      "source": [
        "### La Biblioteca\n",
        "\n",
        "Crea una clase Libro con atributos de instancia como titulo, autor, año_publicacion, y disponible (un valor booleano que indica si el libro está disponible o no). Luego, crea una clase Biblioteca que tenga una lista de libros y métodos de instancia para prestar un libro, devolver un libro y mostrar todos los libros disponibles. Utiliza atributos de clase para registrar la cantidad total de libros en la biblioteca. Crea instancias de ambas clases y realiza operaciones de préstamo y devolución de libros."
      ],
      "metadata": {
        "id": "tyT3y3NhFFsn"
      }
    },
    {
      "cell_type": "code",
      "source": [
        "class Libro:\n",
        "    def __init__(self, titulo, autor, año_publicacion):\n",
        "        self.titulo = titulo\n",
        "        self.autor = autor\n",
        "        self.año_publicacion = año_publicacion\n",
        "        self.disponible = True\n",
        "\n",
        "class Biblioteca:\n",
        "    cantidad_total_libros = 0\n",
        "\n",
        "    def __init__(self):\n",
        "        self.libros = []\n",
        "\n",
        "    def agregar_libro(self, libro):\n",
        "        self.libros.append(libro)\n",
        "        Biblioteca.cantidad_total_libros += 1\n",
        "\n",
        "    def prestar_libro(self, titulo):\n",
        "        for libro in self.libros:\n",
        "            if libro.titulo == titulo and libro.disponible:\n",
        "                libro.disponible = False\n",
        "                return f\"El libro '{titulo}' ha sido prestado.\"\n",
        "        return f\"El libro '{titulo}' no está disponible.\"\n",
        "\n",
        "    def devolver_libro(self, titulo):\n",
        "        for libro in self.libros:\n",
        "            if libro.titulo == titulo and not libro.disponible:\n",
        "                libro.disponible = True\n",
        "                return f\"El libro '{titulo}' ha sido devuelto.\"\n",
        "        return f\"El libro '{titulo}' no puede ser devuelto.\"\n",
        "\n",
        "    def mostrar_libros_disponibles(self):\n",
        "        disponibles = [libro.titulo for libro in self.libros if libro.disponible]\n",
        "        return f\"Libros disponibles: {', '.join(disponibles)}\"\n",
        "\n",
        "# Ejemplo de uso:\n",
        "libro1 = Libro(\"El Gran Gatsby\", \"F. Scott Fitzgerald\", 1925)\n",
        "libro2 = Libro(\"Cien Años de Soledad\", \"Gabriel García Márquez\", 1967)\n",
        "\n",
        "biblioteca = Biblioteca()\n",
        "biblioteca.agregar_libro(libro1)\n",
        "biblioteca.agregar_libro(libro2)\n",
        "\n",
        "print(biblioteca.prestar_libro(\"El Gran Gatsby\"))\n",
        "print(biblioteca.devolver_libro(\"El Gran Gatsby\"))\n",
        "print(biblioteca.mostrar_libros_disponibles())"
      ],
      "metadata": {
        "id": "FOlx4_JoFF8R"
      },
      "execution_count": null,
      "outputs": []
    },
    {
      "cell_type": "markdown",
      "source": [
        "###  Tienda en Línea\n",
        "\n",
        "Crea una clase Producto con atributos de instancia como nombre, precio, cantidad_disponible y codigo_producto. Luego, crea una clase CarritoCompras que permita a los clientes agregar productos, eliminar productos y calcular el total de la compra. Utiliza un atributo de clase para rastrear la cantidad total de productos en el carrito de compras de todos los clientes. Crea instancias de ambas clases y simula operaciones de compra."
      ],
      "metadata": {
        "id": "d5R8yBHPFQTF"
      }
    },
    {
      "cell_type": "code",
      "source": [
        "class Producto:\n",
        "    def __init__(self, nombre, precio, cantidad_disponible, codigo_producto):\n",
        "        self.nombre = nombre\n",
        "        self.precio = precio\n",
        "        self.cantidad_disponible = cantidad_disponible\n",
        "        self.codigo_producto = codigo_producto\n",
        "\n",
        "class CarritoCompras:\n",
        "    cantidad_total_productos = 0\n",
        "\n",
        "    def __init__(self):\n",
        "        self.productos = []\n",
        "\n",
        "    def agregar_producto(self, producto):\n",
        "        self.productos.append(producto)\n",
        "        CarritoCompras.cantidad_total_productos += 1\n",
        "\n",
        "    def eliminar_producto(self, codigo_producto):\n",
        "        for producto in self.productos:\n",
        "            if producto.codigo_producto == codigo_producto:\n",
        "                self.productos.remove(producto)\n",
        "                CarritoCompras.cantidad_total_productos -= 1\n",
        "                return f\"Producto '{producto.nombre}' eliminado del carrito.\"\n",
        "        return f\"Producto con código '{codigo_producto}' no encontrado en el carrito.\"\n",
        "\n",
        "    def calcular_total_compra(self):\n",
        "        total = sum([producto.precio for producto in self.productos])\n",
        "        return f\"Total de compra: ${total}\"\n",
        "\n",
        "# Ejemplo de uso:\n",
        "producto1 = Producto(\"Laptop\", 800, 5, \"LP001\")\n",
        "producto2 = Producto(\"Teléfono\", 300, 10, \"PH002\")\n",
        "\n",
        "carrito = CarritoCompras()\n",
        "carrito.agregar_producto(producto1)\n",
        "carrito.agregar_producto(producto2)\n",
        "\n",
        "print(carrito.eliminar_producto(\"PH002\"))\n",
        "print(carrito.calcular_total_compra())"
      ],
      "metadata": {
        "id": "aXEYZCn5FRgt"
      },
      "execution_count": null,
      "outputs": []
    },
    {
      "cell_type": "markdown",
      "source": [
        "# Semana 8"
      ],
      "metadata": {
        "id": "xSYh26tNeuz7"
      }
    },
    {
      "cell_type": "markdown",
      "source": [
        "# Semana 9"
      ],
      "metadata": {
        "id": "sBQ9qZ2cevoO"
      }
    },
    {
      "cell_type": "markdown",
      "source": [
        "# Semana 10"
      ],
      "metadata": {
        "id": "ydWVBNEkewWv"
      }
    },
    {
      "cell_type": "markdown",
      "source": [
        "# Semana 11"
      ],
      "metadata": {
        "id": "C9qStVMYexd_"
      }
    }
  ]
}