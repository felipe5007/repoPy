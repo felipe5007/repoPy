{
 "cells": [
  {
   "cell_type": "code",
   "execution_count": 10,
   "metadata": {},
   "outputs": [
    {
     "name": "stdout",
     "output_type": "stream",
     "text": [
      "['d', 'e', 'f']\n",
      "['d', 'e', 'f', ['a', 'e', 'i', 'o', 'u']]\n",
      "['d', 'e', 'f']\n",
      "1\n",
      "2\n"
     ]
    }
   ],
   "source": [
    "letras = [\"a\", \"b\", \"c\", \"d\", \"e\", \"f\"]\n",
    "\n",
    "letras[:3] = [ ]\n",
    "print(letras)\n",
    "\n",
    "vocales= [\"a\", \"e\", \"i\", \"o\",\"u\"]\n",
    "\n",
    "letras.append(vocales)\n",
    "print(letras)\n",
    "\n",
    "letras.pop(-1)\n",
    "print(letras)\n",
    "\n",
    "print(letras.count(\"e\"))\n",
    "print(letras.index(\"f\"))"
   ]
  },
  {
   "cell_type": "code",
   "execution_count": 11,
   "metadata": {},
   "outputs": [
    {
     "name": "stdout",
     "output_type": "stream",
     "text": [
      "(1, 2, 3, 4, 'Un mono se comio mi banana')\n",
      "Un mono se comio mi banana\n",
      "(1, 2, 3, 4, 'Un mono se comio mi banana')\n",
      "5\n",
      "(4, 'Un mono se comio mi banana')\n",
      "2\n"
     ]
    }
   ],
   "source": [
    "una_tupla = (1,2,3,4,\"Un mono se comio mi banana\")\n",
    "print(una_tupla)\n",
    "\n",
    "\n",
    "mi = una_tupla[-1]\n",
    "print(mi)\n",
    "print(una_tupla)\n",
    "print(len(una_tupla))\n",
    "\n",
    "una_tupla = una_tupla[-2:]\n",
    "print(una_tupla)\n",
    "print(len(una_tupla))\n"
   ]
  }
 ],
 "metadata": {
  "kernelspec": {
   "display_name": "Python 3",
   "language": "python",
   "name": "python3"
  },
  "language_info": {
   "codemirror_mode": {
    "name": "ipython",
    "version": 3
   },
   "file_extension": ".py",
   "mimetype": "text/x-python",
   "name": "python",
   "nbconvert_exporter": "python",
   "pygments_lexer": "ipython3",
   "version": "3.11.4"
  }
 },
 "nbformat": 4,
 "nbformat_minor": 2
}
