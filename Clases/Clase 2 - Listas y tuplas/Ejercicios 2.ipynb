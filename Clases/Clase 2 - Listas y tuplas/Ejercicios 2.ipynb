{
  "cells": [
    {
      "cell_type": "markdown",
      "metadata": {},
      "source": [
        "Descripción de la actividad.\n",
        "\n",
        "En esta actividad, podrás poner en práctica todo lo aprendido durante la sesión.  \n",
        "\n",
        "Dadas dos listas LISTA1 y LISTA2 debes realizar las siguientes tareas:\n",
        "\n",
        "- Añade a la LISTA1 el int 456789 y luego el string “Hola Mundo”\n",
        "- Luego añade a la LISTA2 el string “Hola y Adios” y luego el int 5555\n",
        "- Genera una LISTA3 con todos los elementos de la LISTA1 sin considerar el último elemento\n",
        "- Genera una LISTA4 con todos los elementos de la LISTA2 menos el primero y el último elemento\n",
        "- Finalmente, genera una LISTA5 con los elementos de la LISTA4 y de la LISTA3"
      ]
    },
    {
      "cell_type": "code",
      "execution_count": null,
      "metadata": {},
      "outputs": [],
      "source": [
        "lista1 = []\n",
        "lista1.append(456789)\n",
        "lista1.append(\"Hola Mundo\")\n",
        "\n",
        "lista2= []\n",
        "lista2.append(\"Hola y Adios\")\n",
        "lista2.append(5555)\n"
      ]
    },
    {
      "cell_type": "markdown",
      "metadata": {
        "id": "oBu4rWCgPKAC"
      },
      "source": [
        "Descripción de la actividad.\n",
        "A partir de una variable llamada tupla, imprimir por pantalla de forma ordenada, lo siguiente:\n",
        "1. El último ítem de tupla\n",
        "2. El número de ítems de tupla\n",
        "3. La posición donde se encuentra el ítem 87 de tupla\n",
        "4. Una lista con los últimos tres ítems de tupla\n",
        "5. Un ítem que haya en la posición 8 de tupla\n",
        "6. El número de veces que el ítem 7 aparece en tupla\n",
        "\n",
        "Copia esta tupla para iniciar el ejercicio:\n",
        "tupla = (8, 15, 4, 39, 5, 89, 87,  19, 7, -755, 88, 123, 2, 11, 15, 9, 355)\n"
      ]
    },
    {
      "cell_type": "code",
      "execution_count": null,
      "metadata": {},
      "outputs": [],
      "source": []
    }
  ],
  "metadata": {
    "colab": {
      "provenance": []
    },
    "kernelspec": {
      "display_name": "Python 3",
      "name": "python3"
    },
    "language_info": {
      "name": "python"
    }
  },
  "nbformat": 4,
  "nbformat_minor": 0
}
