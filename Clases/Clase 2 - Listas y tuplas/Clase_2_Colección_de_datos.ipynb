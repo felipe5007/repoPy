{
  "nbformat": 4,
  "nbformat_minor": 0,
  "metadata": {
    "colab": {
      "provenance": []
    },
    "kernelspec": {
      "name": "python3",
      "display_name": "Python 3"
    },
    "language_info": {
      "name": "python"
    }
  },
  "cells": [
    {
      "cell_type": "markdown",
      "source": [
        "# Listas ( heterogeneas )"
      ],
      "metadata": {
        "id": "d2Z9nx9hTkIu"
      }
    },
    {
      "cell_type": "code",
      "source": [
        "[25, 34, 'hola', 'otro string', 3]"
      ],
      "metadata": {
        "id": "OLH5FHRK369B"
      },
      "execution_count": null,
      "outputs": []
    },
    {
      "cell_type": "code",
      "source": [
        "type([25, 34, 'hola', 'otro string', 3])"
      ],
      "metadata": {
        "id": "r699rcjSdJzJ",
        "colab": {
          "base_uri": "https://localhost:8080/"
        },
        "outputId": "739a53a8-b0f8-459f-f9e5-f978dcbdcbe8"
      },
      "execution_count": null,
      "outputs": [
        {
          "output_type": "execute_result",
          "data": {
            "text/plain": [
              "list"
            ]
          },
          "metadata": {},
          "execution_count": 1
        }
      ]
    },
    {
      "cell_type": "code",
      "source": [
        "lista1 = [1, 2, 3, 4, 1]\n",
        "edad = 25\n",
        "lista2 = [1, 2, 3,'pepe', 'roque', True, -15, type(edad)]\n",
        "\n",
        "print(lista2)"
      ],
      "metadata": {
        "id": "PUvSFRNd1vIY",
        "colab": {
          "base_uri": "https://localhost:8080/"
        },
        "outputId": "2abd4938-8b11-443b-ba37-bdd162345840"
      },
      "execution_count": null,
      "outputs": [
        {
          "output_type": "stream",
          "name": "stdout",
          "text": [
            "[1, 2, 3, 'pepe', 'roque', True, -15, <class 'int'>]\n"
          ]
        }
      ]
    },
    {
      "cell_type": "markdown",
      "source": [
        "# Listas y Strings"
      ],
      "metadata": {
        "id": "s1BL2OwKToYA"
      }
    },
    {
      "cell_type": "markdown",
      "source": [
        "Index"
      ],
      "metadata": {
        "id": "Y5IALNUGTrtp"
      }
    },
    {
      "cell_type": "code",
      "source": [
        "cadena = 'esta es cadena de prueba'\n",
        "print(cadena[5])\n",
        "\n",
        "lista = [1, 2, 3, 'pepe', 'roque']\n",
        "#        0  1  2   3       4 -> subiendo...\n",
        "#        -5 -4 -3  -2      -1\n",
        "print(lista[3])\n",
        "print(lista[-1])\n",
        "\n",
        "# Estos 2 accesos generan un error\n",
        "# print(cadena[55])\n",
        "# print(lista[55])"
      ],
      "metadata": {
        "id": "-wdgJ6Ci1yYV",
        "colab": {
          "base_uri": "https://localhost:8080/",
          "height": 263
        },
        "outputId": "ba97c7f3-7ad0-4324-b0f3-7f18c8536389"
      },
      "execution_count": null,
      "outputs": [
        {
          "output_type": "stream",
          "name": "stdout",
          "text": [
            "e\n",
            "pepe\n",
            "roque\n"
          ]
        },
        {
          "output_type": "error",
          "ename": "IndexError",
          "evalue": "ignored",
          "traceback": [
            "\u001b[0;31m---------------------------------------------------------------------------\u001b[0m",
            "\u001b[0;31mIndexError\u001b[0m                                Traceback (most recent call last)",
            "\u001b[0;32m<ipython-input-7-387f4f6ce062>\u001b[0m in \u001b[0;36m<cell line: 12>\u001b[0;34m()\u001b[0m\n\u001b[1;32m     10\u001b[0m \u001b[0;31m# Estos 2 accesos generan un error\u001b[0m\u001b[0;34m\u001b[0m\u001b[0;34m\u001b[0m\u001b[0m\n\u001b[1;32m     11\u001b[0m \u001b[0;31m# print(cadena[55])\u001b[0m\u001b[0;34m\u001b[0m\u001b[0;34m\u001b[0m\u001b[0m\n\u001b[0;32m---> 12\u001b[0;31m \u001b[0mprint\u001b[0m\u001b[0;34m(\u001b[0m\u001b[0mlista\u001b[0m\u001b[0;34m[\u001b[0m\u001b[0;36m55\u001b[0m\u001b[0;34m]\u001b[0m\u001b[0;34m)\u001b[0m\u001b[0;34m\u001b[0m\u001b[0;34m\u001b[0m\u001b[0m\n\u001b[0m",
            "\u001b[0;31mIndexError\u001b[0m: list index out of range"
          ]
        }
      ]
    },
    {
      "cell_type": "markdown",
      "source": [
        "Slicing"
      ],
      "metadata": {
        "id": "uICSCqYjTrrX"
      }
    },
    {
      "cell_type": "code",
      "source": [
        "cadena = 'esta es cadena de prueba'\n",
        "print(cadena)\n",
        "print(cadena[4:8])\n",
        "print(cadena)"
      ],
      "metadata": {
        "id": "qSfjJkUJ6oVO",
        "colab": {
          "base_uri": "https://localhost:8080/"
        },
        "outputId": "6a400d64-3fc8-4da1-c177-29070681b7eb"
      },
      "execution_count": null,
      "outputs": [
        {
          "output_type": "stream",
          "name": "stdout",
          "text": [
            "esta es cadena de prueba\n",
            " es \n",
            "esta es cadena de prueba\n"
          ]
        }
      ]
    },
    {
      "cell_type": "code",
      "source": [
        "lista = [1, 2, 3,'pepe', 'roque']\n",
        "\n",
        "print(lista)\n",
        "print(lista[2:4])\n",
        "print(lista)\n",
        "\n",
        "# Para poder volver a utilizar el valor en el futuro\n",
        "\n",
        "# segunda_lista = lista[2:4]\n",
        "# print(segunda_lista)\n",
        "# print(lista)\n",
        "\n",
        "# segunda_lista = lista[::2]\n",
        "# print(segunda_lista)\n",
        "# print(lista)"
      ],
      "metadata": {
        "id": "qEyjqTXhkP5e"
      },
      "execution_count": null,
      "outputs": []
    },
    {
      "cell_type": "markdown",
      "source": [
        "concatenación"
      ],
      "metadata": {
        "id": "PckuySG-TwTS"
      }
    },
    {
      "cell_type": "code",
      "source": [
        "cadena = 'esta es cadena de prueba'\n",
        "cadena_concatenada = cadena + ' soy pepe'\n",
        "print(cadena_concatenada)"
      ],
      "metadata": {
        "id": "MBmW9Fggl58U",
        "colab": {
          "base_uri": "https://localhost:8080/"
        },
        "outputId": "0d99e59d-8bf7-431d-b406-6b5e0d2c8d5c"
      },
      "execution_count": null,
      "outputs": [
        {
          "output_type": "stream",
          "name": "stdout",
          "text": [
            "esta es cadena de prueba soy pepe\n"
          ]
        }
      ]
    },
    {
      "cell_type": "code",
      "source": [
        "lista1 = [1, 2, 3, 'pepe', 'roque']\n",
        "# lista_concatenada = lista1 + cadena\n",
        "lista_concatenada = lista1 + [cadena, 123]\n",
        "# lista2 = [cadena]\n",
        "print(lista1)\n",
        "# print(lista2)\n",
        "# lista_concatenada = lista1 + lista2\n",
        "print(lista_concatenada)"
      ],
      "metadata": {
        "id": "GapgE01bmOsE"
      },
      "execution_count": null,
      "outputs": []
    },
    {
      "cell_type": "code",
      "source": [
        "# cadena1 = 'esta es cadena de prueba'\n",
        "# cadena2 = ' otro gato'\n",
        "# print(cadena1 + cadena2)\n",
        "# lista1 = [1, 2, 3,'pepe', 'roque']\n",
        "# lista2 = [6,7,8,1]\n",
        "# print(lista1 + lista2)\n",
        "# print(lista1 + [cadena1])"
      ],
      "metadata": {
        "id": "g9m-g1QK6pmQ"
      },
      "execution_count": null,
      "outputs": []
    },
    {
      "cell_type": "markdown",
      "source": [
        "Inmutabilidad/Mutabilidad"
      ],
      "metadata": {
        "id": "5lK_EwWHUmY8"
      }
    },
    {
      "cell_type": "code",
      "source": [
        "# cadena = 'claro'\n",
        "# cadena[3] = 's'\n",
        "# cadena = cadena[:3] + 's' + cadena[4:]\n",
        "# print(cadena)\n",
        "lista = ['primero', 'segundo', 'tercero']\n",
        "print(lista)\n",
        "print(lista[1])\n",
        "lista[1] = 'cuarto'\n",
        "print(lista)\n",
        "print(lista[1])\n",
        "lista[1] = 123\n",
        "print(lista)\n",
        "print(lista[1])\n",
        "lista[1] = [1,2,3,4,5,'eaea']\n",
        "print(lista)\n",
        "print(lista[1])"
      ],
      "metadata": {
        "id": "owEYuGMY6qm1"
      },
      "execution_count": null,
      "outputs": []
    },
    {
      "cell_type": "markdown",
      "source": [
        "Asignacion por slicing"
      ],
      "metadata": {
        "id": "Bw6KSnH7UsX3"
      }
    },
    {
      "cell_type": "code",
      "source": [
        "lista = ['primero', 'segundo', 'tercero', 'cuarto', 'quinto']\n",
        "print(lista)\n",
        "print(lista[1:3])\n",
        "\n",
        "lista[1:3] = [2, 3,'otro dato en string']\n",
        "print(lista)\n",
        "\n",
        "lista[1:3] = ['mas datos']\n",
        "print(lista)\n",
        "\n",
        "lista[1:3] = []\n",
        "print(lista)\n",
        "\n",
        "# print(lista[1:3])\n",
        "# lista[1:3] = ['soy', 'mas', 'de', 'un', 'valor']\n",
        "# print(lista)\n",
        "\n",
        "lista[1:3] = 'hola'\n",
        "print(lista)"
      ],
      "metadata": {
        "id": "yq8w_qjLo-A9"
      },
      "execution_count": null,
      "outputs": []
    },
    {
      "cell_type": "code",
      "source": [
        "print(list('hola'))\n",
        "print(list(2))"
      ],
      "metadata": {
        "id": "7yZXHwpkrRmv"
      },
      "execution_count": null,
      "outputs": []
    },
    {
      "cell_type": "code",
      "source": [
        "lista[1:3] = ['soy', 'mas', 'de', 'un', 'valor']\n",
        "print(lista)\n",
        "\n",
        "\n",
        "lista[1:5] = []\n",
        "print(lista)\n",
        "\n",
        "# lista[1:3] = 'pepe'\n",
        "# # print(list('hola')) # -> ['p', 'e', 'p', 'e']\n",
        "# print(lista)\n",
        "\n",
        "# # lista[1:3] = 4 # genera un error\n",
        "# lista[1:3] = [4]\n",
        "# print(lista)\n"
      ],
      "metadata": {
        "id": "_rjrAagb6rmD"
      },
      "execution_count": null,
      "outputs": []
    },
    {
      "cell_type": "markdown",
      "source": [
        "Borrar valores con slicing o vaciar lista"
      ],
      "metadata": {
        "id": "6_Pgr2Q9U3GH"
      }
    },
    {
      "cell_type": "code",
      "source": [
        "lista = ['primero', 'segundo', 'tercero', 'cuarto', 'quinto']\n",
        "print(lista)\n",
        "lista[1:3] = []\n",
        "print(lista)\n",
        "# lista[1:3] = []\n",
        "# print(lista)\n",
        "# lista[::2] = [] # Genera error ya que no les permite la asignación con el salto de valores\n",
        "lista = []\n",
        "print(lista)"
      ],
      "metadata": {
        "id": "-va8Ehdh6sbC"
      },
      "execution_count": null,
      "outputs": []
    },
    {
      "cell_type": "markdown",
      "source": [
        "# Funciones de listas"
      ],
      "metadata": {
        "id": "Vae1Ls-rVC71"
      }
    },
    {
      "cell_type": "markdown",
      "source": [
        "append"
      ],
      "metadata": {
        "id": "8rTwanPPVE8f"
      }
    },
    {
      "cell_type": "code",
      "source": [
        "lista = [1, 2, 3, 'pepe', 'roque']\n",
        "print(lista)\n",
        "# [1, 2, 3, 'pepe', 'roque'].append('otro valor')\n",
        "lista.append('otro valor')\n",
        "print(lista)\n",
        "lista.append(['otro valor', 2])\n",
        "print(lista)\n",
        "lista = lista + ['otro valor', 2]\n",
        "print(lista)"
      ],
      "metadata": {
        "id": "jFgQ501Q11qB"
      },
      "execution_count": null,
      "outputs": []
    },
    {
      "cell_type": "markdown",
      "source": [
        "len"
      ],
      "metadata": {
        "id": "h2X77Tf5VIhW"
      }
    },
    {
      "cell_type": "code",
      "source": [
        "lista = [1, 2, 3, 'pepe', 'roque']\n",
        "print(len(lista))"
      ],
      "metadata": {
        "id": "54r8pC8K2N-E",
        "colab": {
          "base_uri": "https://localhost:8080/"
        },
        "outputId": "50e9c05b-5ac5-4faf-ea6f-61278800e145"
      },
      "execution_count": null,
      "outputs": [
        {
          "output_type": "stream",
          "name": "stdout",
          "text": [
            "5\n"
          ]
        }
      ]
    },
    {
      "cell_type": "markdown",
      "source": [
        "pop"
      ],
      "metadata": {
        "id": "5bwACizdVLYq"
      }
    },
    {
      "cell_type": "code",
      "source": [
        "lista = [1, 2, 3, 'pepe', 'roque']\n",
        "# lista.pop(2)\n",
        "# print(lista)\n",
        "\n",
        "valor_extraido = lista.pop()\n",
        "# valor_extraido = lista.pop(3)\n",
        "print(lista)\n",
        "print(valor_extraido)\n",
        "# lista.pop()\n",
        "# print(lista)"
      ],
      "metadata": {
        "id": "0NYJG9Sk2PeP"
      },
      "execution_count": null,
      "outputs": []
    },
    {
      "cell_type": "markdown",
      "source": [
        "count"
      ],
      "metadata": {
        "id": "OID7oMV8VOv2"
      }
    },
    {
      "cell_type": "code",
      "source": [
        "lista = [1, 2, 3, 'pepe', 2, 'roque', 2]\n",
        "print(lista.count())\n",
        "print(lista.count(2))\n",
        "print(lista.count(4))\n",
        "print(lista.count('pepe'))"
      ],
      "metadata": {
        "id": "V3AOXWTp2RJ0"
      },
      "execution_count": null,
      "outputs": []
    },
    {
      "cell_type": "markdown",
      "source": [
        "index ( salteos para buscar, inexistencia )"
      ],
      "metadata": {
        "id": "JHluap_pVO0n"
      }
    },
    {
      "cell_type": "code",
      "source": [
        "lista = ['pepe', 1, 2, 3, 'pepe', 'roque', 'pepe']\n",
        "print(lista.index('pepe'))\n",
        "print(lista.index('pepe', 1))\n",
        "print(lista.index('pepe', 5, 6))\n",
        "# print(lista.index('pepe', 7))\n",
        "\n",
        "# print(lista.index('salto')) # genera error al no encontrar el dato que se busca"
      ],
      "metadata": {
        "id": "7Ax_qlIH2SrF"
      },
      "execution_count": null,
      "outputs": []
    },
    {
      "cell_type": "markdown",
      "source": [
        "# Break"
      ],
      "metadata": {
        "id": "wuOV2D1P2ftp"
      }
    },
    {
      "cell_type": "markdown",
      "source": [
        "# Tuplas ( heterogeneas )"
      ],
      "metadata": {
        "id": "z814xLkJVg9C"
      }
    },
    {
      "cell_type": "code",
      "source": [
        "lista = [1,2,3,'pepe','gato']\n",
        "tupla = (1,2,3,'pepe','gato')\n",
        "tupla1 = 1,2,3,'pepe','gato'\n",
        "\n",
        "print(type(lista))\n",
        "print(type(tupla))\n",
        "print(type(tupla1))"
      ],
      "metadata": {
        "id": "v3B0pOkcuFfC",
        "colab": {
          "base_uri": "https://localhost:8080/"
        },
        "outputId": "680e8f52-5e0a-4831-d087-718fb9fe9fae"
      },
      "execution_count": null,
      "outputs": [
        {
          "output_type": "stream",
          "name": "stdout",
          "text": [
            "<class 'list'>\n",
            "<class 'tuple'>\n",
            "<class 'tuple'>\n"
          ]
        }
      ]
    },
    {
      "cell_type": "code",
      "source": [
        "lista = [2]\n",
        "# tupla = ('2')\n",
        "# tupla = ('2',)\n",
        "# tupla = ('pepe',)\n",
        "# tupla = (2,)\n",
        "# tupla = (2)\n",
        "# tupla = 2,\n",
        "tupla = 2, 3, 4, 5\n",
        "# print(tupla)\n",
        "print(type(lista))\n",
        "print(type(tupla))"
      ],
      "metadata": {
        "id": "CvrI0WaB2ilT",
        "colab": {
          "base_uri": "https://localhost:8080/"
        },
        "outputId": "7f319265-8cbe-45ad-cb87-5da3490923be"
      },
      "execution_count": null,
      "outputs": [
        {
          "output_type": "stream",
          "name": "stdout",
          "text": [
            "<class 'list'>\n",
            "<class 'tuple'>\n"
          ]
        }
      ]
    },
    {
      "cell_type": "markdown",
      "source": [
        "Inmutabilidad"
      ],
      "metadata": {
        "id": "Ll3Uc5yaW9wK"
      }
    },
    {
      "cell_type": "code",
      "source": [
        "lista = [1,2,3,'pepe','gato']\n",
        "lista[1] = 'otro valor'\n",
        "print(lista)\n",
        "\n",
        "tupla = (1,2,3,'pepe','gato')\n",
        "tupla[1] = 'otro valor'\n",
        "print(tupla)"
      ],
      "metadata": {
        "id": "FyZwjSYj83-s"
      },
      "execution_count": null,
      "outputs": []
    },
    {
      "cell_type": "markdown",
      "source": [
        "Vaciar"
      ],
      "metadata": {
        "id": "LD-tX-2pXDH4"
      }
    },
    {
      "cell_type": "code",
      "source": [
        "tupla = (1,2,3,'pepe','gato')\n",
        "# print(tupla)\n",
        "# print(type(tupla))\n",
        "tupla = ()\n",
        "# print(type(tupla))\n",
        "tupla = tuple()\n",
        "# print(type(tupla))\n",
        "\n",
        "tupla = tuple([2,3,4])\n",
        "print(type(tupla))\n",
        "print(tupla)\n",
        "lista_nueva = list(tupla)\n",
        "print(lista_nueva)\n",
        "\n",
        "# lista = list()\n",
        "# print(type(lista))\n",
        "\n",
        "print(list('ricardo'))\n",
        "print(tuple('ricardo'))"
      ],
      "metadata": {
        "id": "uoS6SELV86rw",
        "colab": {
          "base_uri": "https://localhost:8080/"
        },
        "outputId": "2e26c46b-0053-40f4-e7ff-6426c51cd3f4"
      },
      "execution_count": null,
      "outputs": [
        {
          "output_type": "stream",
          "name": "stdout",
          "text": [
            "<class 'list'>\n",
            "[2, 3, 4]\n",
            "(2, 3, 4)\n"
          ]
        }
      ]
    },
    {
      "cell_type": "markdown",
      "source": [
        "Index y slicing"
      ],
      "metadata": {
        "id": "jFbLHEbjXNYB"
      }
    },
    {
      "cell_type": "code",
      "source": [
        "tupla = (1,2,3,'pepe','gato')\n",
        "print(tupla[2])\n",
        "print(tupla[1:])\n",
        "print(tupla[::2])\n",
        "print(tupla)"
      ],
      "metadata": {
        "id": "sSYGuBQ-8noo"
      },
      "execution_count": null,
      "outputs": []
    },
    {
      "cell_type": "markdown",
      "source": [
        "Concatenación"
      ],
      "metadata": {
        "id": "DAHCVH3lXarA"
      }
    },
    {
      "cell_type": "code",
      "source": [
        "tupla1 = (1,2,3)\n",
        "tupla2 = ('pepe','gato')\n",
        "tupla3 = tupla1 + tupla2\n",
        "print(tupla3)\n",
        "tupla1 = tupla1 + tupla3\n",
        "print(tupla1)"
      ],
      "metadata": {
        "id": "zbJva5zZ8zC2",
        "colab": {
          "base_uri": "https://localhost:8080/"
        },
        "outputId": "2538af41-fe0d-49a7-c40c-c0cdfe49c15e"
      },
      "execution_count": null,
      "outputs": [
        {
          "output_type": "stream",
          "name": "stdout",
          "text": [
            "(1, 2, 3, 'pepe', 'gato')\n",
            "(1, 2, 3, 1, 2, 3, 'pepe', 'gato')\n"
          ]
        }
      ]
    },
    {
      "cell_type": "markdown",
      "source": [
        "# Funciones de tuplas"
      ],
      "metadata": {
        "id": "vYzPpMdBXfQL"
      }
    },
    {
      "cell_type": "markdown",
      "source": [
        "len"
      ],
      "metadata": {
        "id": "Wn52iwxjXfVb"
      }
    },
    {
      "cell_type": "code",
      "source": [
        "tupla34 = (1,2,3,'pepe','gato')\n",
        "print(len(tupla34))"
      ],
      "metadata": {
        "id": "khrCAdSl2j9J"
      },
      "execution_count": null,
      "outputs": []
    },
    {
      "cell_type": "markdown",
      "source": [
        "count"
      ],
      "metadata": {
        "id": "aOE9wTGeXmWC"
      }
    },
    {
      "cell_type": "code",
      "source": [
        "tupla = (1,'pepe', 2,3,'pepe','gato','pepe')\n",
        "print(tupla.count('pepe'))\n",
        "# print((1,'pepe', 2,3,'pepe','gato','pepe').count('pepe'))"
      ],
      "metadata": {
        "id": "uoPzlnkW2oHm"
      },
      "execution_count": null,
      "outputs": []
    },
    {
      "cell_type": "markdown",
      "source": [
        "index ( salteos para buscar, inexistencia )"
      ],
      "metadata": {
        "id": "EY-f6fkHXpZC"
      }
    },
    {
      "cell_type": "code",
      "source": [
        "tupla = ('pepe', 1, 2, 3, 'pepe', 'roque', 'pepe')\n",
        "print(tupla.index('pepe'))\n",
        "print(tupla.index(1))\n",
        "print(tupla.index('pepe', 1))\n",
        "# print(tupla.index('pepe', 5, 6))\n",
        "# print(tupla.index('pepe', 7))\n",
        "\n",
        "# print(tupla.index('salto')) # genera error al no encontrar el dato que se busca"
      ],
      "metadata": {
        "id": "YwiMoIVy2pNv"
      },
      "execution_count": null,
      "outputs": []
    },
    {
      "cell_type": "markdown",
      "source": [
        "Casting"
      ],
      "metadata": {
        "id": "IcDpOVzSXsEd"
      }
    },
    {
      "cell_type": "code",
      "source": [
        "tupla = ('pepe', 1, 2, 3, 'pepe', 'roque', 'pepe')\n",
        "print(tupla)\n",
        "lista_desde_tupla = list(tupla)\n",
        "print(lista_desde_tupla)\n",
        "\n",
        "tupla_desde_lista = tuple(lista_desde_tupla)\n",
        "print(tupla_desde_lista)"
      ],
      "metadata": {
        "id": "DJ_kdC2X2wXb"
      },
      "execution_count": null,
      "outputs": []
    },
    {
      "cell_type": "markdown",
      "source": [
        "Anidación ( acceso )"
      ],
      "metadata": {
        "id": "zGB9G3-gXv3z"
      }
    },
    {
      "cell_type": "markdown",
      "source": [
        " lista = [1,2,3,'pepe','gato', ['lista', 'interna'], ('tupla', 'tupla2')]\n",
        "\n",
        " lista[-1][1] -> 'tupla2'\n",
        "\n",
        " lista[-1][1][2] -> 'p'\n",
        "\n",
        " [1,2,3,'pepe','gato', ['lista', 'interna'], ('tupla', 'tupla2')][-1][1]\n",
        "\n",
        " ('tupla', 'tupla2')[1]\n",
        "\n",
        " 'tupla2'"
      ],
      "metadata": {
        "id": "NRy0smDm0BBN"
      }
    },
    {
      "cell_type": "code",
      "source": [
        "lista = [1,2,3,'pepe','gato', ['lista', 'interna'], ('tupla', 'tupla2')]\n",
        "print(lista)\n",
        "print(lista[-1][0])\n",
        "# print(('tupla', 'tupla2')[0])\n",
        "lista[-2][0] = 2\n",
        "print(lista)"
      ],
      "metadata": {
        "colab": {
          "base_uri": "https://localhost:8080/"
        },
        "id": "ke3xnn9f2s34",
        "outputId": "0226335b-f7d6-420a-81ff-cac287ff4281"
      },
      "execution_count": null,
      "outputs": [
        {
          "output_type": "stream",
          "name": "stdout",
          "text": [
            "[1, 2, 3, 'pepe', 'gato', ['lista', 'interna'], ('tupla', 'tupla2')]\n",
            "tupla\n",
            "[1, 2, 3, 'pepe', 'gato', [2, 'interna'], ('tupla', 'tupla2')]\n"
          ]
        }
      ]
    },
    {
      "cell_type": "code",
      "source": [
        "tupla = (1,2,3,'pepe','gato', ['lista', 'interna'], ('tupla', 'tupla2'))\n",
        "print(tupla)\n",
        "# print(tupla[-1][0])\n",
        "# print(tupla[-2][0])\n",
        "# print(tupla[5][0])\n",
        "# tupla[-2][0] = 2\n",
        "# print(tupla)\n",
        "\n",
        "print(tupla[5][1])\n",
        "print(['lista', 'interna'][1][2])\n",
        "print('interna'[2])\n",
        "print('t')"
      ],
      "metadata": {
        "colab": {
          "base_uri": "https://localhost:8080/"
        },
        "id": "j1AjXYlz3dvC",
        "outputId": "9efa8fd0-e5b0-4782-8f2b-475af49e0890"
      },
      "execution_count": null,
      "outputs": [
        {
          "output_type": "stream",
          "name": "stdout",
          "text": [
            "(1, 2, 3, 'pepe', 'gato', ['lista', 'interna'], ('tupla', 'tupla2'))\n",
            "t\n"
          ]
        }
      ]
    },
    {
      "cell_type": "code",
      "source": [
        "\n",
        "# print(lista[-1])\n",
        "# print(lista[-1][1])\n",
        "# print(len(lista[-1]))\n",
        "# lista[-2][1] = 'otra lista'\n",
        "# lista[-1][1] = 'otra lista' # Genera error\n",
        "# print(lista)\n",
        "# print(lista[-1])\n",
        "\n",
        "# print(tuple(lista))\n",
        "\n",
        "tupla = (1,2,3,'pepe','gato', ['lista', 'interna'], ('tupla', 'tupla2'))\n",
        "print(tupla)\n",
        "tupla[-2][1] = 'otra lista'\n",
        "print(tupla)\n"
      ],
      "metadata": {
        "id": "YIKAcObZ2sMG"
      },
      "execution_count": null,
      "outputs": []
    },
    {
      "cell_type": "markdown",
      "source": [
        "Descripción de la actividad.\n",
        "\n",
        "En esta actividad, podrás poner en práctica todo lo aprendido durante la sesión.  \n",
        "\n",
        "Dadas dos listas LISTA1 y LISTA2 debes realizar las siguientes tareas:\n",
        "\n",
        "- Añade a la LISTA1 el int 456789 y luego el string “Hola Mundo”\n",
        "- Luego añade a la LISTA2 el string “Hola y Adios” y luego el int 5555\n",
        "- Genera una LISTA3 con todos los elementos de la LISTA1 sin considerar el último elemento\n",
        "- Genera una LISTA4 con todos los elementos de la LISTA2 menos el primero y el último elemento\n",
        "- Finalmente, genera una LISTA5 con los elementos de la LISTA4 y de la LISTA3"
      ],
      "metadata": {
        "id": "dQMEUPqKMTi4"
      }
    },
    {
      "cell_type": "code",
      "source": [
        "lista1 = [1, 2, 3, 4, 'pepe', 'hola']\n",
        "lista2 = [1, 5, ('mi', 'gato'), 'richard']\n",
        "\n",
        "lista1.append(456789)\n",
        "lista1.append('Hola Mundo')\n",
        "\n",
        "lista2[6:] = ['Hola y Adios',5555]\n",
        "\n",
        "lista3 = lista1[:-1]\n",
        "\n",
        "lista4 = lista2[1:-1]\n",
        "\n",
        "lista5 = lista4 + lista3\n",
        "\n",
        "print(lista1)\n",
        "print(lista2)\n",
        "print(lista3)\n",
        "print(lista4)\n",
        "print(lista5)"
      ],
      "metadata": {
        "colab": {
          "base_uri": "https://localhost:8080/"
        },
        "id": "g2qWZpfizSId",
        "outputId": "fe1e2068-eb9f-4811-a95a-a033dbb1de3b"
      },
      "execution_count": null,
      "outputs": [
        {
          "output_type": "stream",
          "name": "stdout",
          "text": [
            "[1, 2, 3, 4, 'pepe', 'hola', 456789, 'Hola Mundo']\n",
            "[1, 5, ('mi', 'gato'), 'richard', 'Hola y Adios', 5555]\n",
            "[1, 2, 3, 4, 'pepe', 'hola', 456789]\n",
            "[5, ('mi', 'gato'), 'richard', 'Hola y Adios']\n",
            "[5, ('mi', 'gato'), 'richard', 'Hola y Adios', 1, 2, 3, 4, 'pepe', 'hola', 456789]\n"
          ]
        }
      ]
    },
    {
      "cell_type": "code",
      "source": [
        "lista1.append(456789)\n",
        "lista1.append('Hola Mundo')\n",
        "print(lista1)\n",
        "\n",
        "lista2 = lista2 + ['Hola y Adios', 5555]\n",
        "print(lista2)\n",
        "\n",
        "lista3 = lista1[:-1]\n",
        "print(lista3)\n",
        "\n",
        "lista4 = lista2[1:-1]\n",
        "print(lista4)\n",
        "\n",
        "lista5 = lista4 + lista3\n",
        "print(lista5)"
      ],
      "metadata": {
        "id": "0xgLYTUewENk"
      },
      "execution_count": null,
      "outputs": []
    },
    {
      "cell_type": "code",
      "source": [
        "lista1 = [1, 2, 3, 4, 'pepe', 'hola']\n",
        "lista2 = [1, 5, ('mi', 'gato'), 'richard']\n",
        "\n",
        "lista1.append(456789)\n",
        "lista1.append('Hola Mundo')\n",
        "\n",
        "lista2[4:] = ['Hola y Adios', 5555]\n",
        "\n",
        "lista3 = lista1[:-1]\n",
        "\n",
        "# lista1.pop()\n",
        "# lista3 = lista1\n",
        "\n",
        "lista4 = lista2[1:-1]\n",
        "\n",
        "lista5 = lista4 + lista3\n",
        "\n",
        "\n",
        "print(lista1)\n",
        "print(lista2)\n",
        "print(lista3)\n",
        "print(lista4)\n",
        "print(lista5)"
      ],
      "metadata": {
        "id": "q9MB2s9aMMap"
      },
      "execution_count": null,
      "outputs": []
    },
    {
      "cell_type": "markdown",
      "source": [
        "Descripción de la actividad.\n",
        "A partir de una variable llamada tupla, imprimir por pantalla de forma ordenada, lo siguiente:\n",
        "1. El último ítem de tupla\n",
        "2. El número de ítems de tupla\n",
        "3. La posición donde se encuentra el ítem 87 de tupla\n",
        "4. Una lista con los últimos tres ítems de tupla\n",
        "5. Un ítem que haya en la posición 8 de tupla\n",
        "6. El número de veces que el ítem 7 aparece en tupla\n",
        "\n",
        "Copia esta tupla para iniciar el ejercicio:\n",
        "tupla = (8, 15, 4, 39, 5, 89, 87,  19, 7, -755, 88, 123, 2, 11, 15, 9, 355)\n"
      ],
      "metadata": {
        "id": "oBu4rWCgPKAC"
      }
    },
    {
      "cell_type": "code",
      "source": [
        "tupla = (8, 15, 4, 39, 5, 89, 87, 19, 7, -755, 88, 123, 2, 11, 15, 9, 355)\n",
        "\n",
        "# El último ítem de tupla\n",
        "print(tupla[-1])\n",
        "\n",
        "# El número de ítems de tupla\n",
        "print(len(tupla))\n",
        "\n",
        "# La posición donde se encuentra el ítem 87 de tupla\n",
        "print(tupla.index(87))\n",
        "\n",
        "# Una lista con los últimos tres ítems de tupla\n",
        "print(list(tupla[-3:]))\n",
        "\n",
        "# Un ítem que haya en la posición 8 de tupla\n",
        "print(tupla[8])\n",
        "\n",
        "# El número de veces que el ítem 7 aparece en tupla\n",
        "print(tupla.count(7))\n"
      ],
      "metadata": {
        "id": "Oeby9sVI0xun"
      },
      "execution_count": null,
      "outputs": []
    },
    {
      "cell_type": "code",
      "source": [
        "tupla = (8, 15, 4, 39, 5, 89, 87, 19, 7, -755, 88, 123, 2, 11, 15, 9, 355)\n",
        "\n",
        "# 1\n",
        "print(tupla[-1])\n",
        "\n",
        "# 2\n",
        "print(len(tupla))\n",
        "\n",
        "# 3\n",
        "print(tupla.index(87))\n",
        "\n",
        "# 4\n",
        "print(list(tupla[-3:]))\n",
        "\n",
        "# 5\n",
        "print(tupla[8])\n",
        "\n",
        "# 6\n",
        "print(tupla.count(7))"
      ],
      "metadata": {
        "id": "ZDFCmGGbv-yF"
      },
      "execution_count": null,
      "outputs": []
    },
    {
      "cell_type": "code",
      "source": [
        "lista = ['ines', 'pablo', 'ignacio', 'bautista', 'justo']\n",
        "print(lista)\n",
        "# ['ines', 'pablo', 'ignacio', 'bautista', 'justo']\n",
        "print(lista[1:3])\n",
        "# ['pablo', 'ignacio']\n",
        "\n",
        "lista[2:4] = ['valentina', 'julian']\n",
        "# ['ines', 'pablo', 'ignacio', 'bautista', 'justo']\n",
        "# ['ines', 'pablo', valentina', 'julian', 'justo']\n",
        "print(lista)\n",
        "# ['ines', 'pablo', valentina', 'julian', 'justo']\n",
        "\n",
        "lista[1:4] = [' los del medio']\n",
        "# ['ines', 'pablo', valentina', 'julian', 'justo']\n",
        "# ['ines', ' los del medio', 'justo']\n",
        "print(lista)\n",
        "# ['ines', ' los del medio', 'justo']\n",
        "\n",
        "print(lista[1:4])\n",
        "# [' los del medio', 'justo']\n",
        "lista[1:3] = ['no', 'me', 'los', 'banco']\n",
        "# ['ines', 'no', 'me', 'los', 'banco']\n",
        "print(lista)\n",
        "# ['ines', 'no', 'me', 'los', 'banco']\n",
        "\n",
        "lista[1:3] = ['hola']\n",
        "# ['ines', 'no', 'me', 'los', 'banco']\n",
        "# ['ines', 'hola', 'los', 'banco']\n",
        "print(lista)\n",
        "# ['ines', 'hola', 'los', 'banco']\n"
      ],
      "metadata": {
        "id": "eeiBEjIwKfui"
      },
      "execution_count": null,
      "outputs": []
    }
  ]
}