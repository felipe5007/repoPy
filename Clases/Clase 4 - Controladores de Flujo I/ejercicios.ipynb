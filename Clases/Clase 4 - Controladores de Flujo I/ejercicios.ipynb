{
 "cells": [
  {
   "cell_type": "code",
   "execution_count": null,
   "metadata": {},
   "outputs": [],
   "source": [
    "Generacion_silenciosa = if \n",
    "\n",
    "Baby_Boomer = \n",
    "\n",
    "Generacion_X = \n",
    "\n",
    "Generacion_Y =\n",
    "\n",
    "Generacion_Z =\n",
    "\n",
    "Milenials = "
   ]
  }
 ],
 "metadata": {
  "language_info": {
   "name": "python"
  }
 },
 "nbformat": 4,
 "nbformat_minor": 2
}
