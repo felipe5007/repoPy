{
  "nbformat": 4,
  "nbformat_minor": 0,
  "metadata": {
    "colab": {
      "provenance": []
    },
    "kernelspec": {
      "name": "python3",
      "display_name": "Python 3"
    },
    "language_info": {
      "name": "python"
    }
  },
  "cells": [
    {
      "cell_type": "markdown",
      "source": [],
      "metadata": {
        "id": "ZLvLx6Kws5E6"
      }
    },
    {
      "cell_type": "markdown",
      "source": [
        "# UML\n",
        "https://es.wikipedia.org/wiki/Lenguaje_unificado_de_modelado"
      ],
      "metadata": {
        "id": "9auCLo_dmeWx"
      }
    },
    {
      "cell_type": "markdown",
      "source": [
        "# if, multiples if\n",
        "\n",
        "    if <condicion a cumplirse>:\n",
        "        <bloque de codigo a ejecuarse si la condicion se cumple>"
      ],
      "metadata": {
        "id": "Zit21BjOmo4M"
      }
    },
    {
      "cell_type": "code",
      "execution_count": null,
      "metadata": {
        "id": "mJDNszblVNq8"
      },
      "outputs": [],
      "source": [
        "if True:\n",
        "    print('Hola, empece con los if')\n",
        "    a = 15\n",
        "    b = 14\n",
        "    print(a+b)\n",
        "print('mas codigo')\n",
        "\n",
        "if False:\n",
        "    print('No deberia aparecer')"
      ]
    },
    {
      "cell_type": "code",
      "source": [
        "primer_numero = int(input('Ingrese una numero: '))\n",
        "segundo_numero = int(input('Ingrese otro numero: '))\n",
        "\n",
        "if primer_numero < segundo_numero:\n",
        "    print('El primer valor es menor al segundo')\n",
        "\n",
        "if primer_numero > segundo_numero:\n",
        "    print('El primer valor es mayor al segundo')\n",
        "    print('Y tambien muestro esto porque sigo estando en el mismo bloque de codigo')\n",
        "\n",
        "if primer_numero == segundo_numero:\n",
        "    print('Ambos valores son iguales')\n",
        "\n",
        "if primer_numero < segundo_numero and primer_numero != segundo_numero - 5:\n",
        "    print('Se cumplio la condicion compleja')\n",
        "\n",
        "print('Estoy fuera de los if')"
      ],
      "metadata": {
        "id": "A5CzRswpnlKk"
      },
      "execution_count": null,
      "outputs": []
    },
    {
      "cell_type": "markdown",
      "source": [
        "# Anidado de if"
      ],
      "metadata": {
        "id": "zqJdonCLoEXO"
      }
    },
    {
      "cell_type": "code",
      "source": [
        "primer_numero = int(input('Ingrese una numero: '))\n",
        "segundo_numero = int(input('Ingrese otro numero: '))\n",
        "\n",
        "if primer_numero < segundo_numero:\n",
        "    print('primer_numero es menor')\n",
        "    if primer_numero == segundo_numero - 3:\n",
        "        print('primer_numero es igual a segundo_numero menos 3')"
      ],
      "metadata": {
        "id": "2FF6pRqSn9cG"
      },
      "execution_count": null,
      "outputs": []
    },
    {
      "cell_type": "markdown",
      "source": [
        "# else"
      ],
      "metadata": {
        "id": "8HiRsB7voICP"
      }
    },
    {
      "cell_type": "code",
      "source": [
        "if True:\n",
        "    pass # ...\n",
        "else:\n",
        "    ..."
      ],
      "metadata": {
        "id": "bOCQ5uRgoTks"
      },
      "execution_count": null,
      "outputs": []
    },
    {
      "cell_type": "markdown",
      "source": [
        "### ej1:"
      ],
      "metadata": {
        "id": "rAQ7lETlobU2"
      }
    },
    {
      "cell_type": "code",
      "source": [
        "primer_numero = int(input('Ingrese una numero: '))\n",
        "segundo_numero = int(input('Ingrese otro numero: '))\n",
        "if primer_numero == segundo_numero:\n",
        "    print('son iguales')\n",
        "else:\n",
        "    print('no son iguales')\n",
        "\n",
        "print('Estoy fuera de los if')"
      ],
      "metadata": {
        "id": "_ljCRiRUoZOg"
      },
      "execution_count": null,
      "outputs": []
    },
    {
      "cell_type": "markdown",
      "source": [
        "### ej2:"
      ],
      "metadata": {
        "id": "yI9fyrj-onla"
      }
    },
    {
      "cell_type": "code",
      "source": [
        "var = 15\n",
        "primer_numero = int(input('Ingrese una numero: '))\n",
        "segundo_numero = int(input('Ingrese otro numero: '))\n",
        "\n",
        "if primer_numero == segundo_numero:\n",
        "    print('son iguales')\n",
        "    if primer_numero < var:\n",
        "        print('son menores a var')\n",
        "    else:\n",
        "        print('son mayores a var')\n",
        "else:\n",
        "    print('no son iguales')\n",
        "\n",
        "print('Estoy fuera de los if')"
      ],
      "metadata": {
        "id": "LNxhD4zrovRm"
      },
      "execution_count": null,
      "outputs": []
    },
    {
      "cell_type": "markdown",
      "source": [
        "### ej3:"
      ],
      "metadata": {
        "id": "HWGkC_5vo2hS"
      }
    },
    {
      "cell_type": "code",
      "source": [
        "var = 15\n",
        "primer_numero = int(input('Ingrese una numero: '))\n",
        "segundo_numero = int(input('Ingrese otro numero: '))\n",
        "\n",
        "if primer_numero == segundo_numero:\n",
        "    print('son iguales')\n",
        "    if primer_numero < var:\n",
        "        print('son menores a var')\n",
        "    else:\n",
        "        print('son mayores a var')\n",
        "else:\n",
        "    print('no son iguales')\n",
        "    if primer_numero < var:\n",
        "        print('primer_numero es menor a var')\n",
        "        if segundo_numero < var:\n",
        "            print('segndo_numero es menor a var')\n",
        "        else:\n",
        "            print('segndo_numero es mayor a var')\n",
        "    else:\n",
        "        print('primer_numero es mayor a var')\n",
        "\n",
        "print('Estoy fuera de los if')"
      ],
      "metadata": {
        "id": "dhJ2VuEVo3G6"
      },
      "execution_count": null,
      "outputs": []
    },
    {
      "cell_type": "markdown",
      "source": [
        "# elif"
      ],
      "metadata": {
        "id": "oSduuJivpAZY"
      }
    },
    {
      "cell_type": "code",
      "source": [
        "primer_numero = int(input('Ingrese una numero: '))\n",
        "segundo_numero = int(input('Ingrese otro numero: '))\n",
        "\n",
        "if primer_numero < segundo_numero:\n",
        "    print('primer_numero es menor que segundo_numero')\n",
        "elif primer_numero == segundo_numero:\n",
        "    print('son iguales')\n",
        "else:\n",
        "    print('segundo_numero es menor que primer_numero')"
      ],
      "metadata": {
        "id": "xK4ZfQqDpDam"
      },
      "execution_count": null,
      "outputs": []
    },
    {
      "cell_type": "markdown",
      "source": [
        "### Ejemplos comparando usos distintos de if"
      ],
      "metadata": {
        "id": "grmPF4TuqsdY"
      }
    },
    {
      "cell_type": "code",
      "source": [
        "# if primer_numero < 20:\n",
        "#     print('es menor a 20')\n",
        "# if primer_numero < 30:\n",
        "#     print('es menor a 30')\n",
        "# if primer_numero < 40:\n",
        "#     print('es menor a 40')\n",
        "# if primer_numero < 50:\n",
        "#     print('es menor a 50')\n",
        "\n",
        "\n",
        "# if primer_numero < 50:\n",
        "#     print('es menor a 50')\n",
        "#     if primer_numero < 40:\n",
        "#         print('es menor a 40')\n",
        "#         if primer_numero < 30:\n",
        "#             print('es menor a 30')\n",
        "#             if primer_numero < 20:\n",
        "#                 print('es menor a 20')\n",
        "\n",
        "\n",
        "# if primer_numero < 20:\n",
        "#     print('es menor a 20')\n",
        "# elif primer_numero < 30:\n",
        "#     print('es menor a 30')\n",
        "# elif primer_numero < 40:\n",
        "#     print('es menor a 40')\n",
        "# elif primer_numero < 50:\n",
        "#     print('es menor a 50')\n",
        "# else:\n",
        "#     print('no se cumplio ninguna condicion de las anteriores')"
      ],
      "metadata": {
        "id": "ZG7eXpKkqpbD"
      },
      "execution_count": null,
      "outputs": []
    },
    {
      "cell_type": "code",
      "source": [
        "# if True:\n",
        "#     print('Hola')\n",
        "# if False:\n",
        "#     print('True')\n",
        "# elif False:\n",
        "#     print('Entre en el primer elif')\n",
        "# else:\n",
        "#     print('pase por el else')\n",
        "\n",
        "\n",
        "# if True:\n",
        "#     ...\n",
        "# elif True:\n",
        "#     ...\n",
        "# else:\n",
        "#     ...\n",
        "\n",
        "\n",
        "# if True:\n",
        "#     ...\n",
        "\n",
        "\n",
        "# if True:\n",
        "#     ...\n",
        "# else:\n",
        "#    ...\n",
        "\n",
        "\n",
        "# if True:\n",
        "#     ...\n",
        "# elif True:\n",
        "#     ..."
      ],
      "metadata": {
        "id": "C1ALF15LVT4H"
      },
      "execution_count": null,
      "outputs": []
    },
    {
      "cell_type": "markdown",
      "source": [
        "### Ejemplo de calificacion"
      ],
      "metadata": {
        "id": "ETSISqPTrzql"
      }
    },
    {
      "cell_type": "code",
      "source": [
        "nota = 15\n",
        "if nota < 4:\n",
        "    print('malo')\n",
        "elif nota < 7:\n",
        "    print('bueno')\n",
        "elif nota < 9:\n",
        "    print('muy bueno')\n",
        "elif nota < 11:\n",
        "    print('excelente')\n",
        "else:\n",
        "    print('pone una nota de 0 a 10')"
      ],
      "metadata": {
        "id": "FYznWf0VrrIG"
      },
      "execution_count": null,
      "outputs": []
    },
    {
      "cell_type": "markdown",
      "source": [
        "### Ejemplo 2"
      ],
      "metadata": {
        "id": "qB3QLPOKr6-w"
      }
    },
    {
      "cell_type": "code",
      "source": [
        "primer_numero = int(input('Ingrese una numero: '))\n",
        "segundo_numero = int(input('Ingrese otro numero: '))\n",
        "\n",
        "if primer_numero < segundo_numero:\n",
        "    print('primer_numero es menor que segundo_numero')\n",
        "elif primer_numero == segundo_numero:\n",
        "    print('son iguales')\n",
        "    if primer_numero < 20:\n",
        "        print('es menor a 20')\n",
        "    elif primer_numero < 30:\n",
        "        print('es menor a 30')\n",
        "    elif primer_numero < 40:\n",
        "        print('es menor a 40')\n",
        "    elif primer_numero < 50:\n",
        "        print('es menor a 50')\n",
        "    else:\n",
        "        print('no se cumplio ninguna condicion de las anteriores')\n",
        "else:\n",
        "    print('segundo_numero es menor que primer_numero')"
      ],
      "metadata": {
        "id": "tU5OmcWnrw0C"
      },
      "execution_count": null,
      "outputs": []
    },
    {
      "cell_type": "markdown",
      "source": [
        "### Ejemplo 3"
      ],
      "metadata": {
        "id": "oToqVAF4sEjF"
      }
    },
    {
      "cell_type": "code",
      "source": [
        "variable = 0\n",
        "if primer_numero < segundo_numero:\n",
        "    variable += 15\n",
        "elif primer_numero == segundo_numero:\n",
        "    variable += 24\n",
        "    if primer_numero < 20:\n",
        "        variable *= 15\n",
        "    elif primer_numero < 30:\n",
        "        variable /= 15\n",
        "    elif primer_numero < 40:\n",
        "        variable **= 15\n",
        "    elif primer_numero < 50:\n",
        "        variable -= 15\n",
        "    else:\n",
        "        print('no se cumplio ninguna condicion de las anteriores')\n",
        "else:\n",
        "    print('segundo_numero es menor que primer_numero')\n",
        "\n",
        "print(variable)"
      ],
      "metadata": {
        "id": "fHYLgOWaruNf"
      },
      "execution_count": null,
      "outputs": []
    },
    {
      "cell_type": "markdown",
      "source": [
        "### Ej 1: Generaciones digitales (20min)\n",
        "Descripción de la actividad.\n",
        "\n",
        "Escribir un programa que indique la generación correspondiente para un año de nacimiento indicado.\n",
        "\n",
        "Importante: Para los años que no pertenezcan a ninguna generación, se deberá colocar: “No existe generación asociada”\n",
        "\n",
        "1920-1945 Silenciosa\n",
        "\n",
        "1946-1964 Baby Boomer\n",
        "\n",
        "1965-1979 X\n",
        "\n",
        "1980-2000 Y\n",
        "\n",
        "2001-2010 Z\n"
      ],
      "metadata": {
        "id": "TsRaDDSsvlEH"
      }
    },
    {
      "cell_type": "code",
      "source": [
        "anio = int(input('Ingrese un anio:'))\n",
        "\n",
        "if 1920 <= anio <= 1945:\n",
        "    print('Generacion Silenciosa')\n",
        "elif 1946  <= anio <=  1964:\n",
        "    print('Baby Boomer')\n",
        "elif 1965  <= anio <=  1979:\n",
        "    print('Generacion X')\n",
        "elif 1980  <= anio <=  2000:\n",
        "    print('Generacion Y')\n",
        "elif 2001  <= anio <=  2010:\n",
        "    print('Generacion Z')\n",
        "else:\n",
        "    print('No existe generación asociada')"
      ],
      "metadata": {
        "id": "nixEDKPKwHrQ"
      },
      "execution_count": null,
      "outputs": []
    },
    {
      "cell_type": "markdown",
      "source": [
        "### Ej 2: Aprobación de Crédito bancario (20min)\n",
        "Descripción de la actividad.\n",
        "\n",
        "Para aprobar un crédito, el cliente debe ser mayor de edad. Además, debe tener una antigüedad en el sistema financiero de mínimo 3 años y un ingreso mayor a 2500 dólares.  En caso no tenga la antigüedad suficiente, su ingreso mensual debe ser como mínimo 4000 dólares. Si no cumple ninguna de las condiciones, no se aprueba el crédito.\n",
        "\n",
        "Datos iniciales\n",
        "\n",
        "edad = 15\n",
        "\n",
        "antigüedad = 10\n",
        "\n",
        "ingreso = 1500\n"
      ],
      "metadata": {
        "id": "Wql2Ur6fpMdY"
      }
    },
    {
      "cell_type": "code",
      "source": [
        "edad_cliente = 15\n",
        "antiguedad = 10\n",
        "ingreso = 1500\n",
        "\n",
        "if edad_cliente >= 18 and ((antiguedad >= 3 and ingreso > 2500) or ingreso >= 4000):\n",
        "    print('Se aprobo')\n",
        "else:\n",
        "    print('No se aprueba')"
      ],
      "metadata": {
        "id": "14EoaL3osNfK"
      },
      "execution_count": null,
      "outputs": []
    },
    {
      "cell_type": "markdown",
      "source": [
        "### Ej 2: Marvel vs Capcom (20min)\n",
        "Un curso se ha dividido en dos grupos: A y B de acuerdo al nombre y a\n",
        "una preferencia (Marvel o Capcom).\n",
        "\n",
        "El grupo A está formado por fans de Marvel con un nombre anterior a la M y\n",
        "los fans de Capcom con un nombre posterior\n",
        "a la N y el grupo B por el resto.\n",
        "\n",
        "Escribir un programa que pregunte al usuario su nombre y preferencia,\n",
        "y muestre por pantalla el grupo que le corresponde."
      ],
      "metadata": {
        "id": "rg-eK6uypNMZ"
      }
    },
    {
      "cell_type": "code",
      "source": [],
      "metadata": {
        "id": "piZLZOiQpNeV"
      },
      "execution_count": null,
      "outputs": []
    }
  ]
}