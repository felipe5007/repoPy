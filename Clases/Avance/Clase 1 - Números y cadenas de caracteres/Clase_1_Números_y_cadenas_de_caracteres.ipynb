{
  "cells": [
    {
      "cell_type": "code",
      "execution_count": 1,
      "metadata": {
        "id": "2BqsuafRsxgw"
      },
      "outputs": [
        {
          "name": "stdout",
          "output_type": "stream",
          "text": [
            "0\n",
            "4\n"
          ]
        },
        {
          "ename": "",
          "evalue": "",
          "output_type": "error",
          "traceback": [
            "\u001b[1;31mEl Kernel se bloqueó al ejecutar código en la celda actual o en una celda anterior. Revise el código de las celdas para identificar una posible causa del error. Haga clic <a href='https://aka.ms/vscodeJupyterKernelCrash'>aquí</a> para obtener más información. Vea el [registro] de Jupyter (command:jupyter.viewOutput) para obtener más detalles."
          ]
        }
      ],
      "source": [
        "print(1-1)\n",
        "print(2+2)"
      ]
    },
    {
      "cell_type": "markdown",
      "metadata": {
        "id": "Lbv2XlOuZZZy"
      },
      "source": [
        "print/type"
      ]
    },
    {
      "cell_type": "code",
      "execution_count": 1,
      "metadata": {
        "id": "RK9WkeC0bEeh"
      },
      "outputs": [
        {
          "name": "stdout",
          "output_type": "stream",
          "text": [
            "2\n",
            "4\n"
          ]
        }
      ],
      "source": [
        "print(11//5)\n",
        "print(2+2)"
      ]
    },
    {
      "cell_type": "code",
      "execution_count": 2,
      "metadata": {
        "id": "xoaNGtsX0S7u"
      },
      "outputs": [
        {
          "name": "stdout",
          "output_type": "stream",
          "text": [
            "2\n",
            "4\n"
          ]
        }
      ],
      "source": [
        "print(2)\n",
        "print(4)"
      ]
    },
    {
      "cell_type": "code",
      "execution_count": 3,
      "metadata": {
        "id": "yUPG4VBQ0e2s"
      },
      "outputs": [
        {
          "data": {
            "text/plain": [
              "4"
            ]
          },
          "execution_count": 3,
          "metadata": {},
          "output_type": "execute_result"
        }
      ],
      "source": [
        "2\n",
        "4"
      ]
    },
    {
      "cell_type": "code",
      "execution_count": 4,
      "metadata": {
        "colab": {
          "base_uri": "https://localhost:8080/"
        },
        "id": "sWRAylP-0wLT",
        "outputId": "522ca581-2907-4288-d005-7cf0f4197b66"
      },
      "outputs": [
        {
          "data": {
            "text/plain": [
              "int"
            ]
          },
          "execution_count": 4,
          "metadata": {},
          "output_type": "execute_result"
        }
      ],
      "source": [
        "type(4)\n",
        "type(3)"
      ]
    },
    {
      "cell_type": "code",
      "execution_count": null,
      "metadata": {
        "colab": {
          "base_uri": "https://localhost:8080/"
        },
        "id": "Zw8TNU40X0iW",
        "outputId": "785ae6b7-ca63-4e48-808b-040fb56a1c4d"
      },
      "outputs": [
        {
          "name": "stdout",
          "output_type": "stream",
          "text": [
            "<class 'int'>\n",
            "<class 'int'>\n"
          ]
        }
      ],
      "source": [
        "print(type(4))\n",
        "print(type(3))"
      ]
    },
    {
      "cell_type": "markdown",
      "metadata": {
        "id": "DiFu0yDW9bNi"
      },
      "source": [
        "# Numeros"
      ]
    },
    {
      "cell_type": "code",
      "execution_count": null,
      "metadata": {
        "colab": {
          "base_uri": "https://localhost:8080/"
        },
        "id": "_0g9PFsDIQ3G",
        "outputId": "5c82c67f-8a7f-4cf9-e6e1-15979cddab49"
      },
      "outputs": [
        {
          "name": "stdout",
          "output_type": "stream",
          "text": [
            "<class 'int'>\n",
            "<class 'float'>\n",
            "<class 'complex'>\n"
          ]
        }
      ],
      "source": [
        "print(type(1)) # int => enteros\n",
        "print(type(2.5)) # float => flotantes\n",
        "print(type(2.5j)) # complex => complejos\n",
        "# print(type(2.5L)) # long => se utilizaba en versiones anteriores de python"
      ]
    },
    {
      "cell_type": "code",
      "execution_count": null,
      "metadata": {
        "id": "KODo6-FobeoH"
      },
      "outputs": [],
      "source": []
    },
    {
      "cell_type": "markdown",
      "metadata": {
        "id": "NgcpZs01ptoW"
      },
      "source": [
        "### Operadores aritmeticos"
      ]
    },
    {
      "cell_type": "code",
      "execution_count": 5,
      "metadata": {
        "id": "Z6o8Z_4wIZgR"
      },
      "outputs": [
        {
          "name": "stdout",
          "output_type": "stream",
          "text": [
            "6\n",
            "0\n",
            "9\n",
            "1.6666666666666667\n",
            "1\n",
            "2\n",
            "125\n"
          ]
        }
      ],
      "source": [
        "# Suma\n",
        "print(3+3)\n",
        "# Resta\n",
        "print(3-3)\n",
        "# Multiplicacion\n",
        "print(3*3)\n",
        "# Division decimal\n",
        "print(5/3)\n",
        "# Division Entera\n",
        "print(5//3)\n",
        "# Modulo ( Resto de la division entera de 5 y 3 )\n",
        "print(5%3)\n",
        "# Potenciacion\n",
        "print(5**3)"
      ]
    },
    {
      "cell_type": "markdown",
      "metadata": {
        "id": "YYPD37tEZi8b"
      },
      "source": [
        "### Expresión\n",
        "\n",
        "\n",
        "5 + 5 * 12 / 3"
      ]
    },
    {
      "cell_type": "markdown",
      "metadata": {
        "id": "Bjlh3mvLpOjs"
      },
      "source": [
        "### Precedencia\n",
        "\n",
        "python ejecuta operacion de izq a derecha\n",
        "\n",
        "---\n",
        "\n",
        "() -> ** -> / // * %  -> + -\n",
        "\n",
        "primero -> segundo -> tercero -> cuarto\n",
        "\n",
        "---\n",
        "\n",
        "1ro. ()\n",
        "\n",
        "2do. **\n",
        "\n",
        "3ro. * / // %\n",
        "\n",
        "4to. + -\n",
        "\n",
        "---"
      ]
    },
    {
      "cell_type": "code",
      "execution_count": 6,
      "metadata": {
        "colab": {
          "base_uri": "https://localhost:8080/"
        },
        "id": "fOERFpIDbEdM",
        "outputId": "78adbe3f-38ae-4f61-c827-808fa4508d21"
      },
      "outputs": [
        {
          "data": {
            "text/plain": [
              "223.0"
            ]
          },
          "execution_count": 6,
          "metadata": {},
          "output_type": "execute_result"
        }
      ],
      "source": [
        "5 + 5 * 12 / 3 - 45 + 3 ** 5"
      ]
    },
    {
      "cell_type": "markdown",
      "metadata": {
        "id": "X5bk20Qraade"
      },
      "source": [
        "\n",
        "5 + 5 * 12 / 3 - 45 + 3 ** 5\n",
        "\n",
        "5 + 5 * 12 / 3 - 45 + 243\n",
        "\n",
        "5 + 20.0 - 45 + 243\n",
        "\n",
        "223.0"
      ]
    },
    {
      "cell_type": "code",
      "execution_count": 7,
      "metadata": {
        "colab": {
          "base_uri": "https://localhost:8080/"
        },
        "id": "ZGgbSzs4a4Qm",
        "outputId": "30738572-b265-43d6-d2af-f8a81fa9c3b6"
      },
      "outputs": [
        {
          "data": {
            "text/plain": [
              "-263.0"
            ]
          },
          "execution_count": 7,
          "metadata": {},
          "output_type": "execute_result"
        }
      ],
      "source": [
        "5 + 5 * 12 / 3 - ( 45 + 3 ** 5 )"
      ]
    },
    {
      "cell_type": "markdown",
      "metadata": {
        "id": "FH8PDlcIbBCm"
      },
      "source": [
        "5 + 5 * 12 / 3 - ( 45 + 3 ** 5 )\n",
        "\n",
        "5 + 5 * 12 / 3 - ( 45 + 243 )\n",
        "\n",
        "5 + 5 * 12 / 3 - 288\n",
        "\n",
        "5 + 20 - 288\n",
        "\n",
        "-263"
      ]
    },
    {
      "cell_type": "markdown",
      "metadata": {
        "id": "_3FOXplJp51G"
      },
      "source": [
        "# Cadenas de texto / string"
      ]
    },
    {
      "cell_type": "code",
      "execution_count": 8,
      "metadata": {
        "colab": {
          "base_uri": "https://localhost:8080/",
          "height": 35
        },
        "id": "wLo5cy7VdXuU",
        "outputId": "da68b042-e043-4446-c600-c910515fcfd0"
      },
      "outputs": [
        {
          "data": {
            "text/plain": [
              "'mama! cortaste la luz?'"
            ]
          },
          "execution_count": 8,
          "metadata": {},
          "output_type": "execute_result"
        }
      ],
      "source": [
        "'mama! cortaste la luz'\n",
        "\"mama! cortaste la luz?\""
      ]
    },
    {
      "cell_type": "code",
      "execution_count": 9,
      "metadata": {
        "id": "iOCaVlhsMvFI"
      },
      "outputs": [
        {
          "name": "stdout",
          "output_type": "stream",
          "text": [
            "<class 'str'>\n"
          ]
        }
      ],
      "source": [
        "# pepito corre solo\n",
        "print(type(\"mama! cortaste la luz?\")) # pepito corre solo"
      ]
    },
    {
      "cell_type": "code",
      "execution_count": null,
      "metadata": {
        "colab": {
          "base_uri": "https://localhost:8080/"
        },
        "id": "jxIEFgc3qMNT",
        "outputId": "5cd2b490-4c35-44fa-b4ca-cfb27152ad8d"
      },
      "outputs": [
        {
          "name": "stdout",
          "output_type": "stream",
          "text": [
            "mama! cortaste la luz\n",
            "mama! cortaste la luz\n"
          ]
        }
      ],
      "source": [
        "print('mama! cortaste la luz')\n",
        "print(\"mama! cortaste la luz\")"
      ]
    },
    {
      "cell_type": "code",
      "execution_count": null,
      "metadata": {
        "colab": {
          "base_uri": "https://localhost:8080/"
        },
        "id": "cmUStKUo3Qg0",
        "outputId": "fb3d1d2b-377c-451b-de63-5f6b69f974bc"
      },
      "outputs": [
        {
          "name": "stdout",
          "output_type": "stream",
          "text": [
            "It is blue\n",
            "It's blue\n"
          ]
        }
      ],
      "source": [
        "print('It is blue')\n",
        "print(\"It's blue\")"
      ]
    },
    {
      "cell_type": "code",
      "execution_count": null,
      "metadata": {
        "colab": {
          "base_uri": "https://localhost:8080/"
        },
        "id": "qvnJqSjn4F8Y",
        "outputId": "c057a90f-4125-4cc2-bd0e-87b77007beea"
      },
      "outputs": [
        {
          "name": "stdout",
          "output_type": "stream",
          "text": [
            "Y Ricardo grito: mama! cortaste la luz\n",
            "Y Ricardo grito: \"mama! cortaste la luz\"\n"
          ]
        }
      ],
      "source": [
        "print(\"Y Ricardo grito: mama! cortaste la luz\")\n",
        "print('Y Ricardo grito: \"mama! cortaste la luz\"')"
      ]
    },
    {
      "cell_type": "code",
      "execution_count": null,
      "metadata": {
        "id": "7wS1GtE635G4"
      },
      "outputs": [],
      "source": [
        "print(\"It's blue\")\n",
        "print('Y Ricardo grito: \"mama! cortaste la luz\"')"
      ]
    },
    {
      "cell_type": "code",
      "execution_count": null,
      "metadata": {
        "colab": {
          "base_uri": "https://localhost:8080/"
        },
        "id": "xMWaxU9z6-fG",
        "outputId": "289831be-b2e2-4201-9080-435b7be1bdd1"
      },
      "outputs": [
        {
          "name": "stdout",
          "output_type": "stream",
          "text": [
            "\"letras\", \"palabras\"\n",
            "\"letras\", \"palabras\"\n",
            "'letras', 'palabras'\n",
            "'letras',\n",
            " 'palabras'\n",
            "'letras',\t'palabras'\n"
          ]
        }
      ],
      "source": [
        "# Cadena con formato, escape de caracteres, raw-string, f-string\n",
        "\n",
        "print('\"letras\", \"palabras\"')\n",
        "print(\"\\\"letras\\\", \\\"palabras\\\"\")\n",
        "print('\\'letras\\', \\'palabras\\'')\n",
        "# print(\"\"letras\", \"palabras\"\")\n",
        "print(\"'letras',\\n 'palabras'\")\n",
        "print(\"'letras',\\t'palabras'\")"
      ]
    },
    {
      "cell_type": "code",
      "execution_count": null,
      "metadata": {
        "id": "-8V2n0kEJ2oD"
      },
      "outputs": [],
      "source": [
        "# print('pepito\n",
        "# corre solo')\n",
        "\n",
        "print('pepito\\n corre solo')\n",
        "\n",
        "print('''pepito\n",
        "                    corre\n",
        "      solo''')\n",
        "\n",
        "print(\"\"\"'letras',\n",
        "         'palabras'\"\"\")\n",
        "# print('''\n",
        "# 'letras',\n",
        "#          'palabras'\n",
        "# ''')\n",
        "# print(\"\"\"dfgdfgdfg\n",
        "# 'letras',\n",
        "#  'palabras'\n",
        "# dfgdfgdfg\"\"\")\n",
        "\n",
        "# print(\"\n",
        "# 'letras',\n",
        "#          'palabras'\n",
        "# \")"
      ]
    },
    {
      "cell_type": "code",
      "execution_count": null,
      "metadata": {
        "colab": {
          "base_uri": "https://localhost:8080/"
        },
        "id": "7xw-gpjDqWdB",
        "outputId": "8d1df821-2bfd-4736-ea94-51ab9319ed3d"
      },
      "outputs": [
        {
          "name": "stdout",
          "output_type": "stream",
          "text": [
            "mama! \\tcortaste la luz\n"
          ]
        }
      ],
      "source": [
        "print(r'mama! \\tcortaste la luz')"
      ]
    },
    {
      "cell_type": "code",
      "execution_count": null,
      "metadata": {
        "id": "p7mHFnmUMzQI"
      },
      "outputs": [],
      "source": [
        "print(\"C:\\norma\\pepe\")\n",
        "print('C:\\tomas\\pepe')\n",
        "print(r\"C:\\norma\\pepe\")"
      ]
    },
    {
      "cell_type": "code",
      "execution_count": null,
      "metadata": {
        "colab": {
          "base_uri": "https://localhost:8080/"
        },
        "id": "mRyzEAzq-VUd",
        "outputId": "c59aa706-3d1a-4da5-8a27-8b0665cc9128"
      },
      "outputs": [
        {
          "name": "stdout",
          "output_type": "stream",
          "text": [
            "pepito se saco un 5 en matematicas\n",
            "pepito se saco un 5 en matematicas\n"
          ]
        }
      ],
      "source": [
        "print('pepito se saco un 5 en matematicas')\n",
        "print(f'pepito se saco un {2+3} en matematicas')"
      ]
    },
    {
      "cell_type": "code",
      "execution_count": 10,
      "metadata": {
        "id": "fvNLbQkaQ7XS"
      },
      "outputs": [
        {
          "data": {
            "text/plain": [
              "'C:\\\\norma\\\\pepe'"
            ]
          },
          "execution_count": 10,
          "metadata": {},
          "output_type": "execute_result"
        }
      ],
      "source": [
        "# \"C:\\norma\\pepe\"\n",
        "# 'C:\\tomas\\pepe'\n",
        "r\"C:\\norma\\pepe\""
      ]
    },
    {
      "cell_type": "code",
      "execution_count": 11,
      "metadata": {
        "id": "0p0h8rJGisdB"
      },
      "outputs": [
        {
          "name": "stdout",
          "output_type": "stream",
          "text": [
            "\ttabulacion\n",
            "tabu\n",
            "lacion\n",
            "        tabulacion\n",
            "tabu\n",
            "lacion\n",
            "\n",
            "|nombre |apellido|edad|\n",
            "|pepe   |grillo  |23  |\n",
            "|ricardo|fort    |34  |\n",
            "\n"
          ]
        }
      ],
      "source": [
        "print('\\ttabulacion')\n",
        "print('tabu\\nlacion')\n",
        "print('        tabulacion')\n",
        "# print('\n",
        "# tabulacion\n",
        "# ')\n",
        "print('''tabu\n",
        "lacion''')\n",
        "\n",
        "print('''\n",
        "|nombre |apellido|edad|\n",
        "|pepe   |grillo  |23  |\n",
        "|ricardo|fort    |34  |\n",
        "''')"
      ]
    },
    {
      "cell_type": "markdown",
      "metadata": {
        "id": "XI2L2G5tqogu"
      },
      "source": [
        "# Break"
      ]
    },
    {
      "cell_type": "markdown",
      "metadata": {
        "id": "5s1hx29_rQOa"
      },
      "source": [
        "Variables\n",
        "\n",
        "x + 3 = 5"
      ]
    },
    {
      "cell_type": "code",
      "execution_count": null,
      "metadata": {
        "colab": {
          "base_uri": "https://localhost:8080/"
        },
        "id": "ZHNrl_3q-ELV",
        "outputId": "4e173d66-4a27-4a70-da0d-c08d62bbe037"
      },
      "outputs": [
        {
          "name": "stdout",
          "output_type": "stream",
          "text": [
            "10\n",
            "oso\n",
            "33\n"
          ]
        }
      ],
      "source": [
        "numero = 23\n",
        "# pepito44 = 23\n",
        "# numero_entero = 43\n",
        "# print(numero)\n",
        "suma = 5 + 5\n",
        "print(suma)\n",
        "animal = 'oso'\n",
        "print(animal) # esto es un comentario que python no lo lee\n",
        "# # # esto es otro comentario que python no lo lee\n",
        "# edad del profe = 33\n",
        "# 'edad del profe' = 33\n",
        "edad_del_profe = 33\n",
        "print(edad_del_profe)"
      ]
    },
    {
      "cell_type": "markdown",
      "metadata": {
        "id": "MU30jFpb-7vY"
      },
      "source": [
        "---\n",
        "### Formatos para nombrar una variable\n",
        "---\n",
        "snake_case -> Por cada palabra que contenga el nombre de la variable, las vas a escribir en minuscula y para separarlas vas aponer un _  ( definir variables, funciones, etc... algunas se ven mas adelante)\n",
        "\n",
        "edad_de_pepe = 25\n",
        "\n",
        "---\n",
        "\n",
        "PascalCase -> Por cada palabra que contenga el nombre de la variable su primer letra iria enb mayuscula y no tendrian separador ( definir Clases... se ven mas adelante )\n",
        "\n",
        "EdadDePepe = 25\n",
        "\n",
        "---\n",
        "\n",
        "camelCase -> Casi igual a PascalCase con la diferencia que la primer letra siempre va en minuscula ( se suele utiliar en otros lenguajes )\n",
        "\n",
        "edadDePepe = 25\n",
        "\n",
        "---"
      ]
    },
    {
      "cell_type": "code",
      "execution_count": 12,
      "metadata": {
        "colab": {
          "base_uri": "https://localhost:8080/"
        },
        "id": "AWrt8En4meOZ",
        "outputId": "7cb7621e-7cd4-4977-e4f3-2d728b293ff1"
      },
      "outputs": [
        {
          "name": "stdout",
          "output_type": "stream",
          "text": [
            "<class 'int'>\n",
            "4\n"
          ]
        }
      ],
      "source": [
        "suma = 2+2\n",
        "print(type(suma))\n",
        "# type(4)\n",
        "print(suma) # 2+2"
      ]
    },
    {
      "cell_type": "code",
      "execution_count": 14,
      "metadata": {
        "colab": {
          "base_uri": "https://localhost:8080/"
        },
        "id": "L6XzmHpyPwhF",
        "outputId": "d75b7673-744e-4e8a-d859-486beb02e474"
      },
      "outputs": [
        {
          "name": "stdout",
          "output_type": "stream",
          "text": [
            "210\n",
            "424200\n",
            "2020\n",
            "2020\n"
          ]
        }
      ],
      "source": [
        "estanteria = 'taza'\n",
        "multiplicacion = x * y\n",
        "x = 14*15\n",
        "y = 2020\n",
        "anio_nacimiento = 2020\n",
        "\n",
        "print(x)\n",
        "print(multiplicacion)\n",
        "print(y)\n",
        "print(anio_nacimiento)"
      ]
    },
    {
      "cell_type": "code",
      "execution_count": null,
      "metadata": {
        "colab": {
          "base_uri": "https://localhost:8080/"
        },
        "id": "Ege1FOk2nckx",
        "outputId": "000532f5-ace8-4947-d347-1cbfc604d724"
      },
      "outputs": [
        {
          "name": "stdout",
          "output_type": "stream",
          "text": [
            "34655\n",
            "121\n"
          ]
        }
      ],
      "source": [
        "numero_de_clase, cantidad_alumnos = 34655, 121\n",
        "print(numero_de_clase)\n",
        "print(cantidad_alumnos)"
      ]
    },
    {
      "cell_type": "code",
      "execution_count": null,
      "metadata": {
        "id": "VMAykXRXRr4f"
      },
      "outputs": [],
      "source": [
        "# 2 = pepe\n",
        "pepe = 2\n",
        "print(pepe)\n",
        "# variable15\n",
        "variable15 = 15\n",
        "print(variable15)"
      ]
    },
    {
      "cell_type": "code",
      "execution_count": 17,
      "metadata": {
        "id": "PjOTz2EkCOSA"
      },
      "outputs": [
        {
          "ename": "SyntaxError",
          "evalue": "invalid syntax (1734689868.py, line 3)",
          "output_type": "error",
          "traceback": [
            "\u001b[1;36m  Cell \u001b[1;32mIn[17], line 3\u001b[1;36m\u001b[0m\n\u001b[1;33m    variable =\u001b[0m\n\u001b[1;37m               ^\u001b[0m\n\u001b[1;31mSyntaxError\u001b[0m\u001b[1;31m:\u001b[0m invalid syntax\n"
          ]
        },
        {
          "ename": "",
          "evalue": "",
          "output_type": "error",
          "traceback": [
            "\u001b[1;31mEl Kernel se bloqueó al ejecutar código en la celda actual o en una celda anterior. Revise el código de las celdas para identificar una posible causa del error. Haga clic <a href='https://aka.ms/vscodeJupyterKernelCrash'>aquí</a> para obtener más información. Vea el [registro] de Jupyter (command:jupyter.viewOutput) para obtener más detalles."
          ]
        }
      ],
      "source": [
        "num = 2\n",
        "print(num)\n",
        "variable = \n",
        "print(variable)\n",
        "print(2+2)"
      ]
    },
    {
      "cell_type": "code",
      "execution_count": 1,
      "metadata": {
        "id": "JyN1xueLSOtV"
      },
      "outputs": [
        {
          "name": "stdout",
          "output_type": "stream",
          "text": [
            "Hola soy pepito\n"
          ]
        }
      ],
      "source": [
        "texto = 'Hola soy pepito'\n",
        "print(texto)"
      ]
    },
    {
      "cell_type": "code",
      "execution_count": null,
      "metadata": {
        "colab": {
          "base_uri": "https://localhost:8080/"
        },
        "id": "wyWrMjxZTmBA",
        "outputId": "a30e882c-a5c8-4a0a-cba5-c98727987b16"
      },
      "outputs": [
        {
          "name": "stdout",
          "output_type": "stream",
          "text": [
            "variable\n",
            "Variable\n",
            "VariablE\n",
            "var\n",
            "2\n"
          ]
        }
      ],
      "source": [
        "var = 'variable'\n",
        "vaR = 'Variable'\n",
        "VaR = 'VariablE'\n",
        "print(var)\n",
        "print(vaR)\n",
        "print(VaR)\n",
        "var = 'var'\n",
        "print(var)\n",
        "var = 2\n",
        "print(var)"
      ]
    },
    {
      "cell_type": "markdown",
      "metadata": {
        "id": "IxrqO5cWepzy"
      },
      "source": [
        "# input\n",
        "\n",
        "Siempre devuelve/retorna un string"
      ]
    },
    {
      "cell_type": "code",
      "execution_count": null,
      "metadata": {
        "colab": {
          "base_uri": "https://localhost:8080/",
          "height": 52
        },
        "id": "CWzs0dkZp97Y",
        "outputId": "0bf90e60-6838-45cb-944b-9635d031c57e"
      },
      "outputs": [
        {
          "name": "stdout",
          "output_type": "stream",
          "text": [
            "Ingrese nombre: pepito\n"
          ]
        },
        {
          "data": {
            "application/vnd.google.colaboratory.intrinsic+json": {
              "type": "string"
            },
            "text/plain": [
              "'pepito'"
            ]
          },
          "execution_count": 37,
          "metadata": {},
          "output_type": "execute_result"
        }
      ],
      "source": [
        "input('Ingrese nombre: ')"
      ]
    },
    {
      "cell_type": "code",
      "execution_count": 2,
      "metadata": {
        "colab": {
          "base_uri": "https://localhost:8080/"
        },
        "id": "7wxN-O_DplXF",
        "outputId": "526886c2-e0d2-4554-dae9-c2534c5cbd5c"
      },
      "outputs": [
        {
          "name": "stdout",
          "output_type": "stream",
          "text": [
            "tere\n"
          ]
        }
      ],
      "source": [
        "nombre = input('Ingrese nombre: ')\n",
        "print(nombre)"
      ]
    },
    {
      "cell_type": "code",
      "execution_count": 3,
      "metadata": {
        "colab": {
          "base_uri": "https://localhost:8080/",
          "height": 52
        },
        "id": "Hi3DDcm6qIJ0",
        "outputId": "634b13d5-44e7-498e-ddd0-35d6dc1cf5a9"
      },
      "outputs": [
        {
          "data": {
            "text/plain": [
              "'123456789'"
            ]
          },
          "execution_count": 3,
          "metadata": {},
          "output_type": "execute_result"
        }
      ],
      "source": [
        "input('Ingresa un numero: ')"
      ]
    },
    {
      "cell_type": "code",
      "execution_count": 4,
      "metadata": {
        "id": "meZ8jAWHUPyf"
      },
      "outputs": [
        {
          "data": {
            "text/plain": [
              "'adfghj'"
            ]
          },
          "execution_count": 4,
          "metadata": {},
          "output_type": "execute_result"
        }
      ],
      "source": [
        "numero = input('Ingresa un numero: ')\n",
        "# print(numero)\n",
        "numero"
      ]
    },
    {
      "cell_type": "code",
      "execution_count": 11,
      "metadata": {
        "colab": {
          "base_uri": "https://localhost:8080/"
        },
        "id": "iIloF5bCfJQ8",
        "outputId": "23bed74f-abe5-4956-89d1-09bcd63327f4"
      },
      "outputs": [
        {
          "name": "stdout",
          "output_type": "stream",
          "text": [
            "<class 'int'>\n"
          ]
        }
      ],
      "source": [
        "numero = int(input('Ingresa un numero: '))\n",
        "print(type(numero))"
      ]
    },
    {
      "cell_type": "code",
      "execution_count": 12,
      "metadata": {
        "id": "6-GrWToLfBrC"
      },
      "outputs": [
        {
          "name": "stdout",
          "output_type": "stream",
          "text": [
            "<class 'int'>\n",
            "<class 'int'>\n",
            "7\n"
          ]
        }
      ],
      "source": [
        "numero = int(input('Ingresa un numero: '))\n",
        "print(type(numero))\n",
        "print(type(5))\n",
        "print(numero + 5)"
      ]
    },
    {
      "cell_type": "markdown",
      "metadata": {
        "id": "pp1k-kVSe4rV"
      },
      "source": [
        "### Castear"
      ]
    },
    {
      "cell_type": "code",
      "execution_count": 13,
      "metadata": {
        "colab": {
          "base_uri": "https://localhost:8080/",
          "height": 35
        },
        "id": "DvSj101aFrZl",
        "outputId": "1ea717f4-4051-4699-96ab-fc56e3f5e4c4"
      },
      "outputs": [
        {
          "data": {
            "text/plain": [
              "'5'"
            ]
          },
          "execution_count": 13,
          "metadata": {},
          "output_type": "execute_result"
        }
      ],
      "source": [
        "str(5)"
      ]
    },
    {
      "cell_type": "code",
      "execution_count": 7,
      "metadata": {
        "id": "7YtBnKp9q1P0"
      },
      "outputs": [
        {
          "name": "stdout",
          "output_type": "stream",
          "text": [
            "<class 'int'>\n",
            "<class 'int'>\n",
            "6\n"
          ]
        }
      ],
      "source": [
        "# int(aca el valor que queremos transformar a entero)\n",
        "# numero = input('Ingresa un numero: ')\n",
        "numero = int(input('Ingresa un numero: '))\n",
        "print(type(numero))\n",
        "print(type(5))\n",
        "print(numero + 5)"
      ]
    },
    {
      "cell_type": "code",
      "execution_count": null,
      "metadata": {
        "colab": {
          "base_uri": "https://localhost:8080/"
        },
        "id": "CAhJGrHjaPC9",
        "outputId": "061422b6-bbef-4099-bb3d-a12607ef4ab3"
      },
      "outputs": [
        {
          "name": "stdout",
          "output_type": "stream",
          "text": [
            "Ingresa un numero: 5.5\n",
            "<class 'float'>\n",
            "<class 'float'>\n",
            "10.5\n"
          ]
        }
      ],
      "source": [
        "# float(aca el valor que queremos transformar a flotante/decimal)\n",
        "numero = float(input('Ingresa un numero: '))\n",
        "print(type(numero))\n",
        "print(type(5.5))\n",
        "print(numero + 5)"
      ]
    },
    {
      "cell_type": "code",
      "execution_count": 14,
      "metadata": {
        "id": "4hgJKHavaU1j"
      },
      "outputs": [
        {
          "name": "stdout",
          "output_type": "stream",
          "text": [
            "<class 'str'>\n",
            "<class 'str'>\n",
            "<class 'int'>\n"
          ]
        }
      ],
      "source": [
        "# str(aca el valor que queremos transformar a string/cadena de texto)\n",
        "numero = str(2+2)\n",
        "print(type(numero))\n",
        "print(type('4'))\n",
        "print(type(4))\n",
        "# print(numero + 5)\n",
        "# print(5 + numero)"
      ]
    },
    {
      "cell_type": "code",
      "execution_count": null,
      "metadata": {
        "id": "wpUCr25yUu8p"
      },
      "outputs": [],
      "source": []
    },
    {
      "cell_type": "markdown",
      "metadata": {
        "id": "R1ihritpfc6t"
      },
      "source": [
        "### Operacion con variables"
      ]
    },
    {
      "cell_type": "code",
      "execution_count": 15,
      "metadata": {
        "colab": {
          "base_uri": "https://localhost:8080/"
        },
        "id": "khjRtp8dVcik",
        "outputId": "6fb3356e-0013-470f-c29c-42bcd1d3c7b9"
      },
      "outputs": [
        {
          "name": "stdout",
          "output_type": "stream",
          "text": [
            "80\n",
            "RicardoFort\n",
            "Ricardo Fort\n",
            "Ricardo Fort\n",
            "Ricardo Fort\n",
            "('Ricardo', 'Fort')\n",
            "RicardoRicardoRicardoRicardoRicardo\n",
            "pepe pepe pepe pepe \n"
          ]
        }
      ],
      "source": [
        "nombre = 'Ricardo'\n",
        "apellido = 'Fort'\n",
        "numero1 = 5\n",
        "numero2 = 15\n",
        "\n",
        "# Sumar, Restar, Multiplicar, etc\n",
        "print(numero1 + numero2 * numero1)\n",
        "# print(5 + 15 * 5)\n",
        "\n",
        "# Concatenar\n",
        "print(nombre + apellido)\n",
        "print(nombre + ' ' + apellido)\n",
        "print(f'{nombre} {apellido}')\n",
        "print(nombre, apellido)\n",
        "variable = nombre, apellido\n",
        "print(variable)\n",
        "\n",
        "# # Repetir String\n",
        "print(nombre * numero1)\n",
        "print('pepe ' * 4)\n",
        "# print('pepe', 'pepe', 'pepe', 'pepe')"
      ]
    },
    {
      "cell_type": "markdown",
      "metadata": {
        "id": "pJtyfu7VgS57"
      },
      "source": [
        "### index"
      ]
    },
    {
      "cell_type": "code",
      "execution_count": 16,
      "metadata": {
        "id": "nj3kaml3WpVy"
      },
      "outputs": [
        {
          "name": "stdout",
          "output_type": "stream",
          "text": [
            "P\n",
            "b\n",
            " \n",
            "s\n",
            "s\n"
          ]
        }
      ],
      "source": [
        "texto = 'Probando los indices'\n",
        "#        0123456789...\n",
        "#                  ...7654321 negativos\n",
        "\n",
        "palabra = 'roca'\n",
        "        #  0123 -->\n",
        "        #  4321 <--\n",
        "\n",
        "print(texto[0])\n",
        "print('Probando los indices'[3])\n",
        "print(texto[8])\n",
        "print(texto[-1])\n",
        "print(texto[19])\n",
        "# print(texto[20])"
      ]
    },
    {
      "cell_type": "markdown",
      "metadata": {
        "id": "OTpsSAfWgbjX"
      },
      "source": [
        "len"
      ]
    },
    {
      "cell_type": "code",
      "execution_count": 17,
      "metadata": {
        "colab": {
          "base_uri": "https://localhost:8080/"
        },
        "id": "PVwF5kyNghCa",
        "outputId": "bab94b08-d795-4592-fd31-d2a2a7428087"
      },
      "outputs": [
        {
          "name": "stdout",
          "output_type": "stream",
          "text": [
            "20\n",
            "4\n"
          ]
        }
      ],
      "source": [
        "# len()\n",
        "\n",
        "palabra = 'roca'\n",
        "print(len('Probando los indices')) # len(valor a contar)\n",
        "print(len(palabra))"
      ]
    },
    {
      "cell_type": "code",
      "execution_count": null,
      "metadata": {},
      "outputs": [],
      "source": []
    },
    {
      "cell_type": "markdown",
      "metadata": {
        "id": "yoDrcTeKKvi2"
      },
      "source": [
        "Slicing"
      ]
    },
    {
      "cell_type": "code",
      "execution_count": 18,
      "metadata": {
        "colab": {
          "base_uri": "https://localhost:8080/"
        },
        "id": "3AFNNawdKkT1",
        "outputId": "31d70e0f-101e-411a-e39c-7552be939cec"
      },
      "outputs": [
        {
          "name": "stdout",
          "output_type": "stream",
          "text": [
            "Probando el slicing\n",
            "ando el slicing\n",
            "Probando\n",
            "ando el slicing\n",
            "ando e\n",
            "bnoe \n",
            "ici\n",
            "\n",
            "gnicils le odnaborP\n",
            "Probando el slicing\n"
          ]
        }
      ],
      "source": [
        "texto = 'Probando el slicing'\n",
        "\n",
        "print(texto)\n",
        "# print(texto[4])\n",
        "\n",
        "# texto[<inicio>:<final>:<el salto(este es opcional)>]\n",
        "print(texto[4:])\n",
        "print(texto[:8])\n",
        "print(texto[4:19])\n",
        "print(texto[4:10])\n",
        "print(texto[3:12:2])\n",
        "print(texto[-5:-2])\n",
        "print(texto[-2:-5])\n",
        "print(texto[::-1])\n",
        "print(texto)\n"
      ]
    },
    {
      "cell_type": "code",
      "execution_count": 19,
      "metadata": {
        "id": "7ia25EhPMZV1"
      },
      "outputs": [
        {
          "data": {
            "text/plain": [
              "'ppe'"
            ]
          },
          "execution_count": 19,
          "metadata": {},
          "output_type": "execute_result"
        }
      ],
      "source": [
        "'peppe'[::2]"
      ]
    },
    {
      "cell_type": "code",
      "execution_count": 20,
      "metadata": {
        "id": "sRaeXC5quOhx"
      },
      "outputs": [
        {
          "name": "stdout",
          "output_type": "stream",
          "text": [
            "Probando el slicing\n",
            "gnicils le odnaborP\n"
          ]
        }
      ],
      "source": [
        "\n",
        "\n",
        "# print(texto[4:19])\n",
        "# print(texto[10])\n",
        "# print(texto[4:10])\n",
        "# print(texto[9])\n",
        "# print(texto[:10])\n",
        "# print(texto[-5:])\n",
        "# print(texto[-5:-2])\n",
        "# print(texto[-2:-5]) # no toma nada porque quiere ir de un valor para la parte anterior de la cadena de caracteres\n",
        "# print(texto[principio incluido:final sin incluir:salto])\n",
        "# print(texto[::1])\n",
        "# print(texto[::2])\n",
        "# print(texto[::4])\n",
        "# print(texto[3:12])\n",
        "# print(texto[3:12:2])\n",
        "# print(texto[::-1])\n",
        "texto_dado_vuelta = texto[::-1]\n",
        "print(texto)\n",
        "print(texto_dado_vuelta)"
      ]
    },
    {
      "cell_type": "code",
      "execution_count": null,
      "metadata": {
        "id": "1hfbiVZ9YTq4"
      },
      "outputs": [],
      "source": [
        "# print('hola soy ricardo fort el comandante'[::])\n",
        "# print('hola soy ricardo fort el comandante'[2::])\n",
        "# print('hola soy ricardo fort el comandante'[2:6:])\n",
        "# print('hola soy ricardo fort el comandante'[2:14:2])\n",
        "# print('hola soy ricardo fort el comandante'[2:14])\n",
        "# print('hola soy ricardo fort el comandante'[6:])\n",
        "# print('hola soy ricardo fort el comandante'[:14])\n",
        "# print('hola soy ricardo fort el comandante'[::-1])\n",
        "# print('hola soy ricardo fort el comandante'[-15:-6:])"
      ]
    },
    {
      "cell_type": "markdown",
      "metadata": {
        "id": "XMwNpMC2hFSk"
      },
      "source": [
        "### Inmutabilidad"
      ]
    },
    {
      "cell_type": "code",
      "execution_count": 21,
      "metadata": {
        "colab": {
          "base_uri": "https://localhost:8080/"
        },
        "id": "C_h2ilvobSod",
        "outputId": "b815fe9a-8e29-4e74-961d-d2a168e8b159"
      },
      "outputs": [
        {
          "name": "stdout",
          "output_type": "stream",
          "text": [
            "pass\n",
            "palabras de mas\n"
          ]
        }
      ],
      "source": [
        "texto = 'palabras de mas'\n",
        "# texto = 'pepito'\n",
        "\n",
        "# texto[-2] = 'e'\n",
        "texto_cortado = texto[0:2] + 's' + texto[-1]\n",
        "print(texto_cortado)\n",
        "# texto_distinto = texto[:-3] + 'menos'\n",
        "# texto = texto[:-3] + 'menos'\n",
        "print(texto)\n",
        "# print(texto_distinto)\n",
        "\n",
        "\n",
        "# inmutabilidad\n",
        "# print(texto)\n",
        "# print(texto[3])\n",
        "# texto[2] = 's'\n"
      ]
    },
    {
      "cell_type": "code",
      "execution_count": null,
      "metadata": {
        "id": "0ekn_XGRN4Jj"
      },
      "outputs": [],
      "source": []
    },
    {
      "cell_type": "markdown",
      "metadata": {
        "id": "0I7N0oflc5Qx"
      },
      "source": [
        "## Desafío Números (10 min)\n",
        "Descripción de la actividad.\n",
        "\n",
        "En nuestro trabajo, nos solicitan desarrollar un programa que permita calcular el promedio final de los equipos de futbol en un torneo.\n",
        "Para ello, debemos considerar tres aspectos:\n",
        "\n",
        "jugaron 20 partidos durante el torneo,\n",
        "los partidos poseen diferente puntaje según el resultado, los partidos ganados 3 puntos, partido empatado 1 punto, partido perdido 0 puntos,\n",
        "el promedio final resulta de la cantidad de puntos totales divididos la cantidad de partidos\n",
        "\n",
        "La cantidad de partidos que debemos considerar a un equipo para el ejemplo se detallan a continuación:\n",
        "\n",
        "partidos_ganados 8\n",
        "partido_empatados 7\n",
        "partido_perdidos 5\n",
        "\n",
        "Importante: Cada una de las cantidades de partidos ganados, empatados o perdidos debe solicitarse al usuario utilizando la función input().\n"
      ]
    },
    {
      "cell_type": "code",
      "execution_count": 1,
      "metadata": {
        "id": "2delsCsSNT0z"
      },
      "outputs": [],
      "source": [
        "partidos_jugados = 20\n",
        "puntaje_ganado = 5\n",
        "puntaje_empatado = 1\n",
        "puntaje_perdido = 0\n",
        "\n",
        "partidos_ganados = int(input('Cuantos partidos gano tu equipo: '))\n",
        "partidos_perdidos = int(input('Cuantos partidos perdio tu equipo: '))\n",
        "partidos_empatados = int(input('Cuantos partidos empato tu equipo: '))\n",
        "\n",
        "promedio = (partidos_ganados * puntaje_ganado + partidos_empatados) / partidos_jugados\n",
        "\n",
        "print(f'El promedio de puntos por patido obetnidos fue {promedio}')\n",
        "print(f'El promedio de puntos por patido obetnidos fue' {promedio})\n"
      ]
    },
    {
      "cell_type": "code",
      "execution_count": null,
      "metadata": {
        "id": "E-F2Vi0dhKxn"
      },
      "outputs": [],
      "source": [
        "cantidad_partidos_del_torneo = 20\n",
        "puntaje_partidos_ganados = 3\n",
        "puntaje_partidos_empatados = 1\n",
        "puntaje_partidos_perdidos = 0\n",
        "\n",
        "partidos_ganados = float(input('Cantidad de partidos ganados: '))\n",
        "partidos_empatados = float(input('Cantidad de partidos empatados: '))\n",
        "partidos_perdidos = float(input('Cantidad de partidos perdidos: '))\n",
        "\n",
        "puntaje_total = partidos_ganados * puntaje_partidos_ganados + partidos_empatados * puntaje_partidos_empatados + partidos_perdidos * puntaje_partidos_perdidos\n",
        "\n",
        "promedio = puntaje_total / cantidad_partidos_del_torneo\n",
        "\n",
        "print(promedio)\n"
      ]
    },
    {
      "cell_type": "markdown",
      "metadata": {
        "id": "cxz15r_mhcoL"
      },
      "source": [
        "# Desafío String (10 min)\n",
        "\n",
        "Dadas cuatro variables con diferentes textos (de forma individual), genera una nueva variable con el siguiente contenido:\n",
        "\n",
        "Objetivo: “Python es un lenguaje de programación versátil”\n",
        "\n",
        "Partiendo de:\n",
        "\n",
        "cadena_1  = “versátil”\n",
        "\n",
        "cadena_2  = “Python”\n",
        "\n",
        "cadena_3  = “es un lenguaje”\n",
        "\n",
        "cadena_4  = “de programación”\n"
      ]
    },
    {
      "cell_type": "code",
      "execution_count": null,
      "metadata": {
        "id": "_3JWLUN3PrYv"
      },
      "outputs": [],
      "source": [
        "cadena_1 = 'versátil'\n",
        "cadena_2 = 'Python'\n",
        "cadena_3 = 'es un lenguaje'\n",
        "cadena_4 = 'de programación'\n",
        "\n",
        "print(cadena_2, cadena_3, cadena_4, cadena_1)\n",
        "\n",
        "cadena = f'{cadena_2} {cadena_3} {cadena_4} {cadena_1}'\n",
        "cadena = cadena_2 + ' ' + cadena_3 + ' ' + cadena_4 + ' ' + cadena_1\n",
        "print(cadena)"
      ]
    },
    {
      "cell_type": "markdown",
      "metadata": {
        "id": "JK2JK581hdbH"
      },
      "source": [
        "\n",
        "# Desafío Slicing (10 min)\n",
        "Se tiene una cadena de texto, pero al revés. Al parecer contiene el nombre de un alumno, la nota de un exámen y la materia.\n",
        "De forma individual, realiza lo siguiente:\n",
        "1. Dar vuelta la cadena y asignarla a una variable llamada cadena_volteada. Para devolver una cadena dada vuelta se usa el tercer índice negativo con slicing: cadena[::-1].\n",
        "2. Extraer nombre y apellido, almacenarlo en una variable llamada nombre_alumno\n",
        "3. Extraer la nota y almacenarla en una variable llamada nota.\n",
        "4. Extraer la materia y almacenarla en una variable llamada materia.\n",
        "5. Mostrar por pantalla la siguiente estructura:\n",
        "😎NOMBRE APELLIDO ha sacado un NOTA en MATERIA. Esto ultimo hacerlo, formateando las anteriores variables en una variable llamada cadena_formateada\n",
        "\n",
        "cadena = “acitametaM ,5.8 ,otipeP ordeP”"
      ]
    },
    {
      "cell_type": "code",
      "execution_count": null,
      "metadata": {
        "id": "sYcglkiqQ_RN"
      },
      "outputs": [],
      "source": [
        "cadena = \"acitametaM ,5.8 ,otipeP ordeP\"\n",
        "# 1\n",
        "cadena_volteada = cadena[::-1]\n",
        "print(cadena_volteada)\n",
        "# 2\n",
        "nombre_alumno = cadena_volteada[:12]\n",
        "print(nombre_alumno)\n",
        "# 3\n",
        "nota = cadena_volteada[14:17]\n",
        "print(nota)\n",
        "# 4\n",
        "materia = cadena_volteada[19:]\n",
        "print(materia)\n",
        "# 5\n",
        "cadena_formateada = f'😎{nombre_alumno} ha sacado un {nota} en {materia}'\n",
        "cadena_formateada = '😎' + nombre_alumno + ' ha sacado un ' + {nota} + ' en ' + {materia}\n",
        "print(cadena_formateada)"
      ]
    },
    {
      "cell_type": "markdown",
      "metadata": {
        "id": "DtfrqAAph0Ky"
      },
      "source": [
        "---\n",
        "---\n",
        "# Extra\n",
        "---\n",
        "---"
      ]
    },
    {
      "cell_type": "markdown",
      "metadata": {
        "id": "ZZjmhZgm2mUM"
      },
      "source": [
        "## Mi primer programa en Python\n",
        "\n",
        "Consigna\n",
        "\n",
        "Trabajas en Coderhouse y te piden crear un programa que calcule la nota final de estudiantes del curso de Python. La nota final se calcula basándonos en tres notas previas de las cuales, cada una corresponde un porcentaje distinto de la nota final. Los porcentajes se detallan a continuación:\n",
        "- nota_1  cuenta como el 20% de la nota final\n",
        "- nota_2 cuenta como el 30% de la nota final\n",
        "- nota_3 cuenta como el 50% de la nota final\n"
      ]
    },
    {
      "cell_type": "code",
      "execution_count": null,
      "metadata": {},
      "outputs": [],
      "source": [
        "nota_1 = int(input(\"Ingresa la nota 1: \"))\n",
        "nota_1"
      ]
    },
    {
      "cell_type": "code",
      "execution_count": null,
      "metadata": {},
      "outputs": [],
      "source": [
        "nota_2 = int(input(\"Ingresa la nota 2: \"))\n",
        "nota_2"
      ]
    },
    {
      "cell_type": "code",
      "execution_count": null,
      "metadata": {},
      "outputs": [],
      "source": [
        "nota_3 = int(input(\"Ingresa la nota 3: \"))\n",
        "nota_3 "
      ]
    },
    {
      "cell_type": "code",
      "execution_count": null,
      "metadata": {},
      "outputs": [],
      "source": [
        "#Asignacion de porcentajes\n",
        "nota_1 = nota_1 * 0.20\n",
        "nota_2 = nota_2 * 0.30\n",
        "nota_3 = nota_3 * 0.50"
      ]
    },
    {
      "cell_type": "code",
      "execution_count": null,
      "metadata": {},
      "outputs": [],
      "source": [
        "nota_total = nota_1 + nota_2 + nota_3\n",
        "nota_total"
      ]
    },
    {
      "cell_type": "markdown",
      "metadata": {},
      "source": []
    }
  ],
  "metadata": {
    "colab": {
      "provenance": []
    },
    "kernelspec": {
      "display_name": "Python 3",
      "name": "python3"
    },
    "language_info": {
      "codemirror_mode": {
        "name": "ipython",
        "version": 3
      },
      "file_extension": ".py",
      "mimetype": "text/x-python",
      "name": "python",
      "nbconvert_exporter": "python",
      "pygments_lexer": "ipython3",
      "version": "3.11.4"
    }
  },
  "nbformat": 4,
  "nbformat_minor": 0
}
