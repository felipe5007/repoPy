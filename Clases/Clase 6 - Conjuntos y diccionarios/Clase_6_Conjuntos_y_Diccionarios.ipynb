{
  "nbformat": 4,
  "nbformat_minor": 0,
  "metadata": {
    "colab": {
      "provenance": []
    },
    "kernelspec": {
      "name": "python3",
      "display_name": "Python 3"
    },
    "language_info": {
      "name": "python"
    }
  },
  "cells": [
    {
      "cell_type": "markdown",
      "source": [
        "# Set ( heterogeneos )"
      ],
      "metadata": {
        "id": "uSnyaKihIIej"
      }
    },
    {
      "cell_type": "code",
      "source": [
        "lista = ['soy', 'una', 'lista', 2, True]\n",
        "tupla = ('soy', 'una', 'tupla', 2, True)\n",
        "conjunto = {'soy', 'un', 'conjunto', 1, True}"
      ],
      "metadata": {
        "id": "9DNaAuWkIlZj"
      },
      "execution_count": null,
      "outputs": []
    },
    {
      "cell_type": "markdown",
      "source": [
        "# Set vacio"
      ],
      "metadata": {
        "id": "knCAyAaTIqYX"
      }
    },
    {
      "cell_type": "code",
      "execution_count": null,
      "metadata": {
        "id": "3szI3yAYICiW"
      },
      "outputs": [],
      "source": [
        "# otros_datos = []\n",
        "# otros_datos1 = ()\n",
        "# otros_datos2 = {}\n",
        "# otros_datos3 = set()\n",
        "# print(type(otros_datos))\n",
        "# print(type(otros_datos1))\n",
        "# print(type(otros_datos2))\n",
        "# print(type(otros_datos3))"
      ]
    },
    {
      "cell_type": "markdown",
      "source": [
        "# Asignacion en un set"
      ],
      "metadata": {
        "id": "Xlqn94AUIvkC"
      }
    },
    {
      "cell_type": "code",
      "source": [
        "# lista = ['soy', 'una', 'lista', 2, True]\n",
        "# tupla = ('soy', 'una', 'tupla', 2, True)\n",
        "# conjunto = {'soy', 'un', 'conjunto', 1, True}\n",
        "\n",
        "# lista[1] = 'uno'\n",
        "# print(lista)\n",
        "# tupla[1] = 'uno'\n",
        "# print(tupla)\n",
        "# conjunto[1] = 'uno'\n",
        "# print(conjunto)\n",
        "\n",
        "# print(lista[1])\n",
        "# print(tupla[1])\n",
        "# print(conjunto[1])\n",
        "# print(conjunto)"
      ],
      "metadata": {
        "id": "nkyF3-WSIM2A"
      },
      "execution_count": null,
      "outputs": []
    },
    {
      "cell_type": "markdown",
      "source": [
        "# Objetos mutables y los sets"
      ],
      "metadata": {
        "id": "agSABAHfIxJI"
      }
    },
    {
      "cell_type": "code",
      "source": [
        "# prueba = {1, 2, 3, 'hola', 'como', 'estas'}\n",
        "# otra_prueba1 = [(1,2,3), [6,7,8]]\n",
        "# otra_prueba2 = ((1,2,3), [6,7,8])\n",
        "# otra_prueba3 = {(1,2,3), [6,7,8]}\n",
        "# print(otra_prueba1)\n",
        "# print(otra_prueba2)\n",
        "# print(otra_prueba3)\n",
        "\n",
        "# otra_prueba1[1][2] = 5\n",
        "# print(otra_prueba1)\n",
        "# otra_prueba2[1][2] = 5\n",
        "# print(otra_prueba2)\n",
        "# otra_prueba2[1] = 5\n",
        "# print(otra_prueba2)\n"
      ],
      "metadata": {
        "id": "4LGqmdXhIUXi"
      },
      "execution_count": null,
      "outputs": []
    },
    {
      "cell_type": "markdown",
      "source": [
        "# Set generado con iterables"
      ],
      "metadata": {
        "id": "lu3temWdIy3p"
      }
    },
    {
      "cell_type": "code",
      "source": [
        "# lista_prueba = [1, 2, 3, 'hola', 'como', 'estas', ['otra', 'lista']]\n",
        "# lista_prueba = [1, 2, 3, 'hola', 'como', 'estas', ('otra', 'lista')]\n",
        "# lista_prueba = [1, 2, 3, 'hola', 'como', 'estas']\n",
        "# conjunto_prueba = set(lista_prueba)\n",
        "# conjunto_prueba2 = set(range(10))\n",
        "# print(conjunto_prueba)\n",
        "# print(conjunto_prueba2)\n",
        "# print(type(lista_prueba))\n",
        "# print(type(conjunto_prueba))\n",
        "# print(type(conjunto_prueba2))"
      ],
      "metadata": {
        "id": "sDldD4bZIWEQ"
      },
      "execution_count": null,
      "outputs": []
    },
    {
      "cell_type": "markdown",
      "source": [
        "# No se repiten valores"
      ],
      "metadata": {
        "id": "M4KdvNNSI0IJ"
      }
    },
    {
      "cell_type": "code",
      "source": [
        "# lista = [1,2,3,4,5,6,6,6,6,1,2,3]\n",
        "# conjunto = {1,2,3,4,5,6,6,6,6,1,2,3}\n",
        "# print(lista)\n",
        "# print(conjunto)\n",
        "# print(set(lista))"
      ],
      "metadata": {
        "id": "ZSU1hL3AIYX_"
      },
      "execution_count": null,
      "outputs": []
    },
    {
      "cell_type": "markdown",
      "source": [
        "============================================================\n",
        "============================================================\n",
        "# Funciones Integradas\n",
        "============================================================\n",
        "============================================================"
      ],
      "metadata": {
        "id": "XcuWpOfKI5qx"
      }
    },
    {
      "cell_type": "code",
      "source": [
        "# auto = {'v8', 'Negro', (6, 'blindadas')}\n",
        "# print(auto)"
      ],
      "metadata": {
        "id": "9i6HUAtGJVVv"
      },
      "execution_count": null,
      "outputs": []
    },
    {
      "cell_type": "markdown",
      "source": [
        "# Método add"
      ],
      "metadata": {
        "id": "8NeFI-7nJeq9"
      }
    },
    {
      "cell_type": "code",
      "source": [
        "# lista = [1, 2, 3, 'probando']\n",
        "# auto.add('descapotable')\n",
        "# # auto.add(lista)\n",
        "# print(auto)"
      ],
      "metadata": {
        "id": "luaSNhNHJgJm"
      },
      "execution_count": null,
      "outputs": []
    },
    {
      "cell_type": "markdown",
      "source": [
        "# Método update"
      ],
      "metadata": {
        "id": "V5tm2hw6JiwU"
      }
    },
    {
      "cell_type": "code",
      "source": [
        "# lista = ['soy', 'una', 'lista']\n",
        "# tupla = ('soy', 'una', 'tupla')\n",
        "# cadena = 'soy una cadena'\n",
        "# rango = range(15)\n",
        "# auto.update(lista)\n",
        "# print(auto)\n",
        "# auto.update(tupla)\n",
        "# print(auto)\n",
        "# auto.add(cadena)\n",
        "# auto.update(cadena)\n",
        "# print(auto)\n",
        "# auto.update(rango)\n",
        "# print(auto)"
      ],
      "metadata": {
        "id": "Gj3tUQO4Jjo_"
      },
      "execution_count": null,
      "outputs": []
    },
    {
      "cell_type": "markdown",
      "source": [
        "# Función len"
      ],
      "metadata": {
        "id": "TXtw_b3gJlVP"
      }
    },
    {
      "cell_type": "code",
      "source": [
        "# auto = {'v8', 'Negro', (6, 'blindadas')}\n",
        "# print(len(auto))"
      ],
      "metadata": {
        "id": "198yxXlwJnXM"
      },
      "execution_count": null,
      "outputs": []
    },
    {
      "cell_type": "markdown",
      "source": [
        "# Método discard"
      ],
      "metadata": {
        "id": "gVVT0oPwJpil"
      }
    },
    {
      "cell_type": "code",
      "source": [
        "# auto = {'v8', 'Negro', (6, 'blindadas')}\n",
        "# auto.discard('lista')\n",
        "# print(auto)\n",
        "# auto.add('lista')\n",
        "# print(auto)\n",
        "# auto.discard('lista')\n",
        "# print(auto)"
      ],
      "metadata": {
        "id": "cpOP7snjJp7p"
      },
      "execution_count": null,
      "outputs": []
    },
    {
      "cell_type": "markdown",
      "source": [
        "# Método remove ( discard pero con generacion de error )"
      ],
      "metadata": {
        "id": "NFmsq8I1Jr7r"
      }
    },
    {
      "cell_type": "code",
      "source": [
        "# auto = {'v8', 'Negro', (6, 'blindadas')}\n",
        "# auto.remove('tupla')\n",
        "# print(auto)\n",
        "# auto.add('tupla')\n",
        "# print(auto)\n",
        "# auto.discard('tupla')\n",
        "# print(auto)"
      ],
      "metadata": {
        "id": "ICbjGTgyJsY6"
      },
      "execution_count": null,
      "outputs": []
    },
    {
      "cell_type": "markdown",
      "source": [
        "# Operador in"
      ],
      "metadata": {
        "id": "IKbzPeSTJ4_d"
      }
    },
    {
      "cell_type": "code",
      "source": [
        "# auto = {'v8', 'Negro', (6, 'blindadas')}\n",
        "# for dato in auto:\n",
        "#     print(dato)\n",
        "# print('descapotable' in auto)\n",
        "# print('caño de escape' not in auto)\n",
        "# lista = [1,2,3,4]\n",
        "# print(1 in lista)"
      ],
      "metadata": {
        "id": "oK-LtTZUJ5SR"
      },
      "execution_count": null,
      "outputs": []
    },
    {
      "cell_type": "markdown",
      "source": [
        "# Método clear"
      ],
      "metadata": {
        "id": "sdP1PYr0J7Pb"
      }
    },
    {
      "cell_type": "code",
      "source": [
        "# auto = {'v8', 'Negro', (6, 'blindadas')}\n",
        "# print(auto)\n",
        "# # auto = 'soy un texto'\n",
        "# # auto = set()\n",
        "# auto.clear()\n",
        "# print(auto)"
      ],
      "metadata": {
        "id": "OTQyjisXJ7df"
      },
      "execution_count": null,
      "outputs": []
    },
    {
      "cell_type": "markdown",
      "source": [
        "# Método pop"
      ],
      "metadata": {
        "id": "ZvOIjtK6J9RZ"
      }
    },
    {
      "cell_type": "code",
      "source": [
        "# auto = {'v8', 'Negro', (6, 'blindadas')}\n",
        "# print(auto)\n",
        "# valor = auto.pop()\n",
        "# print(auto)\n",
        "# print(valor)\n",
        "\n",
        "# while len(auto):\n",
        "#     print(auto)\n",
        "#     valor = auto.pop()\n",
        "#     print(valor)\n",
        ""
      ],
      "metadata": {
        "id": "o8mFk_vkJ9j8"
      },
      "execution_count": null,
      "outputs": []
    },
    {
      "cell_type": "markdown",
      "source": [
        "# Ej 1 Sets\n",
        "Crear un conjunto en Python que posea los siguientes elementos:\n",
        "\n",
        "Colores: Rojo, Blanco, Azul.\n",
        "\n",
        "Posteriormente, agrega nuestro set de colores, los valores de: Violeta y Dorado\n",
        "\n",
        "Elimina a los colores: Celeste, Blanco y Dorado\n",
        "\n",
        "Pregunta: ¿Qué pasa si queremos eliminar el color Celeste utilizando el método discard?"
      ],
      "metadata": {
        "id": "Dold-8PNyCr8"
      }
    },
    {
      "cell_type": "code",
      "source": [],
      "metadata": {
        "id": "enjmcKTeyPLO"
      },
      "execution_count": null,
      "outputs": []
    },
    {
      "cell_type": "markdown",
      "source": [
        "# Ej 2 Sets (10min)\n",
        "Programa las siguientes instrucciones de forma ordenada sobre la variable grupo:\n",
        "1. Añade los usuarios: Ana, Ramón, Marta, Eric, David\n",
        "2. Elimina los usuarios: Mario, Miguel, Esteban\n",
        "\n",
        "grupo = {'Miguel', 'Blanca', 'Mario', 'Andrés'}"
      ],
      "metadata": {
        "id": "54NFPqODJ_6n"
      }
    },
    {
      "cell_type": "code",
      "source": [],
      "metadata": {
        "id": "kTkMBt_1ZeHK"
      },
      "execution_count": null,
      "outputs": []
    },
    {
      "cell_type": "markdown",
      "source": [
        "# BREAK"
      ],
      "metadata": {
        "id": "lfcSPgRzKGuz"
      }
    },
    {
      "cell_type": "markdown",
      "source": [
        "# Diccionarios\n",
        "\n",
        "\n"
      ],
      "metadata": {
        "id": "GbanUJtyKIv2"
      }
    },
    {
      "cell_type": "code",
      "source": [
        "dicc = {}"
      ],
      "metadata": {
        "id": "JG4g3AOjKK5N"
      },
      "execution_count": null,
      "outputs": []
    },
    {
      "cell_type": "markdown",
      "source": [
        "Las claves/llaves/keys pueden ser cualquier valor inmutable\n",
        "\n",
        "los valores/values pueden ser cualquier valor posible\n",
        "\n",
        "\n",
        "```\n",
        "\n",
        "dicc = { clave: valor, clave2: valor2, clave3: valor3, ...}\n",
        "\n",
        "dicc1 = {\n",
        "    clave: valor,\n",
        "    clave2: valor2,\n",
        "    clave3: valor3,\n",
        "    ...\n",
        "}\n",
        "\n",
        "dicc2 = {\n",
        "    clave: dicc1,\n",
        "    clave2: valor2,\n",
        "    clave3: valor3,\n",
        "    ...\n",
        "}\n",
        "\n",
        "dicc3 = {\n",
        "    0: ['soy', 'una', 'lista'],\n",
        "    'tupla': ('soy', 'una', 'tupla'),\n",
        "    ('tupla', 'llave'): 'la tupla es mi llave'\n",
        "}\n",
        "```"
      ],
      "metadata": {
        "id": "Mqn6FaRyK5uv"
      }
    },
    {
      "cell_type": "code",
      "source": [
        "# auto = {'v8', 'Negro', (6, 'blindadas')}\n",
        "# # print(auto)\n",
        "# motor = 'v8'\n",
        "# color = 'Negro'\n",
        "\n",
        "# auto = {\n",
        "#     'motor': 'v8',\n",
        "#     'color': 'Negro',\n",
        "#     'vidrios': (6, 'blindadas'),\n",
        "#     'pasajeros': 4,\n",
        "# }\n",
        "# print(auto)"
      ],
      "metadata": {
        "id": "0hg0n7QGLlcg"
      },
      "execution_count": null,
      "outputs": []
    },
    {
      "cell_type": "markdown",
      "source": [
        "\n",
        "# Acceso, mutabilidad, asignación, agregado de valores"
      ],
      "metadata": {
        "id": "D0aWKe5qMFb2"
      }
    },
    {
      "cell_type": "code",
      "source": [
        "# lista = ['soy', 'una', 'lista']\n",
        "# print(lista[1])\n",
        "# lista[1] = 24\n",
        "# print(lista[1])\n",
        "# auto = {\n",
        "#     'motor': 'v8',\n",
        "#     'color': 'Negro',\n",
        "#     'vidrios': (6, 'blindadas'),\n",
        "#     'pasajeros': 4,\n",
        "# }\n",
        "# print(auto['motor'])\n",
        "# print(auto['canio de escape'])\n",
        "# print(auto.get('motor'))\n",
        "# print(auto.get('canio de escape', input('que valor por defecto queres: ')))\n",
        "# auto['motor'] = 'v12'\n",
        "# print(auto['motor'])\n",
        "# print(auto)\n",
        "# auto['modelo'] = 2016\n",
        "# print(auto)\n",
        "# auto['pasajeros'] += 1\n",
        "# print(auto)\n"
      ],
      "metadata": {
        "id": "Mit72rS8MGPf"
      },
      "execution_count": null,
      "outputs": []
    },
    {
      "cell_type": "markdown",
      "source": [
        "============================================================\n",
        "============================================================\n",
        "# Funciones Diccionarios\n",
        "============================================================\n",
        "============================================================"
      ],
      "metadata": {
        "id": "tb96KcDHMLxS"
      }
    },
    {
      "cell_type": "markdown",
      "source": [
        "# Método update"
      ],
      "metadata": {
        "id": "Qsvt9q6PMP6y"
      }
    },
    {
      "cell_type": "code",
      "source": [
        "# auto = {\n",
        "#     'motor': 'v8',\n",
        "#     'color': 'Negro',\n",
        "#     'vidrios': (6, 'blindadas'),\n",
        "#     'pasajeros': 4,\n",
        "# }\n",
        "# pepe = (1, 2)\n",
        "# auto.update({pepe: 'valor1', 'llave2': 'valor2', 'motor': 'v8'})\n",
        "# print(auto)\n",
        "# auto.update((('llave1', 'valor1'), ('llave2', 'valor2'), ('motor', 'v12')))\n",
        "# print(auto)"
      ],
      "metadata": {
        "id": "c-JUuJ_oMNwD"
      },
      "execution_count": null,
      "outputs": []
    },
    {
      "cell_type": "markdown",
      "source": [
        "\n",
        "# Función len"
      ],
      "metadata": {
        "id": "QA2RRTcmMU0n"
      }
    },
    {
      "cell_type": "code",
      "source": [
        "# auto = {\n",
        "#     'motor': 'v8',\n",
        "#     'color': 'Negro',\n",
        "#     'vidrios': (6, 'blindadas'),\n",
        "#     'pasajeros': 4,\n",
        "# }\n",
        "# print(len(auto))"
      ],
      "metadata": {
        "id": "vaeca0ynMVLt"
      },
      "execution_count": null,
      "outputs": []
    },
    {
      "cell_type": "markdown",
      "source": [
        "\n",
        "# Función del"
      ],
      "metadata": {
        "id": "uEZSsJTaMW1V"
      }
    },
    {
      "cell_type": "code",
      "source": [
        "# auto = {\n",
        "#     'motor': 'v8',\n",
        "#     'color': 'Negro',\n",
        "#     'vidrios': (6, 'blindadas'),\n",
        "#     'pasajeros': 4,\n",
        "# }\n",
        "# del auto['color']\n",
        "# # del auto['ricardo']\n",
        "# print(auto)"
      ],
      "metadata": {
        "id": "Qiq0IEF3MXgM"
      },
      "execution_count": null,
      "outputs": []
    },
    {
      "cell_type": "markdown",
      "source": [
        "\n",
        "# Operador in"
      ],
      "metadata": {
        "id": "oClxyqY_MYtU"
      }
    },
    {
      "cell_type": "code",
      "source": [
        "# auto = {\n",
        "#     'motor': 'v8',\n",
        "#     'color': 'Negro',\n",
        "#     'vidrios': (6, 'blindadas'),\n",
        "#     'pasajeros': 4,\n",
        "# }\n",
        "# print('motor' in auto)\n",
        "# print('v12' in auto)\n",
        "# print('v12' not in auto)"
      ],
      "metadata": {
        "id": "JWKz_jcRMZ2s"
      },
      "execution_count": null,
      "outputs": []
    },
    {
      "cell_type": "markdown",
      "source": [
        "\n",
        "# Método clear"
      ],
      "metadata": {
        "id": "VUs1276BMbZa"
      }
    },
    {
      "cell_type": "code",
      "source": [
        "# auto = {\n",
        "#     'motor': 'v8',\n",
        "#     'color': 'Negro',\n",
        "#     'vidrios': (6, 'blindadas'),\n",
        "#     'pasajeros': 4,\n",
        "# }\n",
        "# auto.clear()\n",
        "# auto = {}\n",
        "# print(auto)"
      ],
      "metadata": {
        "id": "Ev3JyjI5Mcg2"
      },
      "execution_count": null,
      "outputs": []
    },
    {
      "cell_type": "markdown",
      "source": [
        "\n",
        "# Método pop"
      ],
      "metadata": {
        "id": "w3BbuwvrMdhD"
      }
    },
    {
      "cell_type": "code",
      "source": [
        "# print(auto)\n",
        "# valor = auto.pop()\n",
        "# print(auto)\n",
        "# print(valor)\n",
        "\n",
        "\n",
        "# print(auto)\n",
        "# valor = auto.pop('llave1')\n",
        "# print(auto)\n",
        "# print(valor)\n",
        "\n",
        "\n",
        "# print(auto)\n",
        "# valor = auto.pop('ricardo')\n",
        "# print(auto)\n",
        "# print(valor)\n",
        "\n",
        "\n",
        "# print(auto)\n",
        "# valor = auto.pop('ricardo', 'este valor sale por defecto si no se encuentra la llave buscada')\n",
        "# print(auto)\n",
        "# print(valor)\n",
        "\n",
        "\n",
        "\n",
        "# valor = auto.pop('ricardo', input('dame un dato'))\n",
        "# valor = auto.pop('color', 'la llave color no se encontro')\n",
        "# valor = auto.pop(input('dame la key...?'), [1,2,3,45])\n",
        "# print(auto)\n",
        "# print(valor)"
      ],
      "metadata": {
        "id": "nGH1UoaLMeeD"
      },
      "execution_count": null,
      "outputs": []
    },
    {
      "cell_type": "markdown",
      "source": [
        "# Ej 1 Dics\n",
        "Deberás crear un diccionario que almacene a los ganadores de la Copa Mundial de la FIFA desde el año 1990 al 2018. Y mostrarlo por pantalla.*texto en cursiva*\n",
        "\n",
        "Datos para la resolución:\n",
        "\n",
        "1990: 'Alemania',\n",
        "\n",
        "1994: 'Brasil',\n",
        "\n",
        "1998: 'Francia',\n",
        "\n",
        "2002: 'Brasil',\n",
        "\n",
        "2006: 'Italia',\n",
        "\n",
        "2010: 'España',\n",
        "\n",
        "2014: 'Alemania'\n",
        "\n",
        "2018: 'Francia'\n",
        "\n"
      ],
      "metadata": {
        "id": "Zn_nAPUQ0x10"
      }
    },
    {
      "cell_type": "code",
      "source": [],
      "metadata": {
        "id": "Nv32feaK0xeX"
      },
      "execution_count": null,
      "outputs": []
    },
    {
      "cell_type": "markdown",
      "source": [
        "# Ej 2 Dics\n",
        "Programa las siguientes instrucciones de forma ordenada sobre la variable animales:\n",
        "1. Inicialmente el diccionario es: animales = {\"elefante\": \"\"}\n",
        "2. Añade al diccionario las claves perro, tigre y mono con sus respectivos valores “Bobby”,  “Pepe” y “Homero”\n",
        "3. Modificá las claves elefante y delfin con los valores “Trompis”y “Manolo” respectivamente"
      ],
      "metadata": {
        "id": "uc8b811YLp-a"
      }
    },
    {
      "cell_type": "code",
      "source": [],
      "metadata": {
        "id": "om_ZIP-_maQV"
      },
      "execution_count": null,
      "outputs": []
    }
  ]
}