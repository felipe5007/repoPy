{
  "cells": [
    {
      "cell_type": "markdown",
      "metadata": {},
      "source": [
        "## Ejercicio 1 (10min)"
      ]
    },
    {
      "cell_type": "code",
      "execution_count": 1,
      "metadata": {
        "id": "oZRwJWz7Oxi_"
      },
      "outputs": [
        {
          "name": "stdout",
          "output_type": "stream",
          "text": [
            "[False, True, True, True, True]\n"
          ]
        }
      ],
      "source": [
        "expresiones = [\n",
        "    False == True,\n",
        "    10 >= 2*4,\n",
        "    33/3 == 11,\n",
        "    True > False,\n",
        "    True*5 == 2.5*2\n",
        "]\n",
        "print(expresiones)"
      ]
    },
    {
      "cell_type": "markdown",
      "metadata": {
        "id": "uAt2VNhusTNs"
      },
      "source": [
        "## Ejercicio 2 (10min)"
      ]
    },
    {
      "cell_type": "code",
      "execution_count": null,
      "metadata": {
        "colab": {
          "base_uri": "https://localhost:8080/"
        },
        "id": "cIGtCACVO4on",
        "outputId": "da35b790-9bef-4e7e-885c-451d37f63850"
      },
      "outputs": [
        {
          "name": "stdout",
          "output_type": "stream",
          "text": [
            "[True, True, True, True, True, False]\n"
          ]
        }
      ],
      "source": [
        "expresiones = [\n",
        "    not False,\n",
        "    not 3 == 5,\n",
        "    33/3 == 11 and 5 > 2,\n",
        "    True or False,\n",
        "    True*5 == 2.5*2 or 123 >= 23,\n",
        "    12 > 7 and True < False\n",
        "]\n",
        "print(expresiones)"
      ]
    },
    {
      "cell_type": "markdown",
      "metadata": {
        "id": "RXHwTRNJtpSr"
      },
      "source": [
        "## Ejercicio 3 (10min)\n",
        "\n",
        "A partir de dos variables llamadas NOMBRE y EDAD, debes crear una variable que almacene si se cumplen todas las siguientes condiciones, encadenando operadores lógicos en una sola línea:\n",
        "\n",
        "- NOMBRE sea diferente de cuatro asteriscos “****”\n",
        "- EDAD sea mayor que 5 y a su vez menor que 20\n",
        "- Que la longitud de NOMBRE sea mayor o igual a 4  pero a la vez menor que 8\n",
        "- EDAD multiplicada por 3 sea mayor que 35\n",
        "\n",
        "\n",
        "Desde un input conseguir las variables:\n",
        "\n",
        "nombre = INPUT!!!\n",
        "\n",
        "edad = INPUT!!!!\n"
      ]
    },
    {
      "cell_type": "code",
      "execution_count": null,
      "metadata": {
        "id": "ZxtMcsPgB4AC"
      },
      "outputs": [],
      "source": [
        "nombre = input('Ingresa tu nombre: ')\n",
        "edad = int(input('Ingresa tu edad: '))\n",
        "\n",
        "resultado = nombre != '****' and 5 < edad < 20 and 4 <= len(nombre) < 8 and edad * 3 > 35\n",
        "\n",
        "print('Las condiciones dan como resultado:', resultado)"
      ]
    },
    {
      "cell_type": "code",
      "execution_count": null,
      "metadata": {
        "id": "Pbx3oEnOtyzC"
      },
      "outputs": [],
      "source": [
        "nombre = input('Ingrese nombre: ')\n",
        "edad = int(input('Ingrese edad: '))\n",
        "\n",
        "resultado = nombre != '****' and 5 < edad < 20 and 8 > len(nombre) >= 4 and edad * 3 > 35\n",
        "\n",
        "print('Se cumplen las condiciones?', resultado)"
      ]
    },
    {
      "cell_type": "code",
      "execution_count": null,
      "metadata": {
        "id": "ZhAY1VY8HfJ6"
      },
      "outputs": [],
      "source": [
        "bool('asda')"
      ]
    },
    {
      "cell_type": "code",
      "execution_count": null,
      "metadata": {
        "id": "xxyKsLJtKolx"
      },
      "outputs": [],
      "source": [
        "# **=\n",
        "var1 **= 2 # var1 = var1 ** 2\n",
        "print(var1)"
      ]
    },
    {
      "cell_type": "markdown",
      "metadata": {
        "id": "ZF1v0nxSK4yZ"
      },
      "source": [
        "Escribir un programa que almacene la cadena de caracteres contraseña en una variable, pregunte al usuario por la contraseña e imprima por pantalla si la contraseña introducida por el usuario coincide con la guardada en la variable."
      ]
    },
    {
      "cell_type": "code",
      "execution_count": null,
      "metadata": {
        "id": "73CWKiv3F5rB"
      },
      "outputs": [],
      "source": [
        "password = 'pass123'\n",
        "inputpass = input('ingresa tu contraseña: ')\n",
        "\n",
        "print(password == inputpass)"
      ]
    },
    {
      "cell_type": "code",
      "execution_count": null,
      "metadata": {
        "id": "00lUwWQWK4bH"
      },
      "outputs": [],
      "source": [
        "contrasenia = 'pass123456'\n",
        "pass_ingresada = input('Ingresa la contraseña: ')\n",
        "print(contrasenia == pass_ingresada)"
      ]
    },
    {
      "cell_type": "markdown",
      "metadata": {
        "id": "kzXaLPgmNflb"
      },
      "source": [
        "Escribir un programa que pida al usuario un número entero y muestre por pantalla si es par o impar."
      ]
    },
    {
      "cell_type": "code",
      "execution_count": null,
      "metadata": {
        "id": "6iThnj2QMyAM"
      },
      "outputs": [],
      "source": [
        "numeroEntero = int(input('escriba un numero entero'))\n",
        "print(numeroEntero%2==0)\n",
        "\n",
        "\n",
        "\n",
        "\n",
        "\n",
        "\n",
        "# numero = float(input('Ingresa un numero entero: '))\n",
        "# print('El numero ingresado por pantalla es par?', numero % 2 == 0)"
      ]
    }
  ],
  "metadata": {
    "colab": {
      "provenance": []
    },
    "kernelspec": {
      "display_name": "Python 3",
      "name": "python3"
    },
    "language_info": {
      "codemirror_mode": {
        "name": "ipython",
        "version": 3
      },
      "file_extension": ".py",
      "mimetype": "text/x-python",
      "name": "python",
      "nbconvert_exporter": "python",
      "pygments_lexer": "ipython3",
      "version": "3.11.4"
    }
  },
  "nbformat": 4,
  "nbformat_minor": 0
}
