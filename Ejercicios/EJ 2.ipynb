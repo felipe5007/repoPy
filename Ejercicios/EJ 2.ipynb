{
  "cells": [
    {
      "cell_type": "markdown",
      "metadata": {},
      "source": [
        "Descripción de la actividad.\n",
        "\n",
        "En esta actividad, podrás poner en práctica todo lo aprendido durante la sesión.  \n",
        "\n",
        "Dadas dos listas LISTA1 y LISTA2 debes realizar las siguientes tareas:\n",
        "\n",
        "- Añade a la LISTA1 el int 456789 y luego el string “Hola Mundo”\n",
        "- Luego añade a la LISTA2 el string “Hola y Adios” y luego el int 5555\n",
        "- Genera una LISTA3 con todos los elementos de la LISTA1 sin considerar el último elemento\n",
        "- Genera una LISTA4 con todos los elementos de la LISTA2 menos el primero y el último elemento\n",
        "- Finalmente, genera una LISTA5 con los elementos de la LISTA4 y de la LISTA3"
      ]
    },
    {
      "cell_type": "code",
      "execution_count": 3,
      "metadata": {},
      "outputs": [
        {
          "ename": "SyntaxError",
          "evalue": "invalid syntax (3712360481.py, line 6)",
          "output_type": "error",
          "traceback": [
            "\u001b[1;36m  Cell \u001b[1;32mIn[3], line 6\u001b[1;36m\u001b[0m\n\u001b[1;33m    lista3 = lista1(:-1)\u001b[0m\n\u001b[1;37m                    ^\u001b[0m\n\u001b[1;31mSyntaxError\u001b[0m\u001b[1;31m:\u001b[0m invalid syntax\n"
          ]
        }
      ],
      "source": [
        "lista1 =  []\n",
        "lista2 = []\n",
        "\n",
        "lista1 = [45679, \"Hola Mundo\"]\n",
        "lista2 = [\"Hola y Adios\", 5555]\n",
        "lista3 = lista1(:-1)\n",
        "print(lista3)"
      ]
    },
    {
      "cell_type": "markdown",
      "metadata": {
        "id": "oBu4rWCgPKAC"
      },
      "source": [
        "Descripción de la actividad.\n",
        "A partir de una variable llamada tupla, imprimir por pantalla de forma ordenada, lo siguiente:\n",
        "1. El último ítem de tupla\n",
        "2. El número de ítems de tupla\n",
        "3. La posición donde se encuentra el ítem 87 de tupla\n",
        "4. Una lista con los últimos tres ítems de tupla\n",
        "5. Un ítem que haya en la posición 8 de tupla\n",
        "6. El número de veces que el ítem 7 aparece en tupla\n",
        "\n",
        "Copia esta tupla para iniciar el ejercicio:\n",
        "tupla = (8, 15, 4, 39, 5, 89, 87,  19, 7, -755, 88, 123, 2, 11, 15, 9, 355)\n"
      ]
    },
    {
      "cell_type": "code",
      "execution_count": null,
      "metadata": {},
      "outputs": [],
      "source": [
        "tupla = (8, 15, 4, 39, 5, 89, 87,  19, 7, -755, 88, 123, 2, 11, 15, 9, 355)\n",
        "\n"
      ]
    },
    {
      "cell_type": "markdown",
      "metadata": {},
      "source": [
        " El siguiente código pretende realizar una media entre 3 números, pero no funciona correctamente. ¿Eres capaz de identificar el problema y solucionarlo?\n"
      ]
    },
    {
      "cell_type": "code",
      "execution_count": 8,
      "metadata": {},
      "outputs": [
        {
          "name": "stdout",
          "output_type": "stream",
          "text": [
            "La nota media es 6.0\n"
          ]
        }
      ],
      "source": [
        "numero_1 = 9\n",
        "numero_2 = 3    \n",
        "numero_3 = 6\n",
        "\n",
        "media = (numero_1 + numero_2 + numero_3) / 3\n",
        "print(\"La nota media es\", media)\n"
      ]
    },
    {
      "cell_type": "markdown",
      "metadata": {},
      "source": [
        "A partir del ejercicio anterior, desarrolla un programa para calcular la nota final. Para ello vamos a suponer que cada número es una nota y que queremos obtener la nota media. Cada nota tiene un valor porcentual:\n",
        "\n",
        "La primera nota vale un 15% del total\n",
        "La segunda nota vale un 35% del total\n",
        "La tercera nota vale un 50% del total\n",
        "\n",
        "Ejemplos:\n",
        "nota_1 = 10\n",
        "nota_2 = 7\n",
        "nota_3 = 4\n"
      ]
    },
    {
      "cell_type": "code",
      "execution_count": 9,
      "metadata": {},
      "outputs": [
        {
          "name": "stdout",
          "output_type": "stream",
          "text": [
            "5.949999999999999\n"
          ]
        }
      ],
      "source": [
        "nota_1 = 10\n",
        "nota_2 = 7\n",
        "nota_3 = 4\n",
        "\n",
        "nota_1 = nota_1 * 0.15\n",
        "nota_2 = nota_2 * 0.35\n",
        "nota_3 = nota_3 * 0.50\n",
        "\n",
        "nota_final = (nota_1 + nota_2 + nota_3)\n",
        "print(nota_final)"
      ]
    },
    {
      "cell_type": "markdown",
      "metadata": {},
      "source": [
        "La siguiente matriz (o lista con listas anidadas) debe cumplir una condición: en cada fila el cuarto elemento siempre debe ser el resultado de sumar los tres primeros. ¿Eres capaz de modificar las sumas incorrectas utilizando la técnica del slicing?\n",
        "\n",
        "\n",
        "🖐 Ayuda:  La función llamada sum(lista) devuelve una suma de todos los elementos de la lista\n",
        "\n",
        "Partirás de: \n",
        "matriz = [ \n",
        "    [1, 5, 1],\n",
        "    [2, 1, 2],\n",
        "    [3, 0, 1],\n",
        "    [1, 4, 4]\n",
        "]\n",
        "Debes llegar a: \n",
        "matriz = [ \n",
        "    [1, 5, 1, 7],\n",
        "    [2, 1, 2, 5],\n",
        "    [3, 0, 1, 4],\n",
        "    [1, 4, 4, 9]\n",
        "]\n"
      ]
    },
    {
      "cell_type": "code",
      "execution_count": null,
      "metadata": {},
      "outputs": [],
      "source": [
        "matriz = [ \n",
        "    [1, 5, 1],\n",
        "    [2, 1, 2],\n",
        "    [3, 0, 1],\n",
        "    [1, 4, 4]\n",
        "]\n",
        "\n",
        "##  Debes llegar a: \n",
        "## matriz = [ \n",
        "##    [1, 5, 1, 7],\n",
        "##    [2, 1, 2, 5],\n",
        "##    [3, 0, 1, 4],\n",
        "##    [1, 4, 4, 9]\n",
        "## ]\n"
      ]
    },
    {
      "cell_type": "markdown",
      "metadata": {},
      "source": []
    },
    {
      "cell_type": "markdown",
      "metadata": {},
      "source": [
        "DESAFIO DE TUPLAS\n",
        "\n",
        "Descripción de la actividad. \n",
        "A partir de una variable llamada tupla, imprimir por pantalla de forma ordenada, lo siguiente:\u000b1. El último ítem de tupla\n",
        "2. El número de ítems de tupla\n",
        "3. La posición donde se encuentra el ítem 87 de tupla\n",
        "4. Una lista con los últimos tres ítems de tupla\n",
        "5. Un ítem que haya en la posición 8 de tupla\n",
        "6. El número de veces que el ítem 7 aparece en tupla\n",
        "\n",
        "Copia esta tupla para iniciar el ejercicio:\n",
        "tupla = (8, 15, 4, 39, 5, 89, 87,  19, 7, -755, 88, 123, 2, 11, 15, 9, 355)\n"
      ]
    },
    {
      "cell_type": "code",
      "execution_count": 10,
      "metadata": {},
      "outputs": [
        {
          "ename": "NameError",
          "evalue": "name 'pint' is not defined",
          "output_type": "error",
          "traceback": [
            "\u001b[1;31m---------------------------------------------------------------------------\u001b[0m",
            "\u001b[1;31mNameError\u001b[0m                                 Traceback (most recent call last)",
            "Cell \u001b[1;32mIn[10], line 1\u001b[0m\n\u001b[1;32m----> 1\u001b[0m \u001b[43mpint\u001b[49m(\u001b[38;5;124m\"\u001b[39m\u001b[38;5;124mhola\u001b[39m\u001b[38;5;124m\"\u001b[39m)\n",
            "\u001b[1;31mNameError\u001b[0m: name 'pint' is not defined"
          ]
        }
      ],
      "source": []
    }
  ],
  "metadata": {
    "colab": {
      "provenance": []
    },
    "kernelspec": {
      "display_name": "Python 3",
      "name": "python3"
    },
    "language_info": {
      "codemirror_mode": {
        "name": "ipython",
        "version": 3
      },
      "file_extension": ".py",
      "mimetype": "text/x-python",
      "name": "python",
      "nbconvert_exporter": "python",
      "pygments_lexer": "ipython3",
      "version": "3.11.4"
    }
  },
  "nbformat": 4,
  "nbformat_minor": 0
}
