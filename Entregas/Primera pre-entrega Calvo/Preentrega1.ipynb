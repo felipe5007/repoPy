{
 "cells": [
  {
   "cell_type": "markdown",
   "metadata": {},
   "source": [
    "**Primera pre-entrega**\n",
    "\n",
    "*Objetivo*\n",
    "\n",
    "Practicar el concepto de funciones. Preparar la parte lógica para el registro de usuarios.\n",
    "\n",
    "*Consigna*\n",
    "\n",
    "Crear un programa que permita emular el registro y almacenamiento de usuarios en una base de datos. Crear el programa utilizando el concepto de funciones, diccionarios, bucles y condicionales.\n",
    "\n",
    "*Formato*\n",
    "\n",
    "El proyecto debe compartirse utilizando Colab bajo el nombre “Primera pre-entrega+Apellido”.\n",
    "\n",
    "*Se debe entregar*\n",
    "\n",
    "Se debe entregar todo el programa.\n",
    "\n",
    "\n",
    "*Sugerencias*\n",
    "\n",
    "- El formato de registro es: Nombre de usuario y Contraseña.\n",
    "- Utilizar una función para almacenar la información y otra función para mostrar la información.\n",
    "- Utilizar otra función para el login de usuarios, comprobando que la contraseña coincida con el usuario.\n",
    "- Utilizar un diccionario para almacenar dicha información, con el par usuario-contraseña (clave-valor).\n",
    "\n",
    "*Adicional*\n",
    "\n",
    "Utilizando los conceptos de la clase 8, guarde la información en un archivo de texto dentro de su Drive.\"\n",
    "\n",
    "\n"
   ]
  },
  {
   "cell_type": "code",
   "execution_count": null,
   "metadata": {},
   "outputs": [],
   "source": [
    "BD = {\n",
    "    \n",
    "}\n",
    "\n",
    "registro(BD)\n",
    "\n",
    "\n",
    "def registro():\n",
    "    usuario = \n",
    "    \n",
    "def almacenar():\n",
    "    \n",
    "\n",
    "leerData"
   ]
  },
  {
   "cell_type": "code",
   "execution_count": null,
   "metadata": {},
   "outputs": [],
   "source": []
  }
 ],
 "metadata": {
  "language_info": {
   "name": "python"
  }
 },
 "nbformat": 4,
 "nbformat_minor": 2
}
